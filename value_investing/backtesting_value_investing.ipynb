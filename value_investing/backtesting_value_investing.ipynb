{
 "cells": [
  {
   "cell_type": "markdown",
   "id": "8efddc72",
   "metadata": {},
   "source": [
    "## Backtesting value investing ##"
   ]
  },
  {
   "cell_type": "code",
   "execution_count": null,
   "id": "4b82de5f",
   "metadata": {},
   "outputs": [],
   "source": [
    "import pandas as pd\n",
    "from pandasql import sqldf\n",
    "import sqlalchemy\n",
    "import numpy as np\n",
    "# Helper function to run SQL queries on DataFrames\n",
    "def sql(q): \n",
    "    return sqldf(q, globals())"
   ]
  },
  {
   "cell_type": "code",
   "execution_count": null,
   "id": "f358d07c",
   "metadata": {},
   "outputs": [],
   "source": []
  }
 ],
 "metadata": {
  "kernelspec": {
   "display_name": "pap_finance",
   "language": "python",
   "name": "python3"
  },
  "language_info": {
   "name": "python",
   "version": "3.12.11"
  }
 },
 "nbformat": 4,
 "nbformat_minor": 5
}
