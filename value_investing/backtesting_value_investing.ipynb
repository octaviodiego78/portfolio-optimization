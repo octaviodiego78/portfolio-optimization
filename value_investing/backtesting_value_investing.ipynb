{
 "cells": [
  {
   "cell_type": "markdown",
   "id": "8efddc72",
   "metadata": {},
   "source": [
    "## Backtesting value investing ##"
   ]
  },
  {
   "cell_type": "code",
   "execution_count": 1,
   "id": "4b82de5f",
   "metadata": {},
   "outputs": [],
   "source": [
    "import pandas as pd\n",
    "from pandasql import sqldf\n",
    "import sqlalchemy\n",
    "import numpy as np\n",
    "# Helper function to run SQL queries on DataFrames\n",
    "def sql(q): \n",
    "    return sqldf(q, globals())\n",
    "import os\n",
    "import itertools\n",
    "import plotly"
   ]
  },
  {
   "cell_type": "code",
   "execution_count": 2,
   "id": "f358d07c",
   "metadata": {},
   "outputs": [],
   "source": [
    "df = pd.read_csv('results.csv')"
   ]
  },
  {
   "cell_type": "code",
   "execution_count": 3,
   "id": "1ddd6ed9",
   "metadata": {},
   "outputs": [],
   "source": [
    "# Example 1: Get the first's quarter record for each ticker\n",
    "query1 = \"\"\"\n",
    "SELECT \n",
    "    ticker,\n",
    "    date,\n",
    "    eps,\n",
    "    per,\n",
    "    ebitda,\n",
    "    pbv,\n",
    "    solvency,\n",
    "    roe,\n",
    "    fcf,\n",
    "    shares,\n",
    "    prices\n",
    "FROM df\n",
    "\"\"\""
   ]
  },
  {
   "cell_type": "code",
   "execution_count": 4,
   "id": "7e48823e",
   "metadata": {},
   "outputs": [],
   "source": [
    "data = sql(query1)"
   ]
  },
  {
   "cell_type": "code",
   "execution_count": 5,
   "id": "1126330b",
   "metadata": {},
   "outputs": [
    {
     "data": {
      "text/html": [
       "<div>\n",
       "<style scoped>\n",
       "    .dataframe tbody tr th:only-of-type {\n",
       "        vertical-align: middle;\n",
       "    }\n",
       "\n",
       "    .dataframe tbody tr th {\n",
       "        vertical-align: top;\n",
       "    }\n",
       "\n",
       "    .dataframe thead th {\n",
       "        text-align: right;\n",
       "    }\n",
       "</style>\n",
       "<table border=\"1\" class=\"dataframe\">\n",
       "  <thead>\n",
       "    <tr style=\"text-align: right;\">\n",
       "      <th></th>\n",
       "      <th>ticker</th>\n",
       "      <th>date</th>\n",
       "      <th>eps</th>\n",
       "      <th>per</th>\n",
       "      <th>ebitda</th>\n",
       "      <th>pbv</th>\n",
       "      <th>solvency</th>\n",
       "      <th>roe</th>\n",
       "      <th>fcf</th>\n",
       "      <th>shares</th>\n",
       "      <th>prices</th>\n",
       "    </tr>\n",
       "  </thead>\n",
       "  <tbody>\n",
       "    <tr>\n",
       "      <th>0</th>\n",
       "      <td>AAPL</td>\n",
       "      <td>2022-09-30</td>\n",
       "      <td>6.259821838783072</td>\n",
       "      <td>21.734218824498264</td>\n",
       "      <td>130541000000.0</td>\n",
       "      <td>42.80747239780155</td>\n",
       "      <td>2.290884648855061</td>\n",
       "      <td>196.95887275023682</td>\n",
       "      <td>-65518000000.0</td>\n",
       "      <td>15943425000.0</td>\n",
       "      <td>136.05233764648438</td>\n",
       "    </tr>\n",
       "    <tr>\n",
       "      <th>1</th>\n",
       "      <td>AAPL</td>\n",
       "      <td>2023-09-30</td>\n",
       "      <td>6.237596109751595</td>\n",
       "      <td>27.58509022734883</td>\n",
       "      <td>125820000000.0</td>\n",
       "      <td>43.05370943587197</td>\n",
       "      <td>2.426452776171993</td>\n",
       "      <td>156.07601454639075</td>\n",
       "      <td>-85213000000.0</td>\n",
       "      <td>15550061000.0</td>\n",
       "      <td>172.0646514892578</td>\n",
       "    </tr>\n",
       "  </tbody>\n",
       "</table>\n",
       "</div>"
      ],
      "text/plain": [
       "  ticker        date                eps                 per          ebitda  \\\n",
       "0   AAPL  2022-09-30  6.259821838783072  21.734218824498264  130541000000.0   \n",
       "1   AAPL  2023-09-30  6.237596109751595   27.58509022734883  125820000000.0   \n",
       "\n",
       "                 pbv           solvency                 roe             fcf  \\\n",
       "0  42.80747239780155  2.290884648855061  196.95887275023682  -65518000000.0   \n",
       "1  43.05370943587197  2.426452776171993  156.07601454639075  -85213000000.0   \n",
       "\n",
       "          shares              prices  \n",
       "0  15943425000.0  136.05233764648438  \n",
       "1  15550061000.0   172.0646514892578  "
      ]
     },
     "execution_count": 5,
     "metadata": {},
     "output_type": "execute_result"
    }
   ],
   "source": [
    "data.head(2)"
   ]
  },
  {
   "cell_type": "code",
   "execution_count": 6,
   "id": "57cb94c5",
   "metadata": {},
   "outputs": [],
   "source": [
    "#cleaning \n",
    "data = data[data.eps != 'eps']\n",
    "data = data[data.eps.notna()]\n",
    "data = data[data.per.notna()]\n",
    "data = data[data.ebitda.notna()]\n",
    "data = data[data.pbv.notna()]\n",
    "data = data[data.solvency.notna()]\n",
    "data = data[data.roe.notna()]\n",
    "data = data[data.fcf.notna()]\n",
    "data = data[data.prices.notna()]\n",
    "data.reset_index(inplace=True)\n",
    "data.eps = data.eps.astype(float)\n",
    "data.per = data.per.astype(float)\n",
    "data.ebitda = data.ebitda.astype(float)\n",
    "data.pbv = data.pbv.astype(float)\n",
    "data.solvency = data.solvency.astype(float)\n",
    "data.roe = data.roe.astype(float)\n",
    "data.fcf = data.fcf.astype(float)\n",
    "data.shares = data.shares.astype(float)\n",
    "data.prices = data.prices.astype(float)\n",
    "data.sort_values(by=['ticker', 'date'], ascending=True, inplace=True)"
   ]
  },
  {
   "cell_type": "code",
   "execution_count": 7,
   "id": "0a86fd07",
   "metadata": {},
   "outputs": [],
   "source": [
    "#Add 2-quarter returns\n",
    "data['2qf_price'] = data.groupby('ticker')['prices'].shift(-2)\n",
    "data['2qf_returns'] = data['2qf_price'] / data['prices'] - 1"
   ]
  },
  {
   "cell_type": "code",
   "execution_count": 8,
   "id": "23c40011",
   "metadata": {},
   "outputs": [],
   "source": [
    "#Getting first quarter record for each ticker\n",
    "firstq = data.groupby('ticker').first()"
   ]
  },
  {
   "cell_type": "code",
   "execution_count": 9,
   "id": "72d09852",
   "metadata": {},
   "outputs": [
    {
     "data": {
      "text/html": [
       "<div>\n",
       "<style scoped>\n",
       "    .dataframe tbody tr th:only-of-type {\n",
       "        vertical-align: middle;\n",
       "    }\n",
       "\n",
       "    .dataframe tbody tr th {\n",
       "        vertical-align: top;\n",
       "    }\n",
       "\n",
       "    .dataframe thead th {\n",
       "        text-align: right;\n",
       "    }\n",
       "</style>\n",
       "<table border=\"1\" class=\"dataframe\">\n",
       "  <thead>\n",
       "    <tr style=\"text-align: right;\">\n",
       "      <th></th>\n",
       "      <th>index</th>\n",
       "      <th>date</th>\n",
       "      <th>eps</th>\n",
       "      <th>per</th>\n",
       "      <th>ebitda</th>\n",
       "      <th>pbv</th>\n",
       "      <th>solvency</th>\n",
       "      <th>roe</th>\n",
       "      <th>fcf</th>\n",
       "      <th>shares</th>\n",
       "      <th>prices</th>\n",
       "      <th>2qf_price</th>\n",
       "      <th>2qf_returns</th>\n",
       "    </tr>\n",
       "    <tr>\n",
       "      <th>ticker</th>\n",
       "      <th></th>\n",
       "      <th></th>\n",
       "      <th></th>\n",
       "      <th></th>\n",
       "      <th></th>\n",
       "      <th></th>\n",
       "      <th></th>\n",
       "      <th></th>\n",
       "      <th></th>\n",
       "      <th></th>\n",
       "      <th></th>\n",
       "      <th></th>\n",
       "      <th></th>\n",
       "    </tr>\n",
       "  </thead>\n",
       "  <tbody>\n",
       "    <tr>\n",
       "      <th>A</th>\n",
       "      <td>938</td>\n",
       "      <td>2022-10-31</td>\n",
       "      <td>4.250847</td>\n",
       "      <td>31.842172</td>\n",
       "      <td>1.905000e+09</td>\n",
       "      <td>7.526877</td>\n",
       "      <td>5.659323</td>\n",
       "      <td>23.638077</td>\n",
       "      <td>-7.042000e+09</td>\n",
       "      <td>2.950000e+08</td>\n",
       "      <td>135.356216</td>\n",
       "      <td>129.261505</td>\n",
       "      <td>-0.045027</td>\n",
       "    </tr>\n",
       "    <tr>\n",
       "      <th>AAPL</th>\n",
       "      <td>0</td>\n",
       "      <td>2022-09-30</td>\n",
       "      <td>6.259822</td>\n",
       "      <td>21.734219</td>\n",
       "      <td>1.305410e+11</td>\n",
       "      <td>42.807472</td>\n",
       "      <td>2.290885</td>\n",
       "      <td>196.958873</td>\n",
       "      <td>-6.551800e+10</td>\n",
       "      <td>1.594342e+10</td>\n",
       "      <td>136.052338</td>\n",
       "      <td>231.920639</td>\n",
       "      <td>0.704643</td>\n",
       "    </tr>\n",
       "    <tr>\n",
       "      <th>ABBV</th>\n",
       "      <td>99</td>\n",
       "      <td>2022-12-31</td>\n",
       "      <td>6.659578</td>\n",
       "      <td>21.845802</td>\n",
       "      <td>2.417400e+10</td>\n",
       "      <td>14.917540</td>\n",
       "      <td>4.699201</td>\n",
       "      <td>68.285615</td>\n",
       "      <td>-7.585700e+10</td>\n",
       "      <td>1.769181e+09</td>\n",
       "      <td>145.483810</td>\n",
       "      <td>171.696518</td>\n",
       "      <td>0.180176</td>\n",
       "    </tr>\n",
       "  </tbody>\n",
       "</table>\n",
       "</div>"
      ],
      "text/plain": [
       "        index        date       eps        per        ebitda        pbv  \\\n",
       "ticker                                                                    \n",
       "A         938  2022-10-31  4.250847  31.842172  1.905000e+09   7.526877   \n",
       "AAPL        0  2022-09-30  6.259822  21.734219  1.305410e+11  42.807472   \n",
       "ABBV       99  2022-12-31  6.659578  21.845802  2.417400e+10  14.917540   \n",
       "\n",
       "        solvency         roe           fcf        shares      prices  \\\n",
       "ticker                                                                 \n",
       "A       5.659323   23.638077 -7.042000e+09  2.950000e+08  135.356216   \n",
       "AAPL    2.290885  196.958873 -6.551800e+10  1.594342e+10  136.052338   \n",
       "ABBV    4.699201   68.285615 -7.585700e+10  1.769181e+09  145.483810   \n",
       "\n",
       "         2qf_price  2qf_returns  \n",
       "ticker                           \n",
       "A       129.261505    -0.045027  \n",
       "AAPL    231.920639     0.704643  \n",
       "ABBV    171.696518     0.180176  "
      ]
     },
     "execution_count": 9,
     "metadata": {},
     "output_type": "execute_result"
    }
   ],
   "source": [
    "firstq.head(3)"
   ]
  },
  {
   "cell_type": "code",
   "execution_count": 10,
   "id": "e764c526",
   "metadata": {},
   "outputs": [],
   "source": [
    "#preprocessing\n",
    "\n",
    "results = firstq.reset_index()\n",
    "\n",
    "#market cap for normalization\n",
    "results['market_cap'] = results['shares'] * results['prices']\n",
    "\n",
    "# --- Normalize metrics by size/price --- to compare companies of different sizes\n",
    "results['eps_norm'] = results['eps'] / results['prices']             # earnings yield\n",
    "results['ebitda_norm'] = results['ebitda'] / results['market_cap']          # EBITDA/MarketCap\n",
    "results['fcf_norm'] = results['fcf'] / results['market_cap']                # FCF/MarketCap\n",
    "\n",
    "# This metrcis are already ratio metrics\n",
    "results['per'] = results['per']\n",
    "results['pbv'] = results['pbv']\n",
    "results['solvency'] = results['solvency']\n",
    "results['roe'] = results['roe']\n",
    "\n",
    "#We'll use z-score normalization as an alternative method to ranks\n",
    "def zscore(series):\n",
    "    return (series - series.mean()) / (series.std(ddof=0) if series.std(ddof=0) != 0 else 1)\n",
    "\n",
    "# Compute z-scores for each metric\n",
    "results['z_eps'] = zscore(results['eps_norm'])\n",
    "results['z_per'] = -1*zscore(results['per'])\n",
    "results['z_ebitda'] = zscore(results['ebitda_norm'])\n",
    "results['z_pbv'] = -1*zscore(results['pbv'])\n",
    "results['z_solvency'] = zscore(results['solvency'])\n",
    "results['z_roe'] = zscore(results['roe'])\n",
    "results['z_fcf'] = zscore(results['fcf_norm'])"
   ]
  },
  {
   "cell_type": "markdown",
   "id": "fc6b8d9e",
   "metadata": {},
   "source": [
    "## Testing with manual approach ##"
   ]
  },
  {
   "cell_type": "code",
   "execution_count": 11,
   "id": "9838faef",
   "metadata": {},
   "outputs": [],
   "source": [
    "results['avg_zscore'] = (\n",
    "    results['z_eps'] +\n",
    "    results['z_per'] +\n",
    "    results['z_ebitda'] +\n",
    "    results['z_pbv'] +\n",
    "    results['z_solvency'] +\n",
    "    results['z_roe'] +\n",
    "    results['z_fcf']\n",
    ") / 7\n",
    "\n",
    "# --- Rank companies by z-score (higher = better fundamentals) ---\n",
    "results['avg_zscore_rank'] = results['avg_zscore'].rank(ascending=False)\n",
    "\n",
    "# --- Sort final results by z-score rank (best to worst) ---\n",
    "results = results.sort_values(by='avg_zscore_rank', ascending=True)\n",
    "\n",
    "results['market_cap_percentile'] = results['market_cap'].rank(pct=True)"
   ]
  },
  {
   "cell_type": "code",
   "execution_count": 12,
   "id": "df288033",
   "metadata": {},
   "outputs": [
    {
     "data": {
      "text/html": [
       "<div>\n",
       "<style scoped>\n",
       "    .dataframe tbody tr th:only-of-type {\n",
       "        vertical-align: middle;\n",
       "    }\n",
       "\n",
       "    .dataframe tbody tr th {\n",
       "        vertical-align: top;\n",
       "    }\n",
       "\n",
       "    .dataframe thead th {\n",
       "        text-align: right;\n",
       "    }\n",
       "</style>\n",
       "<table border=\"1\" class=\"dataframe\">\n",
       "  <thead>\n",
       "    <tr style=\"text-align: right;\">\n",
       "      <th></th>\n",
       "      <th>ticker</th>\n",
       "      <th>index</th>\n",
       "      <th>date</th>\n",
       "      <th>eps</th>\n",
       "      <th>per</th>\n",
       "      <th>ebitda</th>\n",
       "      <th>pbv</th>\n",
       "      <th>solvency</th>\n",
       "      <th>roe</th>\n",
       "      <th>fcf</th>\n",
       "      <th>...</th>\n",
       "      <th>z_eps</th>\n",
       "      <th>z_per</th>\n",
       "      <th>z_ebitda</th>\n",
       "      <th>z_pbv</th>\n",
       "      <th>z_solvency</th>\n",
       "      <th>z_roe</th>\n",
       "      <th>z_fcf</th>\n",
       "      <th>avg_zscore</th>\n",
       "      <th>avg_zscore_rank</th>\n",
       "      <th>market_cap_percentile</th>\n",
       "    </tr>\n",
       "  </thead>\n",
       "  <tbody>\n",
       "    <tr>\n",
       "      <th>50</th>\n",
       "      <td>BLDR</td>\n",
       "      <td>1551</td>\n",
       "      <td>2022-12-31</td>\n",
       "      <td>19.799005</td>\n",
       "      <td>3.300671</td>\n",
       "      <td>4.267346e+09</td>\n",
       "      <td>1.828643</td>\n",
       "      <td>5.749555</td>\n",
       "      <td>55.402165</td>\n",
       "      <td>-4.656010e+09</td>\n",
       "      <td>...</td>\n",
       "      <td>3.91138</td>\n",
       "      <td>0.18976</td>\n",
       "      <td>4.383492</td>\n",
       "      <td>0.09797</td>\n",
       "      <td>-0.180259</td>\n",
       "      <td>0.132754</td>\n",
       "      <td>0.164892</td>\n",
       "      <td>1.242856</td>\n",
       "      <td>2.0</td>\n",
       "      <td>0.032787</td>\n",
       "    </tr>\n",
       "  </tbody>\n",
       "</table>\n",
       "<p>1 rows × 28 columns</p>\n",
       "</div>"
      ],
      "text/plain": [
       "   ticker  index        date        eps       per        ebitda       pbv  \\\n",
       "50   BLDR   1551  2022-12-31  19.799005  3.300671  4.267346e+09  1.828643   \n",
       "\n",
       "    solvency        roe           fcf  ...    z_eps    z_per  z_ebitda  \\\n",
       "50  5.749555  55.402165 -4.656010e+09  ...  3.91138  0.18976  4.383492   \n",
       "\n",
       "      z_pbv  z_solvency     z_roe     z_fcf  avg_zscore  avg_zscore_rank  \\\n",
       "50  0.09797   -0.180259  0.132754  0.164892    1.242856              2.0   \n",
       "\n",
       "    market_cap_percentile  \n",
       "50               0.032787  \n",
       "\n",
       "[1 rows x 28 columns]"
      ]
     },
     "execution_count": 12,
     "metadata": {},
     "output_type": "execute_result"
    }
   ],
   "source": [
    "low_cap_stocks = results[results['market_cap_percentile'] <= .15]\n",
    "low_cap_stocks = low_cap_stocks[low_cap_stocks['avg_zscore_rank'] <= 50]\n",
    "top_low_cap_stocks = low_cap_stocks.sort_values(by='avg_zscore_rank', ascending=True).head(15)\n",
    "top_low_cap_stocks.head(1)"
   ]
  },
  {
   "cell_type": "code",
   "execution_count": 13,
   "id": "5da4c6ce",
   "metadata": {},
   "outputs": [],
   "source": [
    "def calculate_sortino_ratio(returns, risk_free_rate=0.05, periods_per_year=2):\n",
    "    \n",
    "    # Convert returns to decimal\n",
    "    returns_decimal = np.array(returns) / 100\n",
    "    \n",
    "    # Calculate excess returns\n",
    "    excess_returns = returns_decimal - (risk_free_rate / periods_per_year)\n",
    "    \n",
    "    # Calculate downside returns (returns below target/risk-free rate)\n",
    "    downside_returns = np.where(returns_decimal < (risk_free_rate / periods_per_year), \n",
    "                               returns_decimal - (risk_free_rate / periods_per_year), \n",
    "                               0)\n",
    "    \n",
    "    # Calculate downside deviation\n",
    "    downside_deviation = np.sqrt(np.mean(np.square(downside_returns))) * np.sqrt(periods_per_year)\n",
    "    \n",
    "    # Calculate Sortino ratio\n",
    "    sortino_ratio = (np.mean(excess_returns) * periods_per_year) / downside_deviation if downside_deviation != 0 else 0\n",
    "    \n",
    "    return sortino_ratio"
   ]
  },
  {
   "cell_type": "code",
   "execution_count": 14,
   "id": "aebc377b",
   "metadata": {},
   "outputs": [],
   "source": [
    "def strategy_backtest(data, market_cap_percentile, initial_investment, split_method, stocks_to_invest, min_zscore_rank, experiment_id):\n",
    "\n",
    "    # total portfolio tracking\n",
    "    portfolio_list = []\n",
    "    total_invested = 0\n",
    "    total_final_value = 0\n",
    "    remaining_cash = initial_investment\n",
    "    \n",
    "    # Filter for small-cap stocks and get top N by z-score(STRATEGY)\n",
    "    low_cap_stocks = data[data['market_cap_percentile'] <= market_cap_percentile]\n",
    "    low_cap_stocks = low_cap_stocks[low_cap_stocks['avg_zscore_rank'] <= min_zscore_rank]\n",
    "    top_low_cap_stocks = low_cap_stocks.sort_values(by='avg_zscore_rank', ascending=True).head(stocks_to_invest)\n",
    "    \n",
    "    if split_method == 'equal':\n",
    "        target_investment_per_stock = initial_investment / len(top_low_cap_stocks)\n",
    "        \n",
    "        for _, stock in top_low_cap_stocks.iterrows():\n",
    "            initial_price = stock['prices']  # Current price\n",
    "            final_price = stock['2qf_price']  # Price after 2 quarters\n",
    "            \n",
    "            # Calculate whole number of shares we can buy\n",
    "            shares = int(target_investment_per_stock / initial_price)\n",
    "            \n",
    "            if shares > 0:\n",
    "                initial_cost = shares * initial_price\n",
    "                final_value = shares * final_price\n",
    "                \n",
    "                # 2-quarter return (6 months)\n",
    "                two_quarter_return = ((final_value / initial_cost) - 1) * 100\n",
    "                \n",
    "                # Annualized return using the formula: (1 + r)^(12/n) - 1\n",
    "                # where n is number of months (6 in this case) and r is the return in decimal form\n",
    "                annualized_return = (((1 + (two_quarter_return/100)) ** (12/6)) - 1) * 100\n",
    "                \n",
    "                # Track investment details\n",
    "                portfolio_list.append({\n",
    "                    'ticker': stock['ticker'],\n",
    "                    'shares': shares,\n",
    "                    'initial_price': initial_price,\n",
    "                    'final_price': final_price,\n",
    "                    'initial_cost': initial_cost,\n",
    "                    'final_value': final_value,\n",
    "                    'two_quarter_return_pct': two_quarter_return,  # renamed from return_pct\n",
    "                    'annualized_return_pct': annualized_return,    # new field\n",
    "                    'market_cap_percentile': stock['market_cap_percentile'],\n",
    "                    'avg_zscore': stock['avg_zscore'],\n",
    "                    'avg_zscore_rank': stock['avg_zscore_rank']\n",
    "                })\n",
    "                \n",
    "                total_invested += initial_cost\n",
    "                total_final_value += final_value\n",
    "                remaining_cash = remaining_cash - initial_cost\n",
    "    \n",
    "    # Create portfolio summary DataFrame\n",
    "    portfolio_summary = pd.DataFrame(portfolio_list)\n",
    "    \n",
    "    # Add experiment_id to portfolio summary\n",
    "    portfolio_summary['experiment_id'] = experiment_id\n",
    "    \n",
    "    # Calculate aggregate performance metrics\n",
    "    performance_metrics = {\n",
    "        # Experiment ID\n",
    "        'experiment_id': experiment_id,\n",
    "        \n",
    "        # Experiment parameters\n",
    "        'market_cap_percentile': market_cap_percentile,\n",
    "        'initial_investment': initial_investment,\n",
    "        'split_method': split_method,\n",
    "        'stocks_to_invest': stocks_to_invest,\n",
    "        'min_zscore_rank': min_zscore_rank,\n",
    "        \n",
    "        # Performance metrics\n",
    "        'total_stocks': len(portfolio_list),\n",
    "        'total_invested': total_invested,\n",
    "        'total_final_value': total_final_value,\n",
    "        'remaining_cash': remaining_cash,\n",
    "\n",
    "        # Total portfolio returns\n",
    "        'total_two_quarter_return_pct': ((total_final_value / total_invested) - 1) * 100 if total_invested > 0 else 0,\n",
    "        'total_annualized_return_pct': (((1 + ((total_final_value / total_invested) - 1)) ** (12/6)) - 1) * 100 if total_invested > 0 else 0,\n",
    "    \n",
    "        # Average of individual stock returns\n",
    "        'avg_two_quarter_return_pct': portfolio_summary['two_quarter_return_pct'].mean() if len(portfolio_list) > 0 else 0,\n",
    "        'avg_annualized_return_pct': portfolio_summary['annualized_return_pct'].mean() if len(portfolio_list) > 0 else 0,\n",
    "        \n",
    "        # Add weighted average returns (this would be more accurate)\n",
    "        'weighted_avg_two_quarter_return': ((portfolio_summary['two_quarter_return_pct'] * portfolio_summary['initial_cost']).sum() / total_invested) if total_invested > 0 else 0,\n",
    "        'weighted_avg_annualized_return': ((portfolio_summary['annualized_return_pct'] * portfolio_summary['initial_cost']).sum() / total_invested) if total_invested > 0 else 0,\n",
    "\n",
    "        # Add Sortino ratio (both for individual stocks and portfolio)\n",
    "        'portfolio_sortino_ratio': calculate_sortino_ratio(portfolio_summary['two_quarter_return_pct']),\n",
    "        'avg_stock_sortino_ratio': np.mean([calculate_sortino_ratio([r]) for r in portfolio_summary['two_quarter_return_pct']]),\n",
    "        \n",
    "        # Add other useful portfolio metrics\n",
    "        'max_drawdown_pct': ((portfolio_summary['two_quarter_return_pct'].min()) if len(portfolio_list) > 0 else 0),\n",
    "        'positive_returns_pct': (len(portfolio_summary[portfolio_summary['two_quarter_return_pct'] > 0]) / len(portfolio_summary) * 100) if len(portfolio_list) > 0 else 0,\n",
    "        'return_volatility': portfolio_summary['two_quarter_return_pct'].std() if len(portfolio_list) > 0 else 0,\n",
    "        'win_loss_ratio': (len(portfolio_summary[portfolio_summary['two_quarter_return_pct'] > 0]) / \n",
    "                          len(portfolio_summary[portfolio_summary['two_quarter_return_pct'] < 0])) if len(portfolio_summary[portfolio_summary['two_quarter_return_pct'] < 0]) > 0 else float('inf')\n",
    "        }\n",
    "    \n",
    "    # Save individual backtest results\n",
    "    #create backtest folder if it doesn't exist\n",
    "    if not os.path.exists('backtest'):\n",
    "        os.makedirs('backtest')\n",
    "    portfolio_summary.to_csv(f'backtest/operations_exp_{experiment_id}.csv', index=False)\n",
    "    \n",
    "    # Save experiment results\n",
    "    experiment_df = pd.DataFrame([performance_metrics])\n",
    "    try:\n",
    "        #If file exists, append new experiment\n",
    "        existing_experiments = pd.read_csv('experiments.csv')\n",
    "        updated_experiments = pd.concat([existing_experiments, experiment_df], ignore_index=True)\n",
    "        \n",
    "    except FileNotFoundError:\n",
    "        # If file doesn't exist, create new one\n",
    "        updated_experiments = experiment_df\n",
    "    \n",
    "    # Save updated experiments\n",
    "    updated_experiments.to_csv('experiments.csv', index=False)\n",
    "    \n",
    "    \n",
    "    # Print summary with better organization\n",
    "    print(\"\\nPortfolio Performance Summary:\")\n",
    "    print(f\"Parameters: {market_cap_percentile}, {initial_investment}, {split_method}, {stocks_to_invest}, {min_zscore_rank}\")\n",
    "    \n",
    "    print(\"Portfolio Size and Value:\")\n",
    "    print(f\"Number of stocks in portfolio: {performance_metrics['total_stocks']}\")\n",
    "    print(f\"Total amount invested: ${performance_metrics['total_invested']:,.2f}\")\n",
    "    print(f\"Final portfolio value: ${performance_metrics['total_final_value']:,.2f}\")\n",
    "    print(f\"Remaining cash: ${performance_metrics['remaining_cash']:,.2f}\")\n",
    "    \n",
    "    print(\"\\nReturn Metrics:\")\n",
    "    print(\"Total Portfolio Returns:\")\n",
    "    print(f\"• Total 2-quarter return: {performance_metrics['total_two_quarter_return_pct']:.2f}%\")\n",
    "    print(f\"• Total annualized return: {performance_metrics['total_annualized_return_pct']:.2f}%\")\n",
    "    \n",
    "    print(\"\\nAverage Stock Returns:\")\n",
    "    print(f\"• Simple average 2-quarter return: {performance_metrics['avg_two_quarter_return_pct']:.2f}%\")\n",
    "    print(f\"• Simple average annualized return: {performance_metrics['avg_annualized_return_pct']:.2f}%\")\n",
    "    \n",
    "    print(\"\\nWeighted Average Returns:\")\n",
    "    print(f\"• Weighted average 2-quarter return: {performance_metrics['weighted_avg_two_quarter_return']:.2f}%\")\n",
    "    print(f\"• Weighted average annualized return: {performance_metrics['weighted_avg_annualized_return']:.2f}%\")\n",
    "    \n",
    "    print(\"\\nRisk Metrics:\")\n",
    "    print(f\"• Portfolio Sortino Ratio: {performance_metrics['portfolio_sortino_ratio']:.2f}\")\n",
    "    print(f\"• Return Volatility: {performance_metrics['return_volatility']:.2f}%\")\n",
    "    print(f\"• Maximum Drawdown: {performance_metrics['max_drawdown_pct']:.2f}%\")\n",
    "    \n",
    "    print(\"\\nSuccess Metrics:\")\n",
    "    print(f\"• Win/Loss Ratio: {performance_metrics['win_loss_ratio']:.2f}\")\n",
    "    print(f\"• Positive Returns %: {performance_metrics['positive_returns_pct']:.2f}%\")\n",
    "    \n",
    "    print(\"-\" * 50)\n",
    "    return None"
   ]
  },
  {
   "cell_type": "markdown",
   "id": "5c7c7c13",
   "metadata": {},
   "source": [
    "## Running the experiment with 1000 different portfolio configurations ##"
   ]
  },
  {
   "cell_type": "code",
   "execution_count": 32,
   "id": "3cbbd79b",
   "metadata": {},
   "outputs": [
    {
     "data": {
      "text/plain": [
       "' Commented so it doesnt run the experiments again\\n# Define parameter ranges for grid search\\ngrid_search = {\\n    \\'market_cap_percentile\\': [0.05, 0.10, 0.15, 0.20, 0.25, 0.30, 0.35, 0.40, 0.45, 0.50],\\n    \\'initial_investment\\': [10000],\\n    \\'split_method\\': [\\'equal\\'],\\n    \\'stocks_to_invest\\': [5,10, 15, 20,25, 30, 35, 40, 45, 50],\\n    \\'min_zscore_rank\\': [5, 10, 15, 20,25, 30, 35, 40, 45, 50]\\n}\\n\\n# Create all combinations of parameters\\nparam_combinations = [dict(zip(grid_search.keys(), v)) for v in itertools.product(*grid_search.values())]\\n\\n# Run backtest for each parameter combination\\nfor i, params in enumerate(param_combinations):\\n    print(f\"\\nRunning backtest with parameters: {params}\") \\n    strategy_backtest(\\n        data=results,\\n        market_cap_percentile=params[\\'market_cap_percentile\\'],\\n        initial_investment=params[\\'initial_investment\\'], \\n        split_method=params[\\'split_method\\'],\\n        stocks_to_invest=params[\\'stocks_to_invest\\'],\\n        min_zscore_rank=params[\\'min_zscore_rank\\'],\\n        experiment_id= i+1\\n    )\\n    print(\\'=\\'*100)\\n'"
      ]
     },
     "execution_count": 32,
     "metadata": {},
     "output_type": "execute_result"
    }
   ],
   "source": [
    "\"\"\" Commented so it doesnt run the experiments again\n",
    "# Define parameter ranges for grid search\n",
    "grid_search = {\n",
    "    'market_cap_percentile': [0.05, 0.10, 0.15, 0.20, 0.25, 0.30, 0.35, 0.40, 0.45, 0.50],\n",
    "    'initial_investment': [10000],\n",
    "    'split_method': ['equal'],\n",
    "    'stocks_to_invest': [5,10, 15, 20,25, 30, 35, 40, 45, 50],\n",
    "    'min_zscore_rank': [5, 10, 15, 20,25, 30, 35, 40, 45, 50]\n",
    "}\n",
    "\n",
    "# Create all combinations of parameters\n",
    "param_combinations = [dict(zip(grid_search.keys(), v)) for v in itertools.product(*grid_search.values())]\n",
    "\n",
    "# Run backtest for each parameter combination\n",
    "for i, params in enumerate(param_combinations):\n",
    "    print(f\"\\nRunning backtest with parameters: {params}\") \n",
    "    strategy_backtest(\n",
    "        data=results,\n",
    "        market_cap_percentile=params['market_cap_percentile'],\n",
    "        initial_investment=params['initial_investment'], \n",
    "        split_method=params['split_method'],\n",
    "        stocks_to_invest=params['stocks_to_invest'],\n",
    "        min_zscore_rank=params['min_zscore_rank'],\n",
    "        experiment_id= i+1\n",
    "    )\n",
    "    print('='*100)\n",
    "\"\"\""
   ]
  },
  {
   "cell_type": "markdown",
   "id": "a140f757",
   "metadata": {},
   "source": [
    "## Analyzing results of 1000 experiments ##"
   ]
  },
  {
   "cell_type": "code",
   "execution_count": 2,
   "id": "a3566025",
   "metadata": {},
   "outputs": [],
   "source": [
    "experiments = pd.read_csv('experiments.csv')"
   ]
  },
  {
   "cell_type": "code",
   "execution_count": 3,
   "id": "40bab9a8",
   "metadata": {},
   "outputs": [
    {
     "data": {
      "text/html": [
       "<div>\n",
       "<style scoped>\n",
       "    .dataframe tbody tr th:only-of-type {\n",
       "        vertical-align: middle;\n",
       "    }\n",
       "\n",
       "    .dataframe tbody tr th {\n",
       "        vertical-align: top;\n",
       "    }\n",
       "\n",
       "    .dataframe thead th {\n",
       "        text-align: right;\n",
       "    }\n",
       "</style>\n",
       "<table border=\"1\" class=\"dataframe\">\n",
       "  <thead>\n",
       "    <tr style=\"text-align: right;\">\n",
       "      <th></th>\n",
       "      <th>experiment_id</th>\n",
       "      <th>market_cap_percentile</th>\n",
       "      <th>initial_investment</th>\n",
       "      <th>split_method</th>\n",
       "      <th>stocks_to_invest</th>\n",
       "      <th>min_zscore_rank</th>\n",
       "      <th>total_stocks</th>\n",
       "      <th>total_invested</th>\n",
       "      <th>total_final_value</th>\n",
       "      <th>remaining_cash</th>\n",
       "      <th>...</th>\n",
       "      <th>avg_two_quarter_return_pct</th>\n",
       "      <th>avg_annualized_return_pct</th>\n",
       "      <th>weighted_avg_two_quarter_return</th>\n",
       "      <th>weighted_avg_annualized_return</th>\n",
       "      <th>portfolio_sortino_ratio</th>\n",
       "      <th>avg_stock_sortino_ratio</th>\n",
       "      <th>max_drawdown_pct</th>\n",
       "      <th>positive_returns_pct</th>\n",
       "      <th>return_volatility</th>\n",
       "      <th>win_loss_ratio</th>\n",
       "    </tr>\n",
       "  </thead>\n",
       "  <tbody>\n",
       "    <tr>\n",
       "      <th>0</th>\n",
       "      <td>1</td>\n",
       "      <td>0.05</td>\n",
       "      <td>10000</td>\n",
       "      <td>equal</td>\n",
       "      <td>5</td>\n",
       "      <td>5</td>\n",
       "      <td>1</td>\n",
       "      <td>9998.549767</td>\n",
       "      <td>21868.288879</td>\n",
       "      <td>1.450233</td>\n",
       "      <td>...</td>\n",
       "      <td>118.714608</td>\n",
       "      <td>378.360795</td>\n",
       "      <td>118.714608</td>\n",
       "      <td>378.360795</td>\n",
       "      <td>0.000000</td>\n",
       "      <td>0.000000</td>\n",
       "      <td>118.714608</td>\n",
       "      <td>100.000000</td>\n",
       "      <td>NaN</td>\n",
       "      <td>inf</td>\n",
       "    </tr>\n",
       "    <tr>\n",
       "      <th>41</th>\n",
       "      <td>42</td>\n",
       "      <td>0.05</td>\n",
       "      <td>10000</td>\n",
       "      <td>equal</td>\n",
       "      <td>25</td>\n",
       "      <td>10</td>\n",
       "      <td>1</td>\n",
       "      <td>9998.549767</td>\n",
       "      <td>21868.288879</td>\n",
       "      <td>1.450233</td>\n",
       "      <td>...</td>\n",
       "      <td>118.714608</td>\n",
       "      <td>378.360795</td>\n",
       "      <td>118.714608</td>\n",
       "      <td>378.360795</td>\n",
       "      <td>0.000000</td>\n",
       "      <td>0.000000</td>\n",
       "      <td>118.714608</td>\n",
       "      <td>100.000000</td>\n",
       "      <td>NaN</td>\n",
       "      <td>inf</td>\n",
       "    </tr>\n",
       "    <tr>\n",
       "      <th>21</th>\n",
       "      <td>22</td>\n",
       "      <td>0.05</td>\n",
       "      <td>10000</td>\n",
       "      <td>equal</td>\n",
       "      <td>15</td>\n",
       "      <td>10</td>\n",
       "      <td>1</td>\n",
       "      <td>9998.549767</td>\n",
       "      <td>21868.288879</td>\n",
       "      <td>1.450233</td>\n",
       "      <td>...</td>\n",
       "      <td>118.714608</td>\n",
       "      <td>378.360795</td>\n",
       "      <td>118.714608</td>\n",
       "      <td>378.360795</td>\n",
       "      <td>0.000000</td>\n",
       "      <td>0.000000</td>\n",
       "      <td>118.714608</td>\n",
       "      <td>100.000000</td>\n",
       "      <td>NaN</td>\n",
       "      <td>inf</td>\n",
       "    </tr>\n",
       "    <tr>\n",
       "      <th>30</th>\n",
       "      <td>31</td>\n",
       "      <td>0.05</td>\n",
       "      <td>10000</td>\n",
       "      <td>equal</td>\n",
       "      <td>20</td>\n",
       "      <td>5</td>\n",
       "      <td>1</td>\n",
       "      <td>9998.549767</td>\n",
       "      <td>21868.288879</td>\n",
       "      <td>1.450233</td>\n",
       "      <td>...</td>\n",
       "      <td>118.714608</td>\n",
       "      <td>378.360795</td>\n",
       "      <td>118.714608</td>\n",
       "      <td>378.360795</td>\n",
       "      <td>0.000000</td>\n",
       "      <td>0.000000</td>\n",
       "      <td>118.714608</td>\n",
       "      <td>100.000000</td>\n",
       "      <td>NaN</td>\n",
       "      <td>inf</td>\n",
       "    </tr>\n",
       "    <tr>\n",
       "      <th>31</th>\n",
       "      <td>32</td>\n",
       "      <td>0.05</td>\n",
       "      <td>10000</td>\n",
       "      <td>equal</td>\n",
       "      <td>20</td>\n",
       "      <td>10</td>\n",
       "      <td>1</td>\n",
       "      <td>9998.549767</td>\n",
       "      <td>21868.288879</td>\n",
       "      <td>1.450233</td>\n",
       "      <td>...</td>\n",
       "      <td>118.714608</td>\n",
       "      <td>378.360795</td>\n",
       "      <td>118.714608</td>\n",
       "      <td>378.360795</td>\n",
       "      <td>0.000000</td>\n",
       "      <td>0.000000</td>\n",
       "      <td>118.714608</td>\n",
       "      <td>100.000000</td>\n",
       "      <td>NaN</td>\n",
       "      <td>inf</td>\n",
       "    </tr>\n",
       "    <tr>\n",
       "      <th>...</th>\n",
       "      <td>...</td>\n",
       "      <td>...</td>\n",
       "      <td>...</td>\n",
       "      <td>...</td>\n",
       "      <td>...</td>\n",
       "      <td>...</td>\n",
       "      <td>...</td>\n",
       "      <td>...</td>\n",
       "      <td>...</td>\n",
       "      <td>...</td>\n",
       "      <td>...</td>\n",
       "      <td>...</td>\n",
       "      <td>...</td>\n",
       "      <td>...</td>\n",
       "      <td>...</td>\n",
       "      <td>...</td>\n",
       "      <td>...</td>\n",
       "      <td>...</td>\n",
       "      <td>...</td>\n",
       "      <td>...</td>\n",
       "      <td>...</td>\n",
       "    </tr>\n",
       "    <tr>\n",
       "      <th>699</th>\n",
       "      <td>700</td>\n",
       "      <td>0.35</td>\n",
       "      <td>10000</td>\n",
       "      <td>equal</td>\n",
       "      <td>50</td>\n",
       "      <td>50</td>\n",
       "      <td>24</td>\n",
       "      <td>8900.735109</td>\n",
       "      <td>11336.019350</td>\n",
       "      <td>1099.264891</td>\n",
       "      <td>...</td>\n",
       "      <td>26.593585</td>\n",
       "      <td>76.452006</td>\n",
       "      <td>27.360484</td>\n",
       "      <td>78.251713</td>\n",
       "      <td>2.585326</td>\n",
       "      <td>-0.471405</td>\n",
       "      <td>-50.467292</td>\n",
       "      <td>66.666667</td>\n",
       "      <td>41.105569</td>\n",
       "      <td>2.0</td>\n",
       "    </tr>\n",
       "    <tr>\n",
       "      <th>659</th>\n",
       "      <td>660</td>\n",
       "      <td>0.35</td>\n",
       "      <td>10000</td>\n",
       "      <td>equal</td>\n",
       "      <td>30</td>\n",
       "      <td>50</td>\n",
       "      <td>24</td>\n",
       "      <td>8900.735109</td>\n",
       "      <td>11336.019350</td>\n",
       "      <td>1099.264891</td>\n",
       "      <td>...</td>\n",
       "      <td>26.593585</td>\n",
       "      <td>76.452006</td>\n",
       "      <td>27.360484</td>\n",
       "      <td>78.251713</td>\n",
       "      <td>2.585326</td>\n",
       "      <td>-0.471405</td>\n",
       "      <td>-50.467292</td>\n",
       "      <td>66.666667</td>\n",
       "      <td>41.105569</td>\n",
       "      <td>2.0</td>\n",
       "    </tr>\n",
       "    <tr>\n",
       "      <th>669</th>\n",
       "      <td>670</td>\n",
       "      <td>0.35</td>\n",
       "      <td>10000</td>\n",
       "      <td>equal</td>\n",
       "      <td>35</td>\n",
       "      <td>50</td>\n",
       "      <td>24</td>\n",
       "      <td>8900.735109</td>\n",
       "      <td>11336.019350</td>\n",
       "      <td>1099.264891</td>\n",
       "      <td>...</td>\n",
       "      <td>26.593585</td>\n",
       "      <td>76.452006</td>\n",
       "      <td>27.360484</td>\n",
       "      <td>78.251713</td>\n",
       "      <td>2.585326</td>\n",
       "      <td>-0.471405</td>\n",
       "      <td>-50.467292</td>\n",
       "      <td>66.666667</td>\n",
       "      <td>41.105569</td>\n",
       "      <td>2.0</td>\n",
       "    </tr>\n",
       "    <tr>\n",
       "      <th>689</th>\n",
       "      <td>690</td>\n",
       "      <td>0.35</td>\n",
       "      <td>10000</td>\n",
       "      <td>equal</td>\n",
       "      <td>45</td>\n",
       "      <td>50</td>\n",
       "      <td>24</td>\n",
       "      <td>8900.735109</td>\n",
       "      <td>11336.019350</td>\n",
       "      <td>1099.264891</td>\n",
       "      <td>...</td>\n",
       "      <td>26.593585</td>\n",
       "      <td>76.452006</td>\n",
       "      <td>27.360484</td>\n",
       "      <td>78.251713</td>\n",
       "      <td>2.585326</td>\n",
       "      <td>-0.471405</td>\n",
       "      <td>-50.467292</td>\n",
       "      <td>66.666667</td>\n",
       "      <td>41.105569</td>\n",
       "      <td>2.0</td>\n",
       "    </tr>\n",
       "    <tr>\n",
       "      <th>679</th>\n",
       "      <td>680</td>\n",
       "      <td>0.35</td>\n",
       "      <td>10000</td>\n",
       "      <td>equal</td>\n",
       "      <td>40</td>\n",
       "      <td>50</td>\n",
       "      <td>24</td>\n",
       "      <td>8900.735109</td>\n",
       "      <td>11336.019350</td>\n",
       "      <td>1099.264891</td>\n",
       "      <td>...</td>\n",
       "      <td>26.593585</td>\n",
       "      <td>76.452006</td>\n",
       "      <td>27.360484</td>\n",
       "      <td>78.251713</td>\n",
       "      <td>2.585326</td>\n",
       "      <td>-0.471405</td>\n",
       "      <td>-50.467292</td>\n",
       "      <td>66.666667</td>\n",
       "      <td>41.105569</td>\n",
       "      <td>2.0</td>\n",
       "    </tr>\n",
       "  </tbody>\n",
       "</table>\n",
       "<p>1000 rows × 22 columns</p>\n",
       "</div>"
      ],
      "text/plain": [
       "     experiment_id  market_cap_percentile  initial_investment split_method  \\\n",
       "0                1                   0.05               10000        equal   \n",
       "41              42                   0.05               10000        equal   \n",
       "21              22                   0.05               10000        equal   \n",
       "30              31                   0.05               10000        equal   \n",
       "31              32                   0.05               10000        equal   \n",
       "..             ...                    ...                 ...          ...   \n",
       "699            700                   0.35               10000        equal   \n",
       "659            660                   0.35               10000        equal   \n",
       "669            670                   0.35               10000        equal   \n",
       "689            690                   0.35               10000        equal   \n",
       "679            680                   0.35               10000        equal   \n",
       "\n",
       "     stocks_to_invest  min_zscore_rank  total_stocks  total_invested  \\\n",
       "0                   5                5             1     9998.549767   \n",
       "41                 25               10             1     9998.549767   \n",
       "21                 15               10             1     9998.549767   \n",
       "30                 20                5             1     9998.549767   \n",
       "31                 20               10             1     9998.549767   \n",
       "..                ...              ...           ...             ...   \n",
       "699                50               50            24     8900.735109   \n",
       "659                30               50            24     8900.735109   \n",
       "669                35               50            24     8900.735109   \n",
       "689                45               50            24     8900.735109   \n",
       "679                40               50            24     8900.735109   \n",
       "\n",
       "     total_final_value  remaining_cash  ...  avg_two_quarter_return_pct  \\\n",
       "0         21868.288879        1.450233  ...                  118.714608   \n",
       "41        21868.288879        1.450233  ...                  118.714608   \n",
       "21        21868.288879        1.450233  ...                  118.714608   \n",
       "30        21868.288879        1.450233  ...                  118.714608   \n",
       "31        21868.288879        1.450233  ...                  118.714608   \n",
       "..                 ...             ...  ...                         ...   \n",
       "699       11336.019350     1099.264891  ...                   26.593585   \n",
       "659       11336.019350     1099.264891  ...                   26.593585   \n",
       "669       11336.019350     1099.264891  ...                   26.593585   \n",
       "689       11336.019350     1099.264891  ...                   26.593585   \n",
       "679       11336.019350     1099.264891  ...                   26.593585   \n",
       "\n",
       "     avg_annualized_return_pct  weighted_avg_two_quarter_return  \\\n",
       "0                   378.360795                       118.714608   \n",
       "41                  378.360795                       118.714608   \n",
       "21                  378.360795                       118.714608   \n",
       "30                  378.360795                       118.714608   \n",
       "31                  378.360795                       118.714608   \n",
       "..                         ...                              ...   \n",
       "699                  76.452006                        27.360484   \n",
       "659                  76.452006                        27.360484   \n",
       "669                  76.452006                        27.360484   \n",
       "689                  76.452006                        27.360484   \n",
       "679                  76.452006                        27.360484   \n",
       "\n",
       "     weighted_avg_annualized_return  portfolio_sortino_ratio  \\\n",
       "0                        378.360795                 0.000000   \n",
       "41                       378.360795                 0.000000   \n",
       "21                       378.360795                 0.000000   \n",
       "30                       378.360795                 0.000000   \n",
       "31                       378.360795                 0.000000   \n",
       "..                              ...                      ...   \n",
       "699                       78.251713                 2.585326   \n",
       "659                       78.251713                 2.585326   \n",
       "669                       78.251713                 2.585326   \n",
       "689                       78.251713                 2.585326   \n",
       "679                       78.251713                 2.585326   \n",
       "\n",
       "     avg_stock_sortino_ratio  max_drawdown_pct  positive_returns_pct  \\\n",
       "0                   0.000000        118.714608            100.000000   \n",
       "41                  0.000000        118.714608            100.000000   \n",
       "21                  0.000000        118.714608            100.000000   \n",
       "30                  0.000000        118.714608            100.000000   \n",
       "31                  0.000000        118.714608            100.000000   \n",
       "..                       ...               ...                   ...   \n",
       "699                -0.471405        -50.467292             66.666667   \n",
       "659                -0.471405        -50.467292             66.666667   \n",
       "669                -0.471405        -50.467292             66.666667   \n",
       "689                -0.471405        -50.467292             66.666667   \n",
       "679                -0.471405        -50.467292             66.666667   \n",
       "\n",
       "     return_volatility  win_loss_ratio  \n",
       "0                  NaN             inf  \n",
       "41                 NaN             inf  \n",
       "21                 NaN             inf  \n",
       "30                 NaN             inf  \n",
       "31                 NaN             inf  \n",
       "..                 ...             ...  \n",
       "699          41.105569             2.0  \n",
       "659          41.105569             2.0  \n",
       "669          41.105569             2.0  \n",
       "689          41.105569             2.0  \n",
       "679          41.105569             2.0  \n",
       "\n",
       "[1000 rows x 22 columns]"
      ]
     },
     "execution_count": 3,
     "metadata": {},
     "output_type": "execute_result"
    }
   ],
   "source": [
    "experiments.sort_values(by='total_annualized_return_pct', ascending=False)"
   ]
  },
  {
   "cell_type": "code",
   "execution_count": 31,
   "id": "efcb06eb",
   "metadata": {},
   "outputs": [
    {
     "data": {
      "application/vnd.plotly.v1+json": {
       "config": {
        "plotlyServerURL": "https://plot.ly"
       },
       "data": [
        {
         "customdata": {
          "bdata": "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",
          "dtype": "f8",
          "shape": "1000, 4"
         },
         "hovertemplate": "Annualized Return (%)=%{x}<br>portfolio_sortino_ratio=%{y}<br>experiment_id=%{customdata[0]}<br>market_cap_percentile=%{customdata[1]}<br>Number of Stocks=%{customdata[2]}<br>min_zscore_rank=%{customdata[3]}<extra></extra>",
         "legendgroup": "",
         "marker": {
          "color": "#636efa",
          "symbol": "circle"
         },
         "mode": "markers",
         "name": "",
         "orientation": "v",
         "showlegend": false,
         "type": "scatter",
         "x": {
          "bdata": "35Vq0cWld0DflWrRxaV3QPOpBtcxKWlA86kG1zEpaUA06aJkOBFpQDTpomQ4EWlANOmiZDgRaUA06aJkOBFpQDTpomQ4EWlANOmiZDgRaUDflWrRxaV3QN+VatHFpXdA86kG1zEpaUDzqQbXMSlpQDTpomQ4EWlANOmiZDgRaUA06aJkOBFpQDTpomQ4EWlANOmiZDgRaUA06aJkOBFpQN+VatHFpXdA35Vq0cWld0DzqQbXMSlpQPOpBtcxKWlANOmiZDgRaUA06aJkOBFpQDTpomQ4EWlANOmiZDgRaUA06aJkOBFpQDTpomQ4EWlA35Vq0cWld0DflWrRxaV3QPOpBtcxKWlA86kG1zEpaUA06aJkOBFpQDTpomQ4EWlANOmiZDgRaUA06aJkOBFpQDTpomQ4EWlANOmiZDgRaUDflWrRxaV3QN+VatHFpXdA86kG1zEpaUDzqQbXMSlpQDTpomQ4EWlANOmiZDgRaUA06aJkOBFpQDTpomQ4EWlANOmiZDgRaUA06aJkOBFpQN+VatHFpXdA35Vq0cWld0DzqQbXMSlpQPOpBtcxKWlANOmiZDgRaUA06aJkOBFpQDTpomQ4EWlANOmiZDgRaUA06aJkOBFpQDTpomQ4EWlA35Vq0cWld0DflWrRxaV3QPOpBtcxKWlA86kG1zEpaUA06aJkOBFpQDTpomQ4EWlANOmiZDgRaUA06aJkOBFpQDTpomQ4EWlANOmiZDgRaUDflWrRxaV3QN+VatHFpXdA86kG1zEpaUDzqQbXMSlpQDTpomQ4EWlANOmiZDgRaUA06aJkOBFpQDTpomQ4EWlANOmiZDgRaUA06aJkOBFpQN+VatHFpXdA35Vq0cWld0DzqQbXMSlpQPOpBtcxKWlANOmiZDgRaUA06aJkOBFpQDTpomQ4EWlANOmiZDgRaUA06aJkOBFpQDTpomQ4EWlA35Vq0cWld0DflWrRxaV3QPOpBtcxKWlA86kG1zEpaUA06aJkOBFpQDTpomQ4EWlANOmiZDgRaUA06aJkOBFpQDTpomQ4EWlANOmiZDgRaUDHwAZB2fVnQImhMeFn8GtA/LDcMhHbZkD8sNwyEdtmQPyw3DIR22ZA/LDcMhHbZkD8sNwyEdtmQPyw3DIR22ZA/LDcMhHbZkD8sNwyEdtmQMfABkHZ9WdAiaEx4Wfwa0D8sNwyEdtmQPyw3DIR22ZAiTEaTfYcZ0CJMRpN9hxnQIkxGk32HGdAiTEaTfYcZ0CJMRpN9hxnQP4O0iUBgF1Ax8AGQdn1Z0CJoTHhZ/BrQPyw3DIR22ZA/LDcMhHbZkCJMRpN9hxnQIkxGk32HGdAiTEaTfYcZ0CJMRpN9hxnQIkxGk32HGdA/g7SJQGAXUDHwAZB2fVnQImhMeFn8GtA/LDcMhHbZkD8sNwyEdtmQIkxGk32HGdAiTEaTfYcZ0CJMRpN9hxnQIkxGk32HGdAiTEaTfYcZ0D+DtIlAYBdQMfABkHZ9WdAiaEx4Wfwa0D8sNwyEdtmQPyw3DIR22ZAiTEaTfYcZ0CJMRpN9hxnQIkxGk32HGdAiTEaTfYcZ0CJMRpN9hxnQP4O0iUBgF1Ax8AGQdn1Z0CJoTHhZ/BrQPyw3DIR22ZA/LDcMhHbZkCJMRpN9hxnQIkxGk32HGdAiTEaTfYcZ0CJMRpN9hxnQIkxGk32HGdA/g7SJQGAXUDHwAZB2fVnQImhMeFn8GtA/LDcMhHbZkD8sNwyEdtmQIkxGk32HGdAiTEaTfYcZ0CJMRpN9hxnQIkxGk32HGdAiTEaTfYcZ0D+DtIlAYBdQMfABkHZ9WdAiaEx4Wfwa0D8sNwyEdtmQPyw3DIR22ZAiTEaTfYcZ0CJMRpN9hxnQIkxGk32HGdAiTEaTfYcZ0CJMRpN9hxnQP4O0iUBgF1Ax8AGQdn1Z0CJoTHhZ/BrQPyw3DIR22ZA/LDcMhHbZkCJMRpN9hxnQIkxGk32HGdAiTEaTfYcZ0CJMRpN9hxnQIkxGk32HGdA/g7SJQGAXUDHwAZB2fVnQImhMeFn8GtA/LDcMhHbZkD8sNwyEdtmQIkxGk32HGdAiTEaTfYcZ0CJMRpN9hxnQIkxGk32HGdAiTEaTfYcZ0D+DtIlAYBdQMfABkHZ9WdAwObBSJXYYkC//PHZ0/tjQL/88dnT+2NAv/zx2dP7Y0C//PHZ0/tjQL/88dnT+2NAv/zx2dP7Y0C//PHZ0/tjQL/88dnT+2NAx8AGQdn1Z0DA5sFIldhiQJGlHtzoNFhAkaUe3Og0WECScvHEpxZbQJJy8cSnFltAknLxxKcWW0AXuREVomJZQBe5ERWiYllAl6repNNfVkDHwAZB2fVnQMDmwUiV2GJAkaUe3Og0WECRpR7c6DRYQJJy8cSnFltAknLxxKcWW0CScvHEpxZbQBe5ERWiYllAF7kRFaJiWUCtgFD+auJSQMfABkHZ9WdAwObBSJXYYkCRpR7c6DRYQJGlHtzoNFhAknLxxKcWW0CScvHEpxZbQJJy8cSnFltAF7kRFaJiWUAXuREVomJZQK2AUP5q4lJAx8AGQdn1Z0DA5sFIldhiQJGlHtzoNFhAkaUe3Og0WECScvHEpxZbQJJy8cSnFltAknLxxKcWW0AXuREVomJZQBe5ERWiYllArYBQ/mriUkDHwAZB2fVnQMDmwUiV2GJAkaUe3Og0WECRpR7c6DRYQJJy8cSnFltAknLxxKcWW0CScvHEpxZbQBe5ERWiYllAF7kRFaJiWUCtgFD+auJSQMfABkHZ9WdAwObBSJXYYkCRpR7c6DRYQJGlHtzoNFhAknLxxKcWW0CScvHEpxZbQJJy8cSnFltAF7kRFaJiWUAXuREVomJZQK2AUP5q4lJAx8AGQdn1Z0DA5sFIldhiQJGlHtzoNFhAkaUe3Og0WECScvHEpxZbQJJy8cSnFltAknLxxKcWW0AXuREVomJZQBe5ERWiYllArYBQ/mriUkDHwAZB2fVnQMDmwUiV2GJAkaUe3Og0WECRpR7c6DRYQJJy8cSnFltAknLxxKcWW0CScvHEpxZbQBe5ERWiYllAF7kRFaJiWUCtgFD+auJSQMfABkHZ9WdAwObBSJXYYkCRpR7c6DRYQJGlHtzoNFhAknLxxKcWW0CScvHEpxZbQJJy8cSnFltAF7kRFaJiWUAXuREVomJZQK2AUP5q4lJAx8AGQdn1Z0Dyc/jX7ZhiQPJz+NftmGJA8nP41+2YYkDyc/jX7ZhiQPJz+NftmGJA8nP41+2YYkDyc/jX7ZhiQPJz+NftmGJA8nP41+2YYkDHwAZB2fVnQPJz+NftmGJAk8BawSyeWUCTwFrBLJ5ZQNt+D23yDVxA234PbfINXECtwTtIjL9eQK3BO0iMv15ArcE7SIy/XkCtwTtIjL9eQMfABkHZ9WdA8nP41+2YYkCTwFrBLJ5ZQJPAWsEsnllA234PbfINXEDbfg9t8g1cQOGud3ZUdl5AZSFTbBfHXEBlIVNsF8dcQCrT0Trel1ZAx8AGQdn1Z0Dyc/jX7ZhiQJPAWsEsnllAk8BawSyeWUDbfg9t8g1cQNt+D23yDVxA4a53dlR2XkBlIVNsF8dcQGUhU2wXx1xAQKxezqtpVUDHwAZB2fVnQPJz+NftmGJAk8BawSyeWUCTwFrBLJ5ZQNt+D23yDVxA234PbfINXEDhrnd2VHZeQGUhU2wXx1xAZSFTbBfHXEBArF7Oq2lVQMfABkHZ9WdA8nP41+2YYkCTwFrBLJ5ZQJPAWsEsnllA234PbfINXEDbfg9t8g1cQOGud3ZUdl5AZSFTbBfHXEBlIVNsF8dcQECsXs6raVVAx8AGQdn1Z0Dyc/jX7ZhiQJPAWsEsnllAk8BawSyeWUDbfg9t8g1cQNt+D23yDVxA4a53dlR2XkBlIVNsF8dcQGUhU2wXx1xAQKxezqtpVUDHwAZB2fVnQPJz+NftmGJAk8BawSyeWUCTwFrBLJ5ZQNt+D23yDVxA234PbfINXEDhrnd2VHZeQGUhU2wXx1xAZSFTbBfHXEBArF7Oq2lVQMfABkHZ9WdA8nP41+2YYkCTwFrBLJ5ZQJPAWsEsnllA234PbfINXEDbfg9t8g1cQOGud3ZUdl5AZSFTbBfHXEBlIVNsF8dcQECsXs6raVVAx8AGQdn1Z0Dyc/jX7ZhiQJPAWsEsnllAk8BawSyeWUDbfg9t8g1cQNt+D23yDVxA4a53dlR2XkBlIVNsF8dcQGUhU2wXx1xAQKxezqtpVUCy/7wfA9hgQDThMThWIFlANOExOFYgWUA04TE4ViBZQDThMThWIFlANOExOFYgWUA04TE4ViBZQDThMThWIFlANOExOFYgWUA04TE4ViBZQLL/vB8D2GBA9gTbKaj9X0DKZv5VuVpWQMpm/lW5WlZAymb+VblaVkDKZv5VuVpWQMpm/lW5WlZAymb+VblaVkDKZv5VuVpWQMpm/lW5WlZAsv+8HwPYYED2BNspqP1fQMpm/lW5WlZA2549jRe+V0COH1aG3rBZQI4fVobesFlAc42MDACLW0Bt9mxmgM5aQG32bGaAzlpAbfZsZoDOWkCy/7wfA9hgQPYE2ymo/V9Aymb+VblaVkDbnj2NF75XQI4fVobesFlAjh9Wht6wWUBzjYwMAItbQG32bGaAzlpAbfZsZoDOWkCcuT7e0NZUQLL/vB8D2GBA9gTbKaj9X0DKZv5VuVpWQNuePY0XvldAjh9Wht6wWUCOH1aG3rBZQHONjAwAi1tAbfZsZoDOWkBt9mxmgM5aQJy5Pt7Q1lRAsv+8HwPYYED2BNspqP1fQMpm/lW5WlZA2549jRe+V0COH1aG3rBZQI4fVobesFlAc42MDACLW0Bt9mxmgM5aQG32bGaAzlpAnLk+3tDWVECy/7wfA9hgQPYE2ymo/V9Aymb+VblaVkDbnj2NF75XQI4fVobesFlAjh9Wht6wWUBzjYwMAItbQG32bGaAzlpAbfZsZoDOWkCcuT7e0NZUQLL/vB8D2GBA9gTbKaj9X0DKZv5VuVpWQNuePY0XvldAjh9Wht6wWUCOH1aG3rBZQHONjAwAi1tAbfZsZoDOWkBt9mxmgM5aQJy5Pt7Q1lRAsv+8HwPYYED2BNspqP1fQMpm/lW5WlZA2549jRe+V0COH1aG3rBZQI4fVobesFlAc42MDACLW0Bt9mxmgM5aQG32bGaAzlpAnLk+3tDWVECy/7wfA9hgQPYE2ymo/V9Aymb+VblaVkDbnj2NF75XQI4fVobesFlAjh9Wht6wWUBzjYwMAItbQG32bGaAzlpAbfZsZoDOWkCcuT7e0NZUQLL/vB8D2GBANOExOFYgWUA04TE4ViBZQDThMThWIFlANOExOFYgWUA04TE4ViBZQDThMThWIFlANOExOFYgWUA04TE4ViBZQDThMThWIFlAsv+8HwPYYED2BNspqP1fQMpm/lW5WlZAymb+VblaVkDKZv5VuVpWQMpm/lW5WlZAymb+VblaVkDKZv5VuVpWQMpm/lW5WlZAymb+VblaVkCy/7wfA9hgQPYE2ymo/V9Aymb+VblaVkDbnj2NF75XQI4fVobesFlAjh9Wht6wWUARF6VGcRNaQBEXpUZxE1pAERelRnETWkARF6VGcRNaQLL/vB8D2GBA9gTbKaj9X0DKZv5VuVpWQNuePY0XvldAjh9Wht6wWUCOH1aG3rBZQBEXpUZxE1pAAhCB5fatWECcAQYoQ1dVQFn5rDLr41JAsv+8HwPYYED2BNspqP1fQMpm/lW5WlZA2549jRe+V0COH1aG3rBZQI4fVobesFlAERelRnETWkACEIHl9q1YQJwBBihDV1VAYY88cbHZUUCy/7wfA9hgQPYE2ymo/V9Aymb+VblaVkDbnj2NF75XQI4fVobesFlAjh9Wht6wWUARF6VGcRNaQAIQgeX2rVhAnAEGKENXVUBhjzxxsdlRQLL/vB8D2GBA9gTbKaj9X0DKZv5VuVpWQNuePY0XvldAjh9Wht6wWUCOH1aG3rBZQBEXpUZxE1pAAhCB5fatWECcAQYoQ1dVQGGPPHGx2VFAsv+8HwPYYED2BNspqP1fQMpm/lW5WlZA2549jRe+V0COH1aG3rBZQI4fVobesFlAERelRnETWkACEIHl9q1YQJwBBihDV1VAYY88cbHZUUCy/7wfA9hgQPYE2ymo/V9Aymb+VblaVkDbnj2NF75XQI4fVobesFlAjh9Wht6wWUARF6VGcRNaQAIQgeX2rVhAnAEGKENXVUBhjzxxsdlRQLL/vB8D2GBA9gTbKaj9X0DKZv5VuVpWQNuePY0XvldAjh9Wht6wWUCOH1aG3rBZQBEXpUZxE1pAAhCB5fatWECcAQYoQ1dVQGGPPHGx2VFAsv+8HwPYYEA04TE4ViBZQDThMThWIFlANOExOFYgWUA04TE4ViBZQDThMThWIFlANOExOFYgWUA04TE4ViBZQDThMThWIFlANOExOFYgWUCy/7wfA9hgQPYE2ymo/V9Aymb+VblaVkDKZv5VuVpWQMpm/lW5WlZAymb+VblaVkDKZv5VuVpWQMpm/lW5WlZAymb+VblaVkDKZv5VuVpWQLL/vB8D2GBA9gTbKaj9X0DKZv5VuVpWQNuePY0XvldAjh9Wht6wWUAk370FkEZXQI++4gnidFlAj77iCeJ0WUCPvuIJ4nRZQI++4gnidFlAsv+8HwPYYED2BNspqP1fQMpm/lW5WlZA2549jRe+V0COH1aG3rBZQCTfvQWQRldAPzd+MG2MV0A2tna18GZXQMonu0n+bVFAyie7Sf5tUUCy/7wfA9hgQPYE2ymo/V9Aymb+VblaVkDbnj2NF75XQI4fVobesFlAJN+9BZBGV0A/N34wbYxXQDa2drXwZldAyie7Sf5tUUC/BXKtfBpPQLL/vB8D2GBA9gTbKaj9X0DKZv5VuVpWQNuePY0XvldAjh9Wht6wWUAk370FkEZXQD83fjBtjFdANrZ2tfBmV0DKJ7tJ/m1RQL8Fcq18Gk9Asv+8HwPYYED2BNspqP1fQMpm/lW5WlZA2549jRe+V0COH1aG3rBZQCTfvQWQRldAPzd+MG2MV0A2tna18GZXQMonu0n+bVFAvwVyrXwaT0Cy/7wfA9hgQPYE2ymo/V9Aymb+VblaVkDbnj2NF75XQI4fVobesFlAJN+9BZBGV0A/N34wbYxXQDa2drXwZldAyie7Sf5tUUC/BXKtfBpPQLL/vB8D2GBA9gTbKaj9X0DKZv5VuVpWQNuePY0XvldAjh9Wht6wWUAk370FkEZXQD83fjBtjFdANrZ2tfBmV0DKJ7tJ/m1RQL8Fcq18Gk9Asv+8HwPYYED2BNspqP1fQMpm/lW5WlZA2549jRe+V0COH1aG3rBZQCTfvQWQRldAPzd+MG2MV0A2tna18GZXQMonu0n+bVFAvwVyrXwaT0Cy/7wfA9hgQDThMThWIFlANOExOFYgWUA04TE4ViBZQDThMThWIFlANOExOFYgWUA04TE4ViBZQDThMThWIFlANOExOFYgWUA04TE4ViBZQLL/vB8D2GBAi1obremtZ0DmfjK3ZDVkQOZ+MrdkNWRA5n4yt2Q1ZEDmfjK3ZDVkQOZ+MrdkNWRA5n4yt2Q1ZEDmfjK3ZDVkQOZ+MrdkNWRAsv+8HwPYYECLWhut6a1nQN733RtC+l1Agb2IoBLWXkCe12wY/a9eQJ7XbBj9r15AntdsGP2vXkCe12wY/a9eQJ7XbBj9r15AntdsGP2vXkCy/7wfA9hgQItaG63prWdA3vfdG0L6XUCBvYigEtZeQJ7XbBj9r15A+gsOI7laXUDBtNzicg9dQMG03OJyD11AwbTc4nIPXUDBtNzicg9dQLL/vB8D2GBAi1obremtZ0De990bQvpdQIG9iKAS1l5AntdsGP2vXkD6Cw4juVpdQMG03OJyD11A020fZpHBXECDtQGxcvRXQJ3oVjj65lZAsv+8HwPYYECLWhut6a1nQN733RtC+l1Agb2IoBLWXkCe12wY/a9eQPoLDiO5Wl1AwbTc4nIPXUDTbR9mkcFcQIO1AbFy9FdAtpecaP9RUkCy/7wfA9hgQItaG63prWdA3vfdG0L6XUCBvYigEtZeQJ7XbBj9r15A+gsOI7laXUDBtNzicg9dQNNtH2aRwVxAg7UBsXL0V0C2l5xo/1FSQLL/vB8D2GBAi1obremtZ0De990bQvpdQIG9iKAS1l5AntdsGP2vXkD6Cw4juVpdQMG03OJyD11A020fZpHBXECDtQGxcvRXQLaXnGj/UVJAsv+8HwPYYECLWhut6a1nQN733RtC+l1Agb2IoBLWXkCe12wY/a9eQPoLDiO5Wl1AwbTc4nIPXUDTbR9mkcFcQIO1AbFy9FdAtpecaP9RUkCy/7wfA9hgQItaG63prWdA3vfdG0L6XUCBvYigEtZeQJ7XbBj9r15A+gsOI7laXUDBtNzicg9dQNNtH2aRwVxAg7UBsXL0V0C2l5xo/1FSQLL/vB8D2GBANOExOFYgWUA04TE4ViBZQDThMThWIFlANOExOFYgWUA04TE4ViBZQDThMThWIFlANOExOFYgWUA04TE4ViBZQDThMThWIFlAsv+8HwPYYECLWhut6a1nQOZ+MrdkNWRA5n4yt2Q1ZEDmfjK3ZDVkQOZ+MrdkNWRA5n4yt2Q1ZEDmfjK3ZDVkQOZ+MrdkNWRA5n4yt2Q1ZECy/7wfA9hgQItaG63prWdA3vfdG0L6XUCBvYigEtZeQJ7XbBj9r15AntdsGP2vXkCe12wY/a9eQJ7XbBj9r15AntdsGP2vXkCe12wY/a9eQLL/vB8D2GBAi1obremtZ0De990bQvpdQIG9iKAS1l5AntdsGP2vXkD6Cw4juVpdQMG03OJyD11AwbTc4nIPXUDBtNzicg9dQMG03OJyD11Asv+8HwPYYECLWhut6a1nQN733RtC+l1Agb2IoBLWXkCe12wY/a9eQPoLDiO5Wl1AwbTc4nIPXUDTbR9mkcFcQIO1AbFy9FdAnehWOPrmVkCy/7wfA9hgQItaG63prWdA3vfdG0L6XUCBvYigEtZeQJ7XbBj9r15A+gsOI7laXUDBtNzicg9dQNNtH2aRwVxAg7UBsXL0V0C2l5xo/1FSQLL/vB8D2GBAi1obremtZ0De990bQvpdQIG9iKAS1l5AntdsGP2vXkD6Cw4juVpdQMG03OJyD11A020fZpHBXECDtQGxcvRXQLaXnGj/UVJAsv+8HwPYYECLWhut6a1nQN733RtC+l1Agb2IoBLWXkCe12wY/a9eQPoLDiO5Wl1AwbTc4nIPXUDTbR9mkcFcQIO1AbFy9FdAtpecaP9RUkCy/7wfA9hgQItaG63prWdA3vfdG0L6XUCBvYigEtZeQJ7XbBj9r15A+gsOI7laXUDBtNzicg9dQNNtH2aRwVxAg7UBsXL0V0C2l5xo/1FSQLL/vB8D2GBAi1obremtZ0De990bQvpdQIG9iKAS1l5AntdsGP2vXkD6Cw4juVpdQMG03OJyD11A020fZpHBXECDtQGxcvRXQLaXnGj/UVJAsv+8HwPYYEA04TE4ViBZQDThMThWIFlANOExOFYgWUA04TE4ViBZQDThMThWIFlANOExOFYgWUA04TE4ViBZQDThMThWIFlANOExOFYgWUCy/7wfA9hgQN2dItxFTWdAqW30hq5mZUCpbfSGrmZlQKlt9IauZmVAqW30hq5mZUCpbfSGrmZlQKlt9IauZmVAqW30hq5mZUCpbfSGrmZlQLL/vB8D2GBA3Z0i3EVNZ0DpbcKLuIteQOXYIkYIgl5A5dgiRgiCXkDl2CJGCIJeQOXYIkYIgl5A5dgiRgiCXkDl2CJGCIJeQOXYIkYIgl5Asv+8HwPYYEDdnSLcRU1nQOltwou4i15A5dgiRgiCXkCf/HOFHnldQAiPwnuQal1Af+3n1bUYXkB/7efVtRheQH/t59W1GF5Af+3n1bUYXkCy/7wfA9hgQN2dItxFTWdA6W3Ci7iLXkDl2CJGCIJeQJ/8c4UeeV1ACI/Ce5BqXUCHLXDussJcQHUub/mzHVpAiRqocXnrWECJGqhxeetYQLL/vB8D2GBA3Z0i3EVNZ0DpbcKLuIteQOXYIkYIgl5An/xzhR55XUAIj8J7kGpdQIctcO6ywlxAdS5v+bMdWkApOG2iXxxWQP2PgUAuHFJAsv+8HwPYYEDdnSLcRU1nQOltwou4i15A5dgiRgiCXkCf/HOFHnldQAiPwnuQal1Ahy1w7rLCXEB1Lm/5sx1aQCk4baJfHFZATpFE0XgCUkCy/7wfA9hgQN2dItxFTWdA6W3Ci7iLXkDl2CJGCIJeQJ/8c4UeeV1ACI/Ce5BqXUCHLXDussJcQHUub/mzHVpAKThtol8cVkBOkUTReAJSQLL/vB8D2GBA3Z0i3EVNZ0DpbcKLuIteQOXYIkYIgl5An/xzhR55XUAIj8J7kGpdQIctcO6ywlxAdS5v+bMdWkApOG2iXxxWQE6RRNF4AlJAsv+8HwPYYEDdnSLcRU1nQOltwou4i15A5dgiRgiCXkCf/HOFHnldQAiPwnuQal1Ahy1w7rLCXEB1Lm/5sx1aQCk4baJfHFZATpFE0XgCUkA=",
          "dtype": "f8"
         },
         "xaxis": "x",
         "y": {
          "bdata": "AAAAAAAAAAAAAAAAAAAAAAAAAAAAAAAAAAAAAAAAAAAAAAAAAAAAAAAAAAAAAAAAAAAAAAAAAAAAAAAAAAAAAAAAAAAAAAAAAAAAAAAAAAAAAAAAAAAAAAAAAAAAAAAAAAAAAAAAAAAAAAAAAAAAAAAAAAAAAAAAAAAAAAAAAAAAAAAAAAAAAAAAAAAAAAAAAAAAAAAAAAAAAAAAAAAAAAAAAAAAAAAAAAAAAAAAAAAAAAAAAAAAAAAAAAAAAAAAAAAAAAAAAAAAAAAAAAAAAAAAAAAAAAAAAAAAAAAAAAAAAAAAAAAAAAAAAAAAAAAAAAAAAAAAAAAAAAAAAAAAAAAAAAAAAAAAAAAAAAAAAAAAAAAAAAAAAAAAAAAAAAAAAAAAAAAAAAAAAAAAAAAAAAAAAAAAAAAAAAAAAAAAAAAAAAAAAAAAAAAAAAAAAAAAAAAAAAAAAAAAAAAAAAAAAAAAAAAAAAAAAAAAAAAAAAAAAAAAAAAAAAAAAAAAAAAAAAAAAAAAAAAAAAAAAAAAAAAAAAAAAAAAAAAAAAAAAAAAAAAAAAAAAAAAAAAAAAAAAAAAAAAAAAAAAAAAAAAAAAAAAAAAAAAAAAAAAAAAAAAAAAAAAAAAAAAAAAAAAAAAAAAAAAAAAAAAAAAAAAAAAAAAAAAAAAAAAAAAAAAAAAAAAAAAAAAAAAAAAAAAAAAAAAAAAAAAAAAAAAAAAAAAAAAAAAAAAAAAAAAAAAAAAAAAAAAAAAAAAAAAAAAAAAAAAAAAAAAAAAAAAAAAAAAAAAAAAAAAAAAAAAAAAAAAAAAAAAAAAAAAAAAAAAAAAAAAAAAAAAAAAAAAAAAAAAAAAAAAAAAAAAAAAAAAAAAAAAAAAAAAAAAAAAAAAAAAAAAAAAAAAAAAAAAAAAAAAAAAAAAAAAAAAAAAAAAAAAAAAAAAAAAAAAAAAAAAAAAAAAAAAAAAAAAAAAAAAAAAAAAAAAAAAAAAAAAAAAAAAAAAAAAAAAAAAAAAAAAAAAAAAAAAAAAAAAAAAAAAAAAAAAAAAAAAAAAAAAAAAAAAAAAAAAAAAAAAAAAAAAAAAAAAAAAAAAAAAAAAAAAAAAAAAAAAAAAAAAAAAAAAAAAAAAAAAAAAAAAAAAAAAAAAAAAAAAAAAAAAAAAAAAAAAAAAAAAAAAAAAAAAAAAAAAAAAAAAAAAAAAAAAAAAAAAAAAAAAAAAAAAAAAAAAAAAAAAAAAAAAAAAAAAAAAAAAAAAAAAAAAAAAAAAAAAAAKDmz7LAbjNAAAAAAAAAAAAAAAAAAAAAAAAAAAAAAAAAAAAAAAAAAAAAAAAAAAAAAAAAAAAAAAAAAAAAAAAAAAAAAAAAAAAAAAAAAAAAAAAAoObPssBuM0AAAAAAAAAAAAAAAAAAAAAAAAAAAAAAAAAAAAAAAAAAAAAAAAAAAAAAAAAAAAAAAAAAAAAAAAAAAAAAAAAAAAAAAAAAAAAAAACg5s+ywG4zQAAAAAAAAAAAAAAAAAAAAAAAAAAAAAAAAAAAAAAAAAAAAAAAAAAAAAAAAAAAAAAAAAAAAAAAAAAAAAAAAAAAAAAAAAAAAAAAAKDmz7LAbjNAAAAAAAAAAAAAAAAAAAAAAAAAAAAAAAAAAAAAAAAAAAAAAAAAAAAAAAAAAAAAAAAAAAAAAAAAAAAAAAAAAAAAAAAAAAAAAAAAoObPssBuM0AAAAAAAAAAAAAAAAAAAAAAAAAAAAAAAAAAAAAAAAAAAAAAAAAAAAAAAAAAAAAAAAAAAAAAAAAAAAAAAAAAAAAAAAAAAAAAAACg5s+ywG4zQAAAAAAAAAAAAAAAAAAAAAAAAAAAAAAAAAAAAAAAAAAAAAAAAAAAAAAAAAAAAAAAAAAAAAAAAAAAAAAAAAAAAAAAAAAAAAAAAKDmz7LAbjNAAAAAAAAAAAAAAAAAAAAAAAAAAAAAAAAAAAAAAAAAAAAAAAAAAAAAAAAAAAAAAAAAAAAAAAAAAAAAAAAAAAAAAAAAAAAAAAAAoObPssBuM0AAAAAAAAAAAAAAAAAAAAAAAAAAAAAAAAAAAAAAAAAAAAAAAAAAAAAAAAAAAAAAAAAAAAAAAAAAAAAAAAAAAAAAAAAAAAAAAACg5s+ywG4zQAAAAAAAAAAAbgg32rO9M0BxMGgzOTU3QHEwaDM5NTdAcTBoMzk1N0BxMGgzOTU3QHEwaDM5NTdAcTBoMzk1N0BxMGgzOTU3QHEwaDM5NTdAAAAAAAAAAABuCDfas70zQDW39oDGXwVANbf2gMZfBUDUD42CwDoJQNQPjYLAOglA1A+NgsA6CUAfY/exxCkJQB9j97HEKQlArgby+wx1B0AAAAAAAAAAAG4IN9qzvTNANbf2gMZfBUA1t/aAxl8FQNQPjYLAOglA1A+NgsA6CUDUD42CwDoJQB9j97HEKQlAH2P3scQpCUAIgDggVLsFQAAAAAAAAAAAbgg32rO9M0A1t/aAxl8FQDW39oDGXwVA1A+NgsA6CUDUD42CwDoJQNQPjYLAOglAH2P3scQpCUAfY/exxCkJQAiAOCBUuwVAAAAAAAAAAABuCDfas70zQDW39oDGXwVANbf2gMZfBUDUD42CwDoJQNQPjYLAOglA1A+NgsA6CUAfY/exxCkJQB9j97HEKQlACIA4IFS7BUAAAAAAAAAAAG4IN9qzvTNANbf2gMZfBUA1t/aAxl8FQNQPjYLAOglA1A+NgsA6CUDUD42CwDoJQB9j97HEKQlAH2P3scQpCUAIgDggVLsFQAAAAAAAAAAAbgg32rO9M0A1t/aAxl8FQDW39oDGXwVA1A+NgsA6CUDUD42CwDoJQNQPjYLAOglAH2P3scQpCUAfY/exxCkJQAiAOCBUuwVAAAAAAAAAAABuCDfas70zQDW39oDGXwVANbf2gMZfBUDUD42CwDoJQNQPjYLAOglA1A+NgsA6CUAfY/exxCkJQB9j97HEKQlACIA4IFS7BUAAAAAAAAAAAG4IN9qzvTNANbf2gMZfBUA1t/aAxl8FQNQPjYLAOglA1A+NgsA6CUDUD42CwDoJQB9j97HEKQlAH2P3scQpCUAIgDggVLsFQAAAAAAAAAAAbgg32rO9M0A1t/aAxl8FQDW39oDGXwVA1A+NgsA6CUDUD42CwDoJQNQPjYLAOglAH2P3scQpCUAfY/exxCkJQAiAOCBUuwVAAAAAAAAAAAAB45UuItU1QAHjlS4i1TVAAeOVLiLVNUAB45UuItU1QAHjlS4i1TVAAeOVLiLVNUAB45UuItU1QAHjlS4i1TVAAeOVLiLVNUAAAAAAAAAAAAHjlS4i1TVAU1nyDQ30B0BTWfINDfQHQJgbcBEShQtAmBtwERKFC0D+Hxh7KGcPQP4fGHsoZw9A/h8YeyhnD0D+Hxh7KGcPQAAAAAAAAAAAAeOVLiLVNUBTWfINDfQHQFNZ8g0N9AdAmBtwERKFC0CYG3AREoULQP4fGHsoZw9AYmZaA8svD0BiZloDyy8PQEy3WmqTZgtAAAAAAAAAAAAB45UuItU1QFNZ8g0N9AdAU1nyDQ30B0CYG3AREoULQJgbcBEShQtA/h8YeyhnD0BiZloDyy8PQGJmWgPLLw9A8qVCBoJzC0AAAAAAAAAAAAHjlS4i1TVAU1nyDQ30B0BTWfINDfQHQJgbcBEShQtAmBtwERKFC0D+Hxh7KGcPQGJmWgPLLw9AYmZaA8svD0DypUIGgnMLQAAAAAAAAAAAAeOVLiLVNUBTWfINDfQHQFNZ8g0N9AdAmBtwERKFC0CYG3AREoULQP4fGHsoZw9AYmZaA8svD0BiZloDyy8PQPKlQgaCcwtAAAAAAAAAAAAB45UuItU1QFNZ8g0N9AdAU1nyDQ30B0CYG3AREoULQJgbcBEShQtA/h8YeyhnD0BiZloDyy8PQGJmWgPLLw9A8qVCBoJzC0AAAAAAAAAAAAHjlS4i1TVAU1nyDQ30B0BTWfINDfQHQJgbcBEShQtAmBtwERKFC0D+Hxh7KGcPQGJmWgPLLw9AYmZaA8svD0DypUIGgnMLQAAAAAAAAAAAAeOVLiLVNUBTWfINDfQHQFNZ8g0N9AdAmBtwERKFC0CYG3AREoULQP4fGHsoZw9AYmZaA8svD0BiZloDyy8PQPKlQgaCcwtAAAAAAAAAAAAB45UuItU1QFNZ8g0N9AdAU1nyDQ30B0CYG3AREoULQJgbcBEShQtA/h8YeyhnD0BiZloDyy8PQGJmWgPLLw9A8qVCBoJzC0AAAAAAAAAAAA3/QBuR/y5ADf9AG5H/LkAN/0Abkf8uQA3/QBuR/y5ADf9AG5H/LkAN/0Abkf8uQA3/QBuR/y5ADf9AG5H/LkAN/0Abkf8uQAAAAAAAAAAA/wFO78UBNUBTo7g9j5YHQFOjuD2PlgdAU6O4PY+WB0BTo7g9j5YHQFOjuD2PlgdAU6O4PY+WB0BTo7g9j5YHQFOjuD2PlgdAAAAAAAAAAAD/AU7vxQE1QFOjuD2PlgdAB/k1TGRnCkBKG1ROCY4NQEobVE4Jjg1A5liddRWFEEBmKDhXhXgQQGYoOFeFeBBAZig4V4V4EEAAAAAAAAAAAP8BTu/FATVAU6O4PY+WB0AH+TVMZGcKQEobVE4Jjg1AShtUTgmODUDmWJ11FYUQQGYoOFeFeBBAZig4V4V4EEBkejXJEv8NQAAAAAAAAAAA/wFO78UBNUBTo7g9j5YHQAf5NUxkZwpAShtUTgmODUBKG1ROCY4NQOZYnXUVhRBAZig4V4V4EEBmKDhXhXgQQGR6NckS/w1AAAAAAAAAAAD/AU7vxQE1QFOjuD2PlgdAB/k1TGRnCkBKG1ROCY4NQEobVE4Jjg1A5liddRWFEEBmKDhXhXgQQGYoOFeFeBBAZHo1yRL/DUAAAAAAAAAAAP8BTu/FATVAU6O4PY+WB0AH+TVMZGcKQEobVE4Jjg1AShtUTgmODUDmWJ11FYUQQGYoOFeFeBBAZig4V4V4EEBkejXJEv8NQAAAAAAAAAAA/wFO78UBNUBTo7g9j5YHQAf5NUxkZwpAShtUTgmODUBKG1ROCY4NQOZYnXUVhRBAZig4V4V4EEBmKDhXhXgQQGR6NckS/w1AAAAAAAAAAAD/AU7vxQE1QFOjuD2PlgdAB/k1TGRnCkBKG1ROCY4NQEobVE4Jjg1A5liddRWFEEBmKDhXhXgQQGYoOFeFeBBAZHo1yRL/DUAAAAAAAAAAAP8BTu/FATVAU6O4PY+WB0AH+TVMZGcKQEobVE4Jjg1AShtUTgmODUDmWJ11FYUQQGYoOFeFeBBAZig4V4V4EEBkejXJEv8NQAAAAAAAAAAADf9AG5H/LkAN/0Abkf8uQA3/QBuR/y5ADf9AG5H/LkAN/0Abkf8uQA3/QBuR/y5ADf9AG5H/LkAN/0Abkf8uQA3/QBuR/y5AAAAAAAAAAAD/AU7vxQE1QFOjuD2PlgdAU6O4PY+WB0BTo7g9j5YHQFOjuD2PlgdAU6O4PY+WB0BTo7g9j5YHQFOjuD2PlgdAU6O4PY+WB0AAAAAAAAAAAP8BTu/FATVAU6O4PY+WB0AH+TVMZGcKQEobVE4Jjg1AShtUTgmODUDiwY0Yeh0QQOLBjRh6HRBA4sGNGHodEEDiwY0Yeh0QQAAAAAAAAAAA/wFO78UBNUBTo7g9j5YHQAf5NUxkZwpAShtUTgmODUBKG1ROCY4NQOLBjRh6HRBAcEOXnxIaEECsTatG82QLQIlDFbgrYQpAAAAAAAAAAAD/AU7vxQE1QFOjuD2PlgdAB/k1TGRnCkBKG1ROCY4NQEobVE4Jjg1A4sGNGHodEEBwQ5efEhoQQKxNq0bzZAtACu4rfGSlCUAAAAAAAAAAAP8BTu/FATVAU6O4PY+WB0AH+TVMZGcKQEobVE4Jjg1AShtUTgmODUDiwY0Yeh0QQHBDl58SGhBArE2rRvNkC0AK7it8ZKUJQAAAAAAAAAAA/wFO78UBNUBTo7g9j5YHQAf5NUxkZwpAShtUTgmODUBKG1ROCY4NQOLBjRh6HRBAcEOXnxIaEECsTatG82QLQAruK3xkpQlAAAAAAAAAAAD/AU7vxQE1QFOjuD2PlgdAB/k1TGRnCkBKG1ROCY4NQEobVE4Jjg1A4sGNGHodEEBwQ5efEhoQQKxNq0bzZAtACu4rfGSlCUAAAAAAAAAAAP8BTu/FATVAU6O4PY+WB0AH+TVMZGcKQEobVE4Jjg1AShtUTgmODUDiwY0Yeh0QQHBDl58SGhBArE2rRvNkC0AK7it8ZKUJQAAAAAAAAAAA/wFO78UBNUBTo7g9j5YHQAf5NUxkZwpAShtUTgmODUBKG1ROCY4NQOLBjRh6HRBAcEOXnxIaEECsTatG82QLQAruK3xkpQlAAAAAAAAAAAAN/0Abkf8uQA3/QBuR/y5ADf9AG5H/LkAN/0Abkf8uQA3/QBuR/y5ADf9AG5H/LkAN/0Abkf8uQA3/QBuR/y5ADf9AG5H/LkAAAAAAAAAAAP8BTu/FATVAU6O4PY+WB0BTo7g9j5YHQFOjuD2PlgdAU6O4PY+WB0BTo7g9j5YHQFOjuD2PlgdAU6O4PY+WB0BTo7g9j5YHQAAAAAAAAAAA/wFO78UBNUBTo7g9j5YHQAf5NUxkZwpAShtUTgmODUCjzmGyiecLQDSMhS34Vg9ANIyFLfhWD0A0jIUt+FYPQDSMhS34Vg9AAAAAAAAAAAD/AU7vxQE1QFOjuD2PlgdAB/k1TGRnCkBKG1ROCY4NQKPOYbKJ5wtACBgxHm+nDkA3sTQZELUOQPg4quATqAVA+Diq4BOoBUAAAAAAAAAAAP8BTu/FATVAU6O4PY+WB0AH+TVMZGcKQEobVE4Jjg1Ao85hsonnC0AIGDEeb6cOQDexNBkQtQ5A+Diq4BOoBUC0I51+v64EQAAAAAAAAAAA/wFO78UBNUBTo7g9j5YHQAf5NUxkZwpAShtUTgmODUCjzmGyiecLQAgYMR5vpw5AN7E0GRC1DkD4OKrgE6gFQLQjnX6/rgRAAAAAAAAAAAD/AU7vxQE1QFOjuD2PlgdAB/k1TGRnCkBKG1ROCY4NQKPOYbKJ5wtACBgxHm+nDkA3sTQZELUOQPg4quATqAVAtCOdfr+uBEAAAAAAAAAAAP8BTu/FATVAU6O4PY+WB0AH+TVMZGcKQEobVE4Jjg1Ao85hsonnC0AIGDEeb6cOQDexNBkQtQ5A+Diq4BOoBUC0I51+v64EQAAAAAAAAAAA/wFO78UBNUBTo7g9j5YHQAf5NUxkZwpAShtUTgmODUCjzmGyiecLQAgYMR5vpw5AN7E0GRC1DkD4OKrgE6gFQLQjnX6/rgRAAAAAAAAAAAD/AU7vxQE1QFOjuD2PlgdAB/k1TGRnCkBKG1ROCY4NQKPOYbKJ5wtACBgxHm+nDkA3sTQZELUOQPg4quATqAVAtCOdfr+uBEAAAAAAAAAAAA3/QBuR/y5ADf9AG5H/LkAN/0Abkf8uQA3/QBuR/y5ADf9AG5H/LkAN/0Abkf8uQA3/QBuR/y5ADf9AG5H/LkAN/0Abkf8uQAAAAAAAAAAAwIU83l/RP0Cutpmx1YVAQK62mbHVhUBArraZsdWFQECutpmx1YVAQK62mbHVhUBArraZsdWFQECutpmx1YVAQK62mbHVhUBAAAAAAAAAAADAhTzeX9E/QPdXEFssAhFAEHqujSMkEkBt+KUQCRgTQG34pRAJGBNAbfilEAkYE0Bt+KUQCRgTQG34pRAJGBNAbfilEAkYE0AAAAAAAAAAAMCFPN5f0T9A91cQWywCEUAQeq6NIyQSQG34pRAJGBNArtvKUvA5FEBHqJposTUVQEeommixNRVAR6iaaLE1FUBHqJposTUVQAAAAAAAAAAAwIU83l/RP0D3VxBbLAIRQBB6ro0jJBJAbfilEAkYE0Cu28pS8DkUQEeommixNRVAoi/V5L4hFUBZC4MdLVUPQOtJ3wfQaQ5AAAAAAAAAAADAhTzeX9E/QPdXEFssAhFAEHqujSMkEkBt+KUQCRgTQK7bylLwORRAR6iaaLE1FUCiL9XkviEVQFkLgx0tVQ9AfipHNrjECkAAAAAAAAAAAMCFPN5f0T9A91cQWywCEUAQeq6NIyQSQG34pRAJGBNArtvKUvA5FEBHqJposTUVQKIv1eS+IRVAWQuDHS1VD0B+Kkc2uMQKQAAAAAAAAAAAwIU83l/RP0D3VxBbLAIRQBB6ro0jJBJAbfilEAkYE0Cu28pS8DkUQEeommixNRVAoi/V5L4hFUBZC4MdLVUPQH4qRza4xApAAAAAAAAAAADAhTzeX9E/QPdXEFssAhFAEHqujSMkEkBt+KUQCRgTQK7bylLwORRAR6iaaLE1FUCiL9XkviEVQFkLgx0tVQ9AfipHNrjECkAAAAAAAAAAAMCFPN5f0T9A91cQWywCEUAQeq6NIyQSQG34pRAJGBNArtvKUvA5FEBHqJposTUVQKIv1eS+IRVAWQuDHS1VD0B+Kkc2uMQKQAAAAAAAAAAADf9AG5H/LkAN/0Abkf8uQA3/QBuR/y5ADf9AG5H/LkAN/0Abkf8uQA3/QBuR/y5ADf9AG5H/LkAN/0Abkf8uQA3/QBuR/y5AAAAAAAAAAADAhTzeX9E/QK62mbHVhUBArraZsdWFQECutpmx1YVAQK62mbHVhUBArraZsdWFQECutpmx1YVAQK62mbHVhUBArraZsdWFQEAAAAAAAAAAAMCFPN5f0T9A91cQWywCEUAQeq6NIyQSQG34pRAJGBNAbfilEAkYE0Bt+KUQCRgTQG34pRAJGBNAbfilEAkYE0Bt+KUQCRgTQAAAAAAAAAAAwIU83l/RP0D3VxBbLAIRQBB6ro0jJBJAbfilEAkYE0Cu28pS8DkUQEeommixNRVAR6iaaLE1FUBHqJposTUVQEeommixNRVAAAAAAAAAAADAhTzeX9E/QPdXEFssAhFAEHqujSMkEkBt+KUQCRgTQK7bylLwORRAR6iaaLE1FUCiL9XkviEVQFkLgx0tVQ9A60nfB9BpDkAAAAAAAAAAAMCFPN5f0T9A91cQWywCEUAQeq6NIyQSQG34pRAJGBNArtvKUvA5FEBHqJposTUVQKIv1eS+IRVAWQuDHS1VD0B+Kkc2uMQKQAAAAAAAAAAAwIU83l/RP0D3VxBbLAIRQBB6ro0jJBJAbfilEAkYE0Cu28pS8DkUQEeommixNRVAoi/V5L4hFUBZC4MdLVUPQH4qRza4xApAAAAAAAAAAADAhTzeX9E/QPdXEFssAhFAEHqujSMkEkBt+KUQCRgTQK7bylLwORRAR6iaaLE1FUCiL9XkviEVQFkLgx0tVQ9AfipHNrjECkAAAAAAAAAAAMCFPN5f0T9A91cQWywCEUAQeq6NIyQSQG34pRAJGBNArtvKUvA5FEBHqJposTUVQKIv1eS+IRVAWQuDHS1VD0B+Kkc2uMQKQAAAAAAAAAAAwIU83l/RP0D3VxBbLAIRQBB6ro0jJBJAbfilEAkYE0Cu28pS8DkUQEeommixNRVAoi/V5L4hFUBZC4MdLVUPQH4qRza4xApAAAAAAAAAAAAN/0Abkf8uQA3/QBuR/y5ADf9AG5H/LkAN/0Abkf8uQA3/QBuR/y5ADf9AG5H/LkAN/0Abkf8uQA3/QBuR/y5ADf9AG5H/LkAAAAAAAAAAAMCxFPfznUBAGVs1wPlZQUAZWzXA+VlBQBlbNcD5WUFAGVs1wPlZQUAZWzXA+VlBQBlbNcD5WUFAGVs1wPlZQUAZWzXA+VlBQAAAAAAAAAAAwLEU9/OdQED2XR08bPkRQIQEDcWuChNAhAQNxa4KE0CEBA3FrgoTQIQEDcWuChNAhAQNxa4KE0CEBA3FrgoTQIQEDcWuChNAAAAAAAAAAADAsRT3851AQPZdHTxs+RFAhAQNxa4KE0DESQGSS/UTQBquddveCBVAqgmgih5dFkCqCaCKHl0WQKoJoIoeXRZAqgmgih5dFkAAAAAAAAAAAMCxFPfznUBA9l0dPGz5EUCEBA3FrgoTQMRJAZJL9RNAGq51294IFUBAM/NK7fsVQBpttu/zcxJADu6MWSoDEUAO7oxZKgMRQAAAAAAAAAAAwLEU9/OdQED2XR08bPkRQIQEDcWuChNAxEkBkkv1E0AarnXb3ggVQEAz80rt+xVAGm227/NzEkAlodCo9pQMQG5t30RUXQhAAAAAAAAAAADAsRT3851AQPZdHTxs+RFAhAQNxa4KE0DESQGSS/UTQBquddveCBVAQDPzSu37FUAabbbv83MSQCWh0Kj2lAxArULZl03FCEAAAAAAAAAAAMCxFPfznUBA9l0dPGz5EUCEBA3FrgoTQMRJAZJL9RNAGq51294IFUBAM/NK7fsVQBpttu/zcxJAJaHQqPaUDECtQtmXTcUIQAAAAAAAAAAAwLEU9/OdQED2XR08bPkRQIQEDcWuChNAxEkBkkv1E0AarnXb3ggVQEAz80rt+xVAGm227/NzEkAlodCo9pQMQK1C2ZdNxQhAAAAAAAAAAADAsRT3851AQPZdHTxs+RFAhAQNxa4KE0DESQGSS/UTQBquddveCBVAQDPzSu37FUAabbbv83MSQCWh0Kj2lAxArULZl03FCEA=",
          "dtype": "f8"
         },
         "yaxis": "y"
        }
       ],
       "layout": {
        "legend": {
         "tracegroupgap": 0
        },
        "template": {
         "data": {
          "bar": [
           {
            "error_x": {
             "color": "#2a3f5f"
            },
            "error_y": {
             "color": "#2a3f5f"
            },
            "marker": {
             "line": {
              "color": "white",
              "width": 0.5
             },
             "pattern": {
              "fillmode": "overlay",
              "size": 10,
              "solidity": 0.2
             }
            },
            "type": "bar"
           }
          ],
          "barpolar": [
           {
            "marker": {
             "line": {
              "color": "white",
              "width": 0.5
             },
             "pattern": {
              "fillmode": "overlay",
              "size": 10,
              "solidity": 0.2
             }
            },
            "type": "barpolar"
           }
          ],
          "carpet": [
           {
            "aaxis": {
             "endlinecolor": "#2a3f5f",
             "gridcolor": "#C8D4E3",
             "linecolor": "#C8D4E3",
             "minorgridcolor": "#C8D4E3",
             "startlinecolor": "#2a3f5f"
            },
            "baxis": {
             "endlinecolor": "#2a3f5f",
             "gridcolor": "#C8D4E3",
             "linecolor": "#C8D4E3",
             "minorgridcolor": "#C8D4E3",
             "startlinecolor": "#2a3f5f"
            },
            "type": "carpet"
           }
          ],
          "choropleth": [
           {
            "colorbar": {
             "outlinewidth": 0,
             "ticks": ""
            },
            "type": "choropleth"
           }
          ],
          "contour": [
           {
            "colorbar": {
             "outlinewidth": 0,
             "ticks": ""
            },
            "colorscale": [
             [
              0,
              "#0d0887"
             ],
             [
              0.1111111111111111,
              "#46039f"
             ],
             [
              0.2222222222222222,
              "#7201a8"
             ],
             [
              0.3333333333333333,
              "#9c179e"
             ],
             [
              0.4444444444444444,
              "#bd3786"
             ],
             [
              0.5555555555555556,
              "#d8576b"
             ],
             [
              0.6666666666666666,
              "#ed7953"
             ],
             [
              0.7777777777777778,
              "#fb9f3a"
             ],
             [
              0.8888888888888888,
              "#fdca26"
             ],
             [
              1,
              "#f0f921"
             ]
            ],
            "type": "contour"
           }
          ],
          "contourcarpet": [
           {
            "colorbar": {
             "outlinewidth": 0,
             "ticks": ""
            },
            "type": "contourcarpet"
           }
          ],
          "heatmap": [
           {
            "colorbar": {
             "outlinewidth": 0,
             "ticks": ""
            },
            "colorscale": [
             [
              0,
              "#0d0887"
             ],
             [
              0.1111111111111111,
              "#46039f"
             ],
             [
              0.2222222222222222,
              "#7201a8"
             ],
             [
              0.3333333333333333,
              "#9c179e"
             ],
             [
              0.4444444444444444,
              "#bd3786"
             ],
             [
              0.5555555555555556,
              "#d8576b"
             ],
             [
              0.6666666666666666,
              "#ed7953"
             ],
             [
              0.7777777777777778,
              "#fb9f3a"
             ],
             [
              0.8888888888888888,
              "#fdca26"
             ],
             [
              1,
              "#f0f921"
             ]
            ],
            "type": "heatmap"
           }
          ],
          "histogram": [
           {
            "marker": {
             "pattern": {
              "fillmode": "overlay",
              "size": 10,
              "solidity": 0.2
             }
            },
            "type": "histogram"
           }
          ],
          "histogram2d": [
           {
            "colorbar": {
             "outlinewidth": 0,
             "ticks": ""
            },
            "colorscale": [
             [
              0,
              "#0d0887"
             ],
             [
              0.1111111111111111,
              "#46039f"
             ],
             [
              0.2222222222222222,
              "#7201a8"
             ],
             [
              0.3333333333333333,
              "#9c179e"
             ],
             [
              0.4444444444444444,
              "#bd3786"
             ],
             [
              0.5555555555555556,
              "#d8576b"
             ],
             [
              0.6666666666666666,
              "#ed7953"
             ],
             [
              0.7777777777777778,
              "#fb9f3a"
             ],
             [
              0.8888888888888888,
              "#fdca26"
             ],
             [
              1,
              "#f0f921"
             ]
            ],
            "type": "histogram2d"
           }
          ],
          "histogram2dcontour": [
           {
            "colorbar": {
             "outlinewidth": 0,
             "ticks": ""
            },
            "colorscale": [
             [
              0,
              "#0d0887"
             ],
             [
              0.1111111111111111,
              "#46039f"
             ],
             [
              0.2222222222222222,
              "#7201a8"
             ],
             [
              0.3333333333333333,
              "#9c179e"
             ],
             [
              0.4444444444444444,
              "#bd3786"
             ],
             [
              0.5555555555555556,
              "#d8576b"
             ],
             [
              0.6666666666666666,
              "#ed7953"
             ],
             [
              0.7777777777777778,
              "#fb9f3a"
             ],
             [
              0.8888888888888888,
              "#fdca26"
             ],
             [
              1,
              "#f0f921"
             ]
            ],
            "type": "histogram2dcontour"
           }
          ],
          "mesh3d": [
           {
            "colorbar": {
             "outlinewidth": 0,
             "ticks": ""
            },
            "type": "mesh3d"
           }
          ],
          "parcoords": [
           {
            "line": {
             "colorbar": {
              "outlinewidth": 0,
              "ticks": ""
             }
            },
            "type": "parcoords"
           }
          ],
          "pie": [
           {
            "automargin": true,
            "type": "pie"
           }
          ],
          "scatter": [
           {
            "fillpattern": {
             "fillmode": "overlay",
             "size": 10,
             "solidity": 0.2
            },
            "type": "scatter"
           }
          ],
          "scatter3d": [
           {
            "line": {
             "colorbar": {
              "outlinewidth": 0,
              "ticks": ""
             }
            },
            "marker": {
             "colorbar": {
              "outlinewidth": 0,
              "ticks": ""
             }
            },
            "type": "scatter3d"
           }
          ],
          "scattercarpet": [
           {
            "marker": {
             "colorbar": {
              "outlinewidth": 0,
              "ticks": ""
             }
            },
            "type": "scattercarpet"
           }
          ],
          "scattergeo": [
           {
            "marker": {
             "colorbar": {
              "outlinewidth": 0,
              "ticks": ""
             }
            },
            "type": "scattergeo"
           }
          ],
          "scattergl": [
           {
            "marker": {
             "colorbar": {
              "outlinewidth": 0,
              "ticks": ""
             }
            },
            "type": "scattergl"
           }
          ],
          "scattermap": [
           {
            "marker": {
             "colorbar": {
              "outlinewidth": 0,
              "ticks": ""
             }
            },
            "type": "scattermap"
           }
          ],
          "scattermapbox": [
           {
            "marker": {
             "colorbar": {
              "outlinewidth": 0,
              "ticks": ""
             }
            },
            "type": "scattermapbox"
           }
          ],
          "scatterpolar": [
           {
            "marker": {
             "colorbar": {
              "outlinewidth": 0,
              "ticks": ""
             }
            },
            "type": "scatterpolar"
           }
          ],
          "scatterpolargl": [
           {
            "marker": {
             "colorbar": {
              "outlinewidth": 0,
              "ticks": ""
             }
            },
            "type": "scatterpolargl"
           }
          ],
          "scatterternary": [
           {
            "marker": {
             "colorbar": {
              "outlinewidth": 0,
              "ticks": ""
             }
            },
            "type": "scatterternary"
           }
          ],
          "surface": [
           {
            "colorbar": {
             "outlinewidth": 0,
             "ticks": ""
            },
            "colorscale": [
             [
              0,
              "#0d0887"
             ],
             [
              0.1111111111111111,
              "#46039f"
             ],
             [
              0.2222222222222222,
              "#7201a8"
             ],
             [
              0.3333333333333333,
              "#9c179e"
             ],
             [
              0.4444444444444444,
              "#bd3786"
             ],
             [
              0.5555555555555556,
              "#d8576b"
             ],
             [
              0.6666666666666666,
              "#ed7953"
             ],
             [
              0.7777777777777778,
              "#fb9f3a"
             ],
             [
              0.8888888888888888,
              "#fdca26"
             ],
             [
              1,
              "#f0f921"
             ]
            ],
            "type": "surface"
           }
          ],
          "table": [
           {
            "cells": {
             "fill": {
              "color": "#EBF0F8"
             },
             "line": {
              "color": "white"
             }
            },
            "header": {
             "fill": {
              "color": "#C8D4E3"
             },
             "line": {
              "color": "white"
             }
            },
            "type": "table"
           }
          ]
         },
         "layout": {
          "annotationdefaults": {
           "arrowcolor": "#2a3f5f",
           "arrowhead": 0,
           "arrowwidth": 1
          },
          "autotypenumbers": "strict",
          "coloraxis": {
           "colorbar": {
            "outlinewidth": 0,
            "ticks": ""
           }
          },
          "colorscale": {
           "diverging": [
            [
             0,
             "#8e0152"
            ],
            [
             0.1,
             "#c51b7d"
            ],
            [
             0.2,
             "#de77ae"
            ],
            [
             0.3,
             "#f1b6da"
            ],
            [
             0.4,
             "#fde0ef"
            ],
            [
             0.5,
             "#f7f7f7"
            ],
            [
             0.6,
             "#e6f5d0"
            ],
            [
             0.7,
             "#b8e186"
            ],
            [
             0.8,
             "#7fbc41"
            ],
            [
             0.9,
             "#4d9221"
            ],
            [
             1,
             "#276419"
            ]
           ],
           "sequential": [
            [
             0,
             "#0d0887"
            ],
            [
             0.1111111111111111,
             "#46039f"
            ],
            [
             0.2222222222222222,
             "#7201a8"
            ],
            [
             0.3333333333333333,
             "#9c179e"
            ],
            [
             0.4444444444444444,
             "#bd3786"
            ],
            [
             0.5555555555555556,
             "#d8576b"
            ],
            [
             0.6666666666666666,
             "#ed7953"
            ],
            [
             0.7777777777777778,
             "#fb9f3a"
            ],
            [
             0.8888888888888888,
             "#fdca26"
            ],
            [
             1,
             "#f0f921"
            ]
           ],
           "sequentialminus": [
            [
             0,
             "#0d0887"
            ],
            [
             0.1111111111111111,
             "#46039f"
            ],
            [
             0.2222222222222222,
             "#7201a8"
            ],
            [
             0.3333333333333333,
             "#9c179e"
            ],
            [
             0.4444444444444444,
             "#bd3786"
            ],
            [
             0.5555555555555556,
             "#d8576b"
            ],
            [
             0.6666666666666666,
             "#ed7953"
            ],
            [
             0.7777777777777778,
             "#fb9f3a"
            ],
            [
             0.8888888888888888,
             "#fdca26"
            ],
            [
             1,
             "#f0f921"
            ]
           ]
          },
          "colorway": [
           "#636efa",
           "#EF553B",
           "#00cc96",
           "#ab63fa",
           "#FFA15A",
           "#19d3f3",
           "#FF6692",
           "#B6E880",
           "#FF97FF",
           "#FECB52"
          ],
          "font": {
           "color": "#2a3f5f"
          },
          "geo": {
           "bgcolor": "white",
           "lakecolor": "white",
           "landcolor": "white",
           "showlakes": true,
           "showland": true,
           "subunitcolor": "#C8D4E3"
          },
          "hoverlabel": {
           "align": "left"
          },
          "hovermode": "closest",
          "mapbox": {
           "style": "light"
          },
          "paper_bgcolor": "white",
          "plot_bgcolor": "white",
          "polar": {
           "angularaxis": {
            "gridcolor": "#EBF0F8",
            "linecolor": "#EBF0F8",
            "ticks": ""
           },
           "bgcolor": "white",
           "radialaxis": {
            "gridcolor": "#EBF0F8",
            "linecolor": "#EBF0F8",
            "ticks": ""
           }
          },
          "scene": {
           "xaxis": {
            "backgroundcolor": "white",
            "gridcolor": "#DFE8F3",
            "gridwidth": 2,
            "linecolor": "#EBF0F8",
            "showbackground": true,
            "ticks": "",
            "zerolinecolor": "#EBF0F8"
           },
           "yaxis": {
            "backgroundcolor": "white",
            "gridcolor": "#DFE8F3",
            "gridwidth": 2,
            "linecolor": "#EBF0F8",
            "showbackground": true,
            "ticks": "",
            "zerolinecolor": "#EBF0F8"
           },
           "zaxis": {
            "backgroundcolor": "white",
            "gridcolor": "#DFE8F3",
            "gridwidth": 2,
            "linecolor": "#EBF0F8",
            "showbackground": true,
            "ticks": "",
            "zerolinecolor": "#EBF0F8"
           }
          },
          "shapedefaults": {
           "line": {
            "color": "#2a3f5f"
           }
          },
          "ternary": {
           "aaxis": {
            "gridcolor": "#DFE8F3",
            "linecolor": "#A2B1C6",
            "ticks": ""
           },
           "baxis": {
            "gridcolor": "#DFE8F3",
            "linecolor": "#A2B1C6",
            "ticks": ""
           },
           "bgcolor": "white",
           "caxis": {
            "gridcolor": "#DFE8F3",
            "linecolor": "#A2B1C6",
            "ticks": ""
           }
          },
          "title": {
           "x": 0.05
          },
          "xaxis": {
           "automargin": true,
           "gridcolor": "#EBF0F8",
           "linecolor": "#EBF0F8",
           "ticks": "",
           "title": {
            "standoff": 15
           },
           "zerolinecolor": "#EBF0F8",
           "zerolinewidth": 2
          },
          "yaxis": {
           "automargin": true,
           "gridcolor": "#EBF0F8",
           "linecolor": "#EBF0F8",
           "ticks": "",
           "title": {
            "standoff": 15
           },
           "zerolinecolor": "#EBF0F8",
           "zerolinewidth": 2
          }
         }
        },
        "title": {
         "text": "Annualized Returns vs Sortino Ratio"
        },
        "xaxis": {
         "anchor": "y",
         "domain": [
          0,
          1
         ],
         "title": {
          "text": "Annualized Return (%)"
         }
        },
        "yaxis": {
         "anchor": "x",
         "domain": [
          0,
          1
         ],
         "title": {
          "text": "Sortino Ratio"
         }
        }
       }
      }
     },
     "metadata": {},
     "output_type": "display_data"
    }
   ],
   "source": [
    "import plotly.express as px\n",
    "\n",
    "fig = px.scatter(\n",
    "    experiments,\n",
    "    x='total_annualized_return_pct',\n",
    "    y='portfolio_sortino_ratio',\n",
    "    title='Annualized Returns vs Sortino Ratio',\n",
    "    labels={\n",
    "        'total_annualized_return_pct': 'Annualized Return (%)',\n",
    "        'sortino_ratio': 'Sortino Ratio',\n",
    "        'total_stocks': 'Number of Stocks'\n",
    "    },\n",
    "    hover_data=['experiment_id', 'market_cap_percentile', 'total_stocks', 'min_zscore_rank']\n",
    ")\n",
    "\n",
    "fig.update_layout(\n",
    "    xaxis_title=\"Annualized Return (%)\",\n",
    "    yaxis_title=\"Sortino Ratio\",\n",
    "    template=\"plotly_white\"\n",
    ")\n",
    "\n",
    "fig.show()\n"
   ]
  },
  {
   "cell_type": "code",
   "execution_count": 29,
   "id": "776f94a0",
   "metadata": {},
   "outputs": [
    {
     "data": {
      "application/vnd.plotly.v1+json": {
       "config": {
        "plotlyServerURL": "https://plot.ly"
       },
       "data": [
        {
         "coloraxis": "coloraxis",
         "customdata": [
          [
           "Median Return: 378.4%<br>Median Sortino: 0.00<br>Median Stocks: 1",
           "Median Return: 378.4%<br>Median Sortino: 0.00<br>Median Stocks: 1",
           "Median Return: 201.3%<br>Median Sortino: 0.00<br>Median Stocks: 2",
           "Median Return: 201.3%<br>Median Sortino: 0.00<br>Median Stocks: 2",
           "Median Return: 200.5%<br>Median Sortino: 0.00<br>Median Stocks: 3",
           "Median Return: 200.5%<br>Median Sortino: 0.00<br>Median Stocks: 3",
           "Median Return: 200.5%<br>Median Sortino: 0.00<br>Median Stocks: 3",
           "Median Return: 200.5%<br>Median Sortino: 0.00<br>Median Stocks: 3",
           "Median Return: 200.5%<br>Median Sortino: 0.00<br>Median Stocks: 3",
           "Median Return: 200.5%<br>Median Sortino: 0.00<br>Median Stocks: 3"
          ],
          [
           "Median Return: 191.7%<br>Median Sortino: 0.00<br>Median Stocks: 2",
           "Median Return: 223.5%<br>Median Sortino: 0.00<br>Median Stocks: 3",
           "Median Return: 182.8%<br>Median Sortino: 0.00<br>Median Stocks: 5",
           "Median Return: 182.8%<br>Median Sortino: 0.00<br>Median Stocks: 5",
           "Median Return: 184.9%<br>Median Sortino: 0.00<br>Median Stocks: 6",
           "Median Return: 184.9%<br>Median Sortino: 0.00<br>Median Stocks: 6",
           "Median Return: 184.9%<br>Median Sortino: 0.00<br>Median Stocks: 6",
           "Median Return: 184.9%<br>Median Sortino: 0.00<br>Median Stocks: 6",
           "Median Return: 184.9%<br>Median Sortino: 0.00<br>Median Stocks: 6",
           "Median Return: 118.0%<br>Median Sortino: 19.43<br>Median Stocks: 9"
          ],
          [
           "Median Return: 191.7%<br>Median Sortino: 0.00<br>Median Stocks: 2",
           "Median Return: 150.8%<br>Median Sortino: 19.74<br>Median Stocks: 4",
           "Median Return: 96.8%<br>Median Sortino: 2.67<br>Median Stocks: 7",
           "Median Return: 96.8%<br>Median Sortino: 2.67<br>Median Stocks: 7",
           "Median Return: 108.4%<br>Median Sortino: 3.15<br>Median Stocks: 8",
           "Median Return: 108.4%<br>Median Sortino: 3.15<br>Median Stocks: 8",
           "Median Return: 108.4%<br>Median Sortino: 3.15<br>Median Stocks: 8",
           "Median Return: 101.5%<br>Median Sortino: 3.15<br>Median Stocks: 9",
           "Median Return: 101.5%<br>Median Sortino: 3.15<br>Median Stocks: 9",
           "Median Return: 75.5%<br>Median Sortino: 2.72<br>Median Stocks: 11"
          ],
          [
           "Median Return: 191.7%<br>Median Sortino: 0.00<br>Median Stocks: 2",
           "Median Return: 148.8%<br>Median Sortino: 21.83<br>Median Stocks: 5",
           "Median Return: 102.5%<br>Median Sortino: 2.99<br>Median Stocks: 8",
           "Median Return: 102.5%<br>Median Sortino: 2.99<br>Median Stocks: 8",
           "Median Return: 112.2%<br>Median Sortino: 3.44<br>Median Stocks: 9",
           "Median Return: 112.2%<br>Median Sortino: 3.44<br>Median Stocks: 9",
           "Median Return: 121.8%<br>Median Sortino: 3.93<br>Median Stocks: 10",
           "Median Return: 115.1%<br>Median Sortino: 3.90<br>Median Stocks: 10",
           "Median Return: 115.1%<br>Median Sortino: 3.90<br>Median Stocks: 10",
           "Median Return: 85.7%<br>Median Sortino: 3.43<br>Median Stocks: 13"
          ],
          [
           "Median Return: 134.8%<br>Median Sortino: 0.00<br>Median Stocks: 3",
           "Median Return: 128.0%<br>Median Sortino: 21.01<br>Median Stocks: 6",
           "Median Return: 89.4%<br>Median Sortino: 2.95<br>Median Stocks: 10",
           "Median Return: 95.0%<br>Median Sortino: 3.30<br>Median Stocks: 10",
           "Median Return: 102.8%<br>Median Sortino: 3.69<br>Median Stocks: 11",
           "Median Return: 102.8%<br>Median Sortino: 3.69<br>Median Stocks: 11",
           "Median Return: 110.2%<br>Median Sortino: 4.13<br>Median Stocks: 12",
           "Median Return: 107.2%<br>Median Sortino: 4.12<br>Median Stocks: 13",
           "Median Return: 107.2%<br>Median Sortino: 4.12<br>Median Stocks: 13",
           "Median Return: 83.4%<br>Median Sortino: 3.75<br>Median Stocks: 16"
          ],
          [
           "Median Return: 134.8%<br>Median Sortino: 0.00<br>Median Stocks: 3",
           "Median Return: 128.0%<br>Median Sortino: 21.01<br>Median Stocks: 6",
           "Median Return: 89.4%<br>Median Sortino: 2.95<br>Median Stocks: 10",
           "Median Return: 95.0%<br>Median Sortino: 3.30<br>Median Stocks: 10",
           "Median Return: 102.8%<br>Median Sortino: 3.69<br>Median Stocks: 11",
           "Median Return: 102.8%<br>Median Sortino: 3.69<br>Median Stocks: 11",
           "Median Return: 104.3%<br>Median Sortino: 4.03<br>Median Stocks: 13",
           "Median Return: 98.7%<br>Median Sortino: 4.03<br>Median Stocks: 13",
           "Median Return: 85.4%<br>Median Sortino: 3.42<br>Median Stocks: 15",
           "Median Return: 71.4%<br>Median Sortino: 3.21<br>Median Stocks: 18"
          ],
          [
           "Median Return: 134.8%<br>Median Sortino: 0.00<br>Median Stocks: 3",
           "Median Return: 128.0%<br>Median Sortino: 21.01<br>Median Stocks: 6",
           "Median Return: 89.4%<br>Median Sortino: 2.95<br>Median Stocks: 10",
           "Median Return: 95.0%<br>Median Sortino: 3.30<br>Median Stocks: 10",
           "Median Return: 102.8%<br>Median Sortino: 3.69<br>Median Stocks: 11",
           "Median Return: 93.1%<br>Median Sortino: 3.49<br>Median Stocks: 12",
           "Median Return: 94.2%<br>Median Sortino: 3.83<br>Median Stocks: 13",
           "Median Return: 93.6%<br>Median Sortino: 3.84<br>Median Stocks: 14",
           "Median Return: 69.7%<br>Median Sortino: 2.71<br>Median Stocks: 16",
           "Median Return: 62.2%<br>Median Sortino: 2.59<br>Median Stocks: 19"
          ],
          [
           "Median Return: 134.8%<br>Median Sortino: 0.00<br>Median Stocks: 3",
           "Median Return: 189.4%<br>Median Sortino: 31.82<br>Median Stocks: 7",
           "Median Return: 119.9%<br>Median Sortino: 4.25<br>Median Stocks: 11",
           "Median Return: 123.3%<br>Median Sortino: 4.54<br>Median Stocks: 12",
           "Median Return: 122.7%<br>Median Sortino: 4.77<br>Median Stocks: 14",
           "Median Return: 117.4%<br>Median Sortino: 5.06<br>Median Stocks: 15",
           "Median Return: 116.2%<br>Median Sortino: 5.30<br>Median Stocks: 16",
           "Median Return: 115.0%<br>Median Sortino: 5.28<br>Median Stocks: 17",
           "Median Return: 95.8%<br>Median Sortino: 3.92<br>Median Stocks: 19",
           "Median Return: 82.4%<br>Median Sortino: 3.57<br>Median Stocks: 21"
          ],
          [
           "Median Return: 134.8%<br>Median Sortino: 0.00<br>Median Stocks: 3",
           "Median Return: 189.4%<br>Median Sortino: 31.82<br>Median Stocks: 7",
           "Median Return: 119.9%<br>Median Sortino: 4.25<br>Median Stocks: 11",
           "Median Return: 123.3%<br>Median Sortino: 4.54<br>Median Stocks: 12",
           "Median Return: 122.7%<br>Median Sortino: 4.77<br>Median Stocks: 14",
           "Median Return: 117.4%<br>Median Sortino: 5.06<br>Median Stocks: 15",
           "Median Return: 116.2%<br>Median Sortino: 5.30<br>Median Stocks: 16",
           "Median Return: 115.0%<br>Median Sortino: 5.28<br>Median Stocks: 17",
           "Median Return: 95.8%<br>Median Sortino: 3.92<br>Median Stocks: 19",
           "Median Return: 82.4%<br>Median Sortino: 3.57<br>Median Stocks: 21"
          ],
          [
           "Median Return: 134.8%<br>Median Sortino: 0.00<br>Median Stocks: 3",
           "Median Return: 186.4%<br>Median Sortino: 33.23<br>Median Stocks: 8",
           "Median Return: 122.2%<br>Median Sortino: 4.49<br>Median Stocks: 12",
           "Median Return: 122.0%<br>Median Sortino: 4.76<br>Median Stocks: 14",
           "Median Return: 117.9%<br>Median Sortino: 4.99<br>Median Stocks: 15",
           "Median Return: 117.7%<br>Median Sortino: 5.26<br>Median Stocks: 16",
           "Median Return: 115.0%<br>Median Sortino: 5.50<br>Median Stocks: 18",
           "Median Return: 104.5%<br>Median Sortino: 4.61<br>Median Stocks: 19",
           "Median Return: 94.1%<br>Median Sortino: 3.91<br>Median Stocks: 20",
           "Median Return: 86.1%<br>Median Sortino: 3.67<br>Median Stocks: 22"
          ]
         ],
         "hovertemplate": "Market Cap Percentile: %{y}<br>Min Z-Score Rank: %{x}<br>%{customdata}<extra></extra>",
         "name": "0",
         "type": "heatmap",
         "x": {
          "bdata": "BQoPFBkeIygtMg==",
          "dtype": "i1"
         },
         "xaxis": "x",
         "y": {
          "bdata": "mpmZmZmZqT+amZmZmZm5PzMzMzMzM8M/mpmZmZmZyT8AAAAAAADQPzMzMzMzM9M/ZmZmZmZm1j+amZmZmZnZP83MzMzMzNw/AAAAAAAA4D8=",
          "dtype": "f8"
         },
         "yaxis": "y",
         "z": {
          "bdata": "35Vq0cWld0DflWrRxaV3QPOpBtcxKWlA86kG1zEpaUA06aJkOBFpQDTpomQ4EWlANOmiZDgRaUA06aJkOBFpQDTpomQ4EWlANOmiZDgRaUDHwAZB2fVnQImhMeFn8GtA/LDcMhHbZkD8sNwyEdtmQIkxGk32HGdAiTEaTfYcZ0CJMRpN9hxnQIkxGk32HGdAiTEaTfYcZ0D+DtIlAYBdQMfABkHZ9WdAwObBSJXYYkCRpR7c6DRYQJGlHtzoNFhAknLxxKcWW0CScvHEpxZbQJJy8cSnFltAF7kRFaJiWUAXuREVomJZQK2AUP5q4lJAx8AGQdn1Z0Dyc/jX7ZhiQJPAWsEsnllAk8BawSyeWUDbfg9t8g1cQNt+D23yDVxA4a53dlR2XkBlIVNsF8dcQGUhU2wXx1xAQKxezqtpVUCy/7wfA9hgQPYE2ymo/V9Aymb+VblaVkDbnj2NF75XQI4fVobesFlAjh9Wht6wWUBzjYwMAItbQG32bGaAzlpAbfZsZoDOWkCcuT7e0NZUQLL/vB8D2GBA9gTbKaj9X0DKZv5VuVpWQNuePY0XvldAjh9Wht6wWUCOH1aG3rBZQBEXpUZxE1pAAhCB5fatWECcAQYoQ1dVQGGPPHGx2VFAsv+8HwPYYED2BNspqP1fQMpm/lW5WlZA2549jRe+V0COH1aG3rBZQCTfvQWQRldAPzd+MG2MV0A2tna18GZXQMonu0n+bVFAvwVyrXwaT0Cy/7wfA9hgQItaG63prWdA3vfdG0L6XUCBvYigEtZeQJ7XbBj9r15A+gsOI7laXUDBtNzicg9dQNNtH2aRwVxAg7UBsXL0V0AqwHnQfJxUQLL/vB8D2GBAi1obremtZ0De990bQvpdQIG9iKAS1l5AntdsGP2vXkD6Cw4juVpdQMG03OJyD11A020fZpHBXECDtQGxcvRXQCrAedB8nFRAsv+8HwPYYEDdnSLcRU1nQOltwou4i15A5dgiRgiCXkCf/HOFHnldQAiPwnuQal1Ahy1w7rLCXEB1Lm/5sx1aQFmpCorsg1dAQ9UU2dODVUA=",
          "dtype": "f8",
          "shape": "10, 10"
         }
        }
       ],
       "layout": {
        "coloraxis": {
         "colorbar": {
          "title": {
           "text": "Median Annualized Return (%)"
          }
         },
         "colorscale": [
          [
           0,
           "rgb(165,0,38)"
          ],
          [
           0.1,
           "rgb(215,48,39)"
          ],
          [
           0.2,
           "rgb(244,109,67)"
          ],
          [
           0.3,
           "rgb(253,174,97)"
          ],
          [
           0.4,
           "rgb(254,224,139)"
          ],
          [
           0.5,
           "rgb(255,255,191)"
          ],
          [
           0.6,
           "rgb(217,239,139)"
          ],
          [
           0.7,
           "rgb(166,217,106)"
          ],
          [
           0.8,
           "rgb(102,189,99)"
          ],
          [
           0.9,
           "rgb(26,152,80)"
          ],
          [
           1,
           "rgb(0,104,55)"
          ]
         ]
        },
        "height": 600,
        "template": {
         "data": {
          "bar": [
           {
            "error_x": {
             "color": "#2a3f5f"
            },
            "error_y": {
             "color": "#2a3f5f"
            },
            "marker": {
             "line": {
              "color": "white",
              "width": 0.5
             },
             "pattern": {
              "fillmode": "overlay",
              "size": 10,
              "solidity": 0.2
             }
            },
            "type": "bar"
           }
          ],
          "barpolar": [
           {
            "marker": {
             "line": {
              "color": "white",
              "width": 0.5
             },
             "pattern": {
              "fillmode": "overlay",
              "size": 10,
              "solidity": 0.2
             }
            },
            "type": "barpolar"
           }
          ],
          "carpet": [
           {
            "aaxis": {
             "endlinecolor": "#2a3f5f",
             "gridcolor": "#C8D4E3",
             "linecolor": "#C8D4E3",
             "minorgridcolor": "#C8D4E3",
             "startlinecolor": "#2a3f5f"
            },
            "baxis": {
             "endlinecolor": "#2a3f5f",
             "gridcolor": "#C8D4E3",
             "linecolor": "#C8D4E3",
             "minorgridcolor": "#C8D4E3",
             "startlinecolor": "#2a3f5f"
            },
            "type": "carpet"
           }
          ],
          "choropleth": [
           {
            "colorbar": {
             "outlinewidth": 0,
             "ticks": ""
            },
            "type": "choropleth"
           }
          ],
          "contour": [
           {
            "colorbar": {
             "outlinewidth": 0,
             "ticks": ""
            },
            "colorscale": [
             [
              0,
              "#0d0887"
             ],
             [
              0.1111111111111111,
              "#46039f"
             ],
             [
              0.2222222222222222,
              "#7201a8"
             ],
             [
              0.3333333333333333,
              "#9c179e"
             ],
             [
              0.4444444444444444,
              "#bd3786"
             ],
             [
              0.5555555555555556,
              "#d8576b"
             ],
             [
              0.6666666666666666,
              "#ed7953"
             ],
             [
              0.7777777777777778,
              "#fb9f3a"
             ],
             [
              0.8888888888888888,
              "#fdca26"
             ],
             [
              1,
              "#f0f921"
             ]
            ],
            "type": "contour"
           }
          ],
          "contourcarpet": [
           {
            "colorbar": {
             "outlinewidth": 0,
             "ticks": ""
            },
            "type": "contourcarpet"
           }
          ],
          "heatmap": [
           {
            "colorbar": {
             "outlinewidth": 0,
             "ticks": ""
            },
            "colorscale": [
             [
              0,
              "#0d0887"
             ],
             [
              0.1111111111111111,
              "#46039f"
             ],
             [
              0.2222222222222222,
              "#7201a8"
             ],
             [
              0.3333333333333333,
              "#9c179e"
             ],
             [
              0.4444444444444444,
              "#bd3786"
             ],
             [
              0.5555555555555556,
              "#d8576b"
             ],
             [
              0.6666666666666666,
              "#ed7953"
             ],
             [
              0.7777777777777778,
              "#fb9f3a"
             ],
             [
              0.8888888888888888,
              "#fdca26"
             ],
             [
              1,
              "#f0f921"
             ]
            ],
            "type": "heatmap"
           }
          ],
          "histogram": [
           {
            "marker": {
             "pattern": {
              "fillmode": "overlay",
              "size": 10,
              "solidity": 0.2
             }
            },
            "type": "histogram"
           }
          ],
          "histogram2d": [
           {
            "colorbar": {
             "outlinewidth": 0,
             "ticks": ""
            },
            "colorscale": [
             [
              0,
              "#0d0887"
             ],
             [
              0.1111111111111111,
              "#46039f"
             ],
             [
              0.2222222222222222,
              "#7201a8"
             ],
             [
              0.3333333333333333,
              "#9c179e"
             ],
             [
              0.4444444444444444,
              "#bd3786"
             ],
             [
              0.5555555555555556,
              "#d8576b"
             ],
             [
              0.6666666666666666,
              "#ed7953"
             ],
             [
              0.7777777777777778,
              "#fb9f3a"
             ],
             [
              0.8888888888888888,
              "#fdca26"
             ],
             [
              1,
              "#f0f921"
             ]
            ],
            "type": "histogram2d"
           }
          ],
          "histogram2dcontour": [
           {
            "colorbar": {
             "outlinewidth": 0,
             "ticks": ""
            },
            "colorscale": [
             [
              0,
              "#0d0887"
             ],
             [
              0.1111111111111111,
              "#46039f"
             ],
             [
              0.2222222222222222,
              "#7201a8"
             ],
             [
              0.3333333333333333,
              "#9c179e"
             ],
             [
              0.4444444444444444,
              "#bd3786"
             ],
             [
              0.5555555555555556,
              "#d8576b"
             ],
             [
              0.6666666666666666,
              "#ed7953"
             ],
             [
              0.7777777777777778,
              "#fb9f3a"
             ],
             [
              0.8888888888888888,
              "#fdca26"
             ],
             [
              1,
              "#f0f921"
             ]
            ],
            "type": "histogram2dcontour"
           }
          ],
          "mesh3d": [
           {
            "colorbar": {
             "outlinewidth": 0,
             "ticks": ""
            },
            "type": "mesh3d"
           }
          ],
          "parcoords": [
           {
            "line": {
             "colorbar": {
              "outlinewidth": 0,
              "ticks": ""
             }
            },
            "type": "parcoords"
           }
          ],
          "pie": [
           {
            "automargin": true,
            "type": "pie"
           }
          ],
          "scatter": [
           {
            "fillpattern": {
             "fillmode": "overlay",
             "size": 10,
             "solidity": 0.2
            },
            "type": "scatter"
           }
          ],
          "scatter3d": [
           {
            "line": {
             "colorbar": {
              "outlinewidth": 0,
              "ticks": ""
             }
            },
            "marker": {
             "colorbar": {
              "outlinewidth": 0,
              "ticks": ""
             }
            },
            "type": "scatter3d"
           }
          ],
          "scattercarpet": [
           {
            "marker": {
             "colorbar": {
              "outlinewidth": 0,
              "ticks": ""
             }
            },
            "type": "scattercarpet"
           }
          ],
          "scattergeo": [
           {
            "marker": {
             "colorbar": {
              "outlinewidth": 0,
              "ticks": ""
             }
            },
            "type": "scattergeo"
           }
          ],
          "scattergl": [
           {
            "marker": {
             "colorbar": {
              "outlinewidth": 0,
              "ticks": ""
             }
            },
            "type": "scattergl"
           }
          ],
          "scattermap": [
           {
            "marker": {
             "colorbar": {
              "outlinewidth": 0,
              "ticks": ""
             }
            },
            "type": "scattermap"
           }
          ],
          "scattermapbox": [
           {
            "marker": {
             "colorbar": {
              "outlinewidth": 0,
              "ticks": ""
             }
            },
            "type": "scattermapbox"
           }
          ],
          "scatterpolar": [
           {
            "marker": {
             "colorbar": {
              "outlinewidth": 0,
              "ticks": ""
             }
            },
            "type": "scatterpolar"
           }
          ],
          "scatterpolargl": [
           {
            "marker": {
             "colorbar": {
              "outlinewidth": 0,
              "ticks": ""
             }
            },
            "type": "scatterpolargl"
           }
          ],
          "scatterternary": [
           {
            "marker": {
             "colorbar": {
              "outlinewidth": 0,
              "ticks": ""
             }
            },
            "type": "scatterternary"
           }
          ],
          "surface": [
           {
            "colorbar": {
             "outlinewidth": 0,
             "ticks": ""
            },
            "colorscale": [
             [
              0,
              "#0d0887"
             ],
             [
              0.1111111111111111,
              "#46039f"
             ],
             [
              0.2222222222222222,
              "#7201a8"
             ],
             [
              0.3333333333333333,
              "#9c179e"
             ],
             [
              0.4444444444444444,
              "#bd3786"
             ],
             [
              0.5555555555555556,
              "#d8576b"
             ],
             [
              0.6666666666666666,
              "#ed7953"
             ],
             [
              0.7777777777777778,
              "#fb9f3a"
             ],
             [
              0.8888888888888888,
              "#fdca26"
             ],
             [
              1,
              "#f0f921"
             ]
            ],
            "type": "surface"
           }
          ],
          "table": [
           {
            "cells": {
             "fill": {
              "color": "#EBF0F8"
             },
             "line": {
              "color": "white"
             }
            },
            "header": {
             "fill": {
              "color": "#C8D4E3"
             },
             "line": {
              "color": "white"
             }
            },
            "type": "table"
           }
          ]
         },
         "layout": {
          "annotationdefaults": {
           "arrowcolor": "#2a3f5f",
           "arrowhead": 0,
           "arrowwidth": 1
          },
          "autotypenumbers": "strict",
          "coloraxis": {
           "colorbar": {
            "outlinewidth": 0,
            "ticks": ""
           }
          },
          "colorscale": {
           "diverging": [
            [
             0,
             "#8e0152"
            ],
            [
             0.1,
             "#c51b7d"
            ],
            [
             0.2,
             "#de77ae"
            ],
            [
             0.3,
             "#f1b6da"
            ],
            [
             0.4,
             "#fde0ef"
            ],
            [
             0.5,
             "#f7f7f7"
            ],
            [
             0.6,
             "#e6f5d0"
            ],
            [
             0.7,
             "#b8e186"
            ],
            [
             0.8,
             "#7fbc41"
            ],
            [
             0.9,
             "#4d9221"
            ],
            [
             1,
             "#276419"
            ]
           ],
           "sequential": [
            [
             0,
             "#0d0887"
            ],
            [
             0.1111111111111111,
             "#46039f"
            ],
            [
             0.2222222222222222,
             "#7201a8"
            ],
            [
             0.3333333333333333,
             "#9c179e"
            ],
            [
             0.4444444444444444,
             "#bd3786"
            ],
            [
             0.5555555555555556,
             "#d8576b"
            ],
            [
             0.6666666666666666,
             "#ed7953"
            ],
            [
             0.7777777777777778,
             "#fb9f3a"
            ],
            [
             0.8888888888888888,
             "#fdca26"
            ],
            [
             1,
             "#f0f921"
            ]
           ],
           "sequentialminus": [
            [
             0,
             "#0d0887"
            ],
            [
             0.1111111111111111,
             "#46039f"
            ],
            [
             0.2222222222222222,
             "#7201a8"
            ],
            [
             0.3333333333333333,
             "#9c179e"
            ],
            [
             0.4444444444444444,
             "#bd3786"
            ],
            [
             0.5555555555555556,
             "#d8576b"
            ],
            [
             0.6666666666666666,
             "#ed7953"
            ],
            [
             0.7777777777777778,
             "#fb9f3a"
            ],
            [
             0.8888888888888888,
             "#fdca26"
            ],
            [
             1,
             "#f0f921"
            ]
           ]
          },
          "colorway": [
           "#636efa",
           "#EF553B",
           "#00cc96",
           "#ab63fa",
           "#FFA15A",
           "#19d3f3",
           "#FF6692",
           "#B6E880",
           "#FF97FF",
           "#FECB52"
          ],
          "font": {
           "color": "#2a3f5f"
          },
          "geo": {
           "bgcolor": "white",
           "lakecolor": "white",
           "landcolor": "white",
           "showlakes": true,
           "showland": true,
           "subunitcolor": "#C8D4E3"
          },
          "hoverlabel": {
           "align": "left"
          },
          "hovermode": "closest",
          "mapbox": {
           "style": "light"
          },
          "paper_bgcolor": "white",
          "plot_bgcolor": "white",
          "polar": {
           "angularaxis": {
            "gridcolor": "#EBF0F8",
            "linecolor": "#EBF0F8",
            "ticks": ""
           },
           "bgcolor": "white",
           "radialaxis": {
            "gridcolor": "#EBF0F8",
            "linecolor": "#EBF0F8",
            "ticks": ""
           }
          },
          "scene": {
           "xaxis": {
            "backgroundcolor": "white",
            "gridcolor": "#DFE8F3",
            "gridwidth": 2,
            "linecolor": "#EBF0F8",
            "showbackground": true,
            "ticks": "",
            "zerolinecolor": "#EBF0F8"
           },
           "yaxis": {
            "backgroundcolor": "white",
            "gridcolor": "#DFE8F3",
            "gridwidth": 2,
            "linecolor": "#EBF0F8",
            "showbackground": true,
            "ticks": "",
            "zerolinecolor": "#EBF0F8"
           },
           "zaxis": {
            "backgroundcolor": "white",
            "gridcolor": "#DFE8F3",
            "gridwidth": 2,
            "linecolor": "#EBF0F8",
            "showbackground": true,
            "ticks": "",
            "zerolinecolor": "#EBF0F8"
           }
          },
          "shapedefaults": {
           "line": {
            "color": "#2a3f5f"
           }
          },
          "ternary": {
           "aaxis": {
            "gridcolor": "#DFE8F3",
            "linecolor": "#A2B1C6",
            "ticks": ""
           },
           "baxis": {
            "gridcolor": "#DFE8F3",
            "linecolor": "#A2B1C6",
            "ticks": ""
           },
           "bgcolor": "white",
           "caxis": {
            "gridcolor": "#DFE8F3",
            "linecolor": "#A2B1C6",
            "ticks": ""
           }
          },
          "title": {
           "x": 0.05
          },
          "xaxis": {
           "automargin": true,
           "gridcolor": "#EBF0F8",
           "linecolor": "#EBF0F8",
           "ticks": "",
           "title": {
            "standoff": 15
           },
           "zerolinecolor": "#EBF0F8",
           "zerolinewidth": 2
          },
          "yaxis": {
           "automargin": true,
           "gridcolor": "#EBF0F8",
           "linecolor": "#EBF0F8",
           "ticks": "",
           "title": {
            "standoff": 15
           },
           "zerolinecolor": "#EBF0F8",
           "zerolinewidth": 2
          }
         }
        },
        "title": {
         "text": "Returns by Market Cap & Z-Score Rank"
        },
        "xaxis": {
         "anchor": "y",
         "domain": [
          0,
          1
         ],
         "title": {
          "text": "Minimum Z-Score Rank"
         }
        },
        "yaxis": {
         "anchor": "x",
         "autorange": "reversed",
         "domain": [
          0,
          1
         ],
         "title": {
          "text": "Market Cap Percentile"
         }
        }
       }
      }
     },
     "metadata": {},
     "output_type": "display_data"
    }
   ],
   "source": [
    "import plotly.express as px\n",
    "import numpy as np\n",
    "\n",
    "# Create pivot tables for heatmap\n",
    "pivot_returns = experiments.pivot_table(\n",
    "    values='total_annualized_return_pct',\n",
    "    index='market_cap_percentile',\n",
    "    columns='min_zscore_rank',\n",
    "    aggfunc='median'\n",
    ")\n",
    "\n",
    "pivot_sortino = experiments.pivot_table(\n",
    "    values='portfolio_sortino_ratio', \n",
    "    index='market_cap_percentile',\n",
    "    columns='min_zscore_rank',\n",
    "    aggfunc='median'\n",
    ")\n",
    "\n",
    "pivot_stocks = experiments.pivot_table(\n",
    "    values='total_stocks',\n",
    "    index='market_cap_percentile', \n",
    "    columns='min_zscore_rank',\n",
    "    aggfunc='mean'\n",
    ")\n",
    "\n",
    "# Format labels to include all metrics\n",
    "labels = []\n",
    "for i in range(len(pivot_returns.values)):\n",
    "    for j in range(len(pivot_returns.values[0])):\n",
    "        label = f\"Median Return: {pivot_returns.values[i][j]:.1f}%<br>Median Sortino: {pivot_sortino.values[i][j]:.2f}<br>Median Stocks: {pivot_stocks.values[i][j]:.0f}\"\n",
    "        labels.append(label)\n",
    "\n",
    "fig = px.imshow(\n",
    "    pivot_returns,\n",
    "    title='Returns by Market Cap & Z-Score Rank',\n",
    "    labels={\n",
    "        'x': 'Minimum Z-Score Rank',\n",
    "        'y': 'Market Cap Percentile',\n",
    "        'color': 'Median Annualized Return (%)'\n",
    "    },\n",
    "    color_continuous_scale='RdYlGn',\n",
    "    aspect='auto'\n",
    ")\n",
    "\n",
    "fig.update_layout(\n",
    "    template=\"plotly_white\",\n",
    "    xaxis_title='Minimum Z-Score Rank',\n",
    "    yaxis_title='Market Cap Percentile',\n",
    "    height=600  # Make the plot taller to give more room for text\n",
    ")\n",
    "\n",
    "# Add hover data after creating the figure\n",
    "fig.data[0].customdata = np.array(labels).reshape(pivot_returns.shape)\n",
    "fig.data[0].hovertemplate = \"Market Cap Percentile: %{y}<br>Min Z-Score Rank: %{x}<br>%{customdata}<extra></extra>\"\n",
    "\n",
    "fig.show()"
   ]
  },
  {
   "cell_type": "markdown",
   "id": "482c1e0c",
   "metadata": {},
   "source": [
    "## Insights ##\n",
    "\n",
    "- Main problem is concentration given that experiments with highest returns are picky in the quality of the stock and therefore pick few of them\n",
    "- However we can reduce the min z_score_rank(which basically evaluates quality of the stock) to be less exclusive\n",
    "- In the first chart we can see that doing that doesn't affect returns cause relaxing those metrics still keeps us on the 9% returns"
   ]
  },
  {
   "cell_type": "markdown",
   "id": "7163171c",
   "metadata": {},
   "source": []
  }
 ],
 "metadata": {
  "kernelspec": {
   "display_name": "pap_finance",
   "language": "python",
   "name": "python3"
  },
  "language_info": {
   "codemirror_mode": {
    "name": "ipython",
    "version": 3
   },
   "file_extension": ".py",
   "mimetype": "text/x-python",
   "name": "python",
   "nbconvert_exporter": "python",
   "pygments_lexer": "ipython3",
   "version": "3.12.11"
  }
 },
 "nbformat": 4,
 "nbformat_minor": 5
}
