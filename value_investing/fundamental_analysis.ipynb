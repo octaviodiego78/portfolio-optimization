{
 "cells": [
  {
   "cell_type": "markdown",
   "id": "3ff20627",
   "metadata": {},
   "source": [
    "<img style=\"float: left; margin: 30px 15px 15px 15px;\" src=\"https://oci02.img.iteso.mx/Identidades-De-Instancia/ITESO/Logos%20ITESO/Logo-ITESO-Principal.jpg\" width=\"400\" height=\"600\" /> \n",
    "    \n",
    "    \n",
    "    \n",
    "### <font color='navy'> Sesión de Aprendizaje: Análisis Fundamental\n",
    "\n",
    "Profesor: Sean Nicolás González Vázquez."
   ]
  },
  {
   "cell_type": "markdown",
   "id": "9dd793ec",
   "metadata": {},
   "source": [
    "# <font color='navy'> Análisis Fundamental  <font color='black'>\n",
    "    \n",
    "<h3><center>\"You have to understand accounting. It´s the language of business and it´s an imperfect one, but unless you are willing to put in the effort to learn how to read and interpret financial statements, you really shouldn´t sellect stocks yourself.\" -Warren Buffet</center></h3>\n",
    "   \n",
    "> **Definición** \n",
    "    \n",
    "Tipo de análisis financiero que, como su nombre menciona, se basa en los *fundamentales* de una empresa, es decir, en la información presentada en los tres principales estados financieros (Estado de Resultados, Flujo de Efectivo y Balance General).  \n",
    "    \n",
    "El **Value Investing**, es una fílosofia de inversión, basada en el análisis fundamental y busca invertir en negocios con una \"*ventaja competitiva durable*\" que tengan un valor de mercado menor a su valor intrínseco con la expectativa de que el mercado las revalúe correctamente. En término simples, esto significa comprar barato y vender caro. \n",
    "    \n",
    "La parte de \"*ventaja competitiva durable*\" fue introducida por Warren Buffet y significa no solo comprar negocios subvaluados, si no también que tengan un negocio tipo monopolio o un producto único y además tengan consistencia (3-10 años) en sus fundamentales.\n",
    "    \n",
    "    \n",
    "> **Objetivo**\n",
    "    \n",
    "Encontrar el **valor intrínseco de una emisora**, es decir, el valor real dado la información financiera disponible de la misma, para posteriormente comparar este valor con el **valor extrínseco dado a la emisora**, para buscar posibles **inflavaloraciones** o **sobrevaloraciones** de mercado.\n",
    "    \n",
    "    \n",
    "> **Un poco de contexto** \n",
    "    \n",
    "Fue **introducido en 1934** por *Benjamin Graham* y *David Dodd* **en el libro Security Analysis**, este libro marco un antes y un después en el mundo financiero, al introducir conceptos muy importantes que hasta el día de hoy siguen siendo usados de manera práctica por inversionistas de todo el mundo, introduciendo el término **value investing**.\n",
    "    \n",
    "**Benjamin Graham** buscaba comprar acciones sobrevendidas con valor de mercado menor al intrínseco, con el objetivo de que el mercado ree-valúe posteriormente estas acciones correctamente. El hacía *trades* con acciones que valían el 50% de su book value (\"*Buyin a dollar for fifty cents*\"). Su criterio para vender era:\n",
    "   \n",
    "+ Vender si las acciones subían 50% o máximo a los dos años de su compra.   \n",
    "    \n",
    "    \n",
    "+ Problema: Algunas acciones quebraban o simplemente no se revaluaban. \n",
    "    \n",
    "Unos años después, su pupilo **Warren Buffet** mejoró el concepto introduciendo **long term value investing**, donde buscaba acciones que cotizaran a descuento, o que estuvieran cerca al *fair price* (Book Value = Market Value y además, que tuvieran lo que el llamaba \"*ventaja competitiva con durabilidad*\", esta ventaja competitiva significa que sucediera una o más de las siguientes tres condiciones:\n",
    "    \n",
    "+ Negocio tipo monopolio.  \n",
    " \n",
    "+ Vender un producto único.   \n",
    "   \n",
    "+ Que fueran comprador y vendedor de bajo costo (ganar por volumen). \n",
    "    \n",
    "La durabilidad se refiere a la consistencia en la evolución año con año de los fundamentales. \n",
    " \n",
    "> **¿Qué haremos en esta clase?** \n",
    "    \n",
    "En esta clase, veremos como descargar los fundamentales de una API, con el objetivo de optimizar el tiempo de análisis de una emisora, utilizando y comentando algunos consejos dados tanto por Graham como Buffet para la interpretación de los mismos. Con el objetivo de que los apliquen en su proyecto y en su vida profesional. \n",
    "  "
   ]
  },
  {
   "cell_type": "markdown",
   "id": "1f7f7e1e",
   "metadata": {},
   "source": [
    "## <font color='navy'> **Calculando fundamentales e interpretandolos**  \n",
    "      \n",
    "    \n",
    "\n",
    "**Existen un sin fin de Fundamentales, en este clase veremos algunos y les tocará investigar otros, en la práctica uno realmente escoge sus *preferidos* (qué es lo que prácticamente harán en este proyecto) y los combinan para obtener *insights* de la *salud* de una empresa.**\n",
    "        \n"
   ]
  },
  {
   "cell_type": "code",
   "execution_count": 1,
   "id": "e0dde69e",
   "metadata": {},
   "outputs": [],
   "source": [
    "# Importar librerías\n",
    "import numpy as np\n",
    "import pandas as pd\n",
    "import yfinance as yf\n",
    "import datetime\n",
    "import matplotlib.pyplot as plt\n",
    "#ignore warnings\n",
    "import warnings\n",
    "warnings.filterwarnings('ignore')\n"
   ]
  },
  {
   "cell_type": "code",
   "execution_count": 2,
   "id": "a7f93c58",
   "metadata": {},
   "outputs": [],
   "source": [
    "# Bajar un precio en una fecha dada\n",
    "def get_historical_price(ticker: str, start: str):\n",
    "    end = start+datetime.timedelta(days=4)\n",
    "    price=pd.DataFrame(yf.Ticker(ticker).history(start=start, end=end)[\"Close\"])\n",
    "    return price.iloc[0, 0]"
   ]
  },
  {
   "cell_type": "code",
   "execution_count": 9,
   "id": "24dd0632",
   "metadata": {},
   "outputs": [],
   "source": [
    "info = yf.Ticker('PLTR')"
   ]
  },
  {
   "cell_type": "code",
   "execution_count": 13,
   "id": "690529cf",
   "metadata": {},
   "outputs": [
    {
     "data": {
      "text/html": [
       "<div>\n",
       "<style scoped>\n",
       "    .dataframe tbody tr th:only-of-type {\n",
       "        vertical-align: middle;\n",
       "    }\n",
       "\n",
       "    .dataframe tbody tr th {\n",
       "        vertical-align: top;\n",
       "    }\n",
       "\n",
       "    .dataframe thead th {\n",
       "        text-align: right;\n",
       "    }\n",
       "</style>\n",
       "<table border=\"1\" class=\"dataframe\">\n",
       "  <thead>\n",
       "    <tr style=\"text-align: right;\">\n",
       "      <th></th>\n",
       "      <th>Open</th>\n",
       "      <th>High</th>\n",
       "      <th>Low</th>\n",
       "      <th>Close</th>\n",
       "      <th>Volume</th>\n",
       "      <th>Dividends</th>\n",
       "      <th>Stock Splits</th>\n",
       "    </tr>\n",
       "    <tr>\n",
       "      <th>Date</th>\n",
       "      <th></th>\n",
       "      <th></th>\n",
       "      <th></th>\n",
       "      <th></th>\n",
       "      <th></th>\n",
       "      <th></th>\n",
       "      <th></th>\n",
       "    </tr>\n",
       "  </thead>\n",
       "  <tbody>\n",
       "    <tr>\n",
       "      <th>2022-01-03 00:00:00-05:00</th>\n",
       "      <td>18.360001</td>\n",
       "      <td>18.569000</td>\n",
       "      <td>17.860001</td>\n",
       "      <td>18.530001</td>\n",
       "      <td>34283600</td>\n",
       "      <td>0.0</td>\n",
       "      <td>0.0</td>\n",
       "    </tr>\n",
       "    <tr>\n",
       "      <th>2022-01-04 00:00:00-05:00</th>\n",
       "      <td>18.610001</td>\n",
       "      <td>18.840000</td>\n",
       "      <td>17.790001</td>\n",
       "      <td>18.170000</td>\n",
       "      <td>39643200</td>\n",
       "      <td>0.0</td>\n",
       "      <td>0.0</td>\n",
       "    </tr>\n",
       "    <tr>\n",
       "      <th>2022-01-05 00:00:00-05:00</th>\n",
       "      <td>18.030001</td>\n",
       "      <td>18.568001</td>\n",
       "      <td>16.870001</td>\n",
       "      <td>16.959999</td>\n",
       "      <td>58445900</td>\n",
       "      <td>0.0</td>\n",
       "      <td>0.0</td>\n",
       "    </tr>\n",
       "    <tr>\n",
       "      <th>2022-01-06 00:00:00-05:00</th>\n",
       "      <td>16.870001</td>\n",
       "      <td>17.180000</td>\n",
       "      <td>16.055000</td>\n",
       "      <td>16.740000</td>\n",
       "      <td>49737100</td>\n",
       "      <td>0.0</td>\n",
       "      <td>0.0</td>\n",
       "    </tr>\n",
       "    <tr>\n",
       "      <th>2022-01-07 00:00:00-05:00</th>\n",
       "      <td>16.700001</td>\n",
       "      <td>17.330000</td>\n",
       "      <td>16.475000</td>\n",
       "      <td>16.559999</td>\n",
       "      <td>37989300</td>\n",
       "      <td>0.0</td>\n",
       "      <td>0.0</td>\n",
       "    </tr>\n",
       "    <tr>\n",
       "      <th>...</th>\n",
       "      <td>...</td>\n",
       "      <td>...</td>\n",
       "      <td>...</td>\n",
       "      <td>...</td>\n",
       "      <td>...</td>\n",
       "      <td>...</td>\n",
       "      <td>...</td>\n",
       "    </tr>\n",
       "    <tr>\n",
       "      <th>2024-12-24 00:00:00-05:00</th>\n",
       "      <td>81.089996</td>\n",
       "      <td>84.796997</td>\n",
       "      <td>81.000000</td>\n",
       "      <td>82.379997</td>\n",
       "      <td>64983300</td>\n",
       "      <td>0.0</td>\n",
       "      <td>0.0</td>\n",
       "    </tr>\n",
       "    <tr>\n",
       "      <th>2024-12-26 00:00:00-05:00</th>\n",
       "      <td>83.160004</td>\n",
       "      <td>83.489998</td>\n",
       "      <td>81.300003</td>\n",
       "      <td>82.139999</td>\n",
       "      <td>60377100</td>\n",
       "      <td>0.0</td>\n",
       "      <td>0.0</td>\n",
       "    </tr>\n",
       "    <tr>\n",
       "      <th>2024-12-27 00:00:00-05:00</th>\n",
       "      <td>81.419998</td>\n",
       "      <td>82.000000</td>\n",
       "      <td>77.930000</td>\n",
       "      <td>79.080002</td>\n",
       "      <td>66975900</td>\n",
       "      <td>0.0</td>\n",
       "      <td>0.0</td>\n",
       "    </tr>\n",
       "    <tr>\n",
       "      <th>2024-12-30 00:00:00-05:00</th>\n",
       "      <td>77.040001</td>\n",
       "      <td>79.239998</td>\n",
       "      <td>76.110001</td>\n",
       "      <td>77.180000</td>\n",
       "      <td>60850900</td>\n",
       "      <td>0.0</td>\n",
       "      <td>0.0</td>\n",
       "    </tr>\n",
       "    <tr>\n",
       "      <th>2024-12-31 00:00:00-05:00</th>\n",
       "      <td>77.580002</td>\n",
       "      <td>77.980003</td>\n",
       "      <td>73.650002</td>\n",
       "      <td>75.629997</td>\n",
       "      <td>56267900</td>\n",
       "      <td>0.0</td>\n",
       "      <td>0.0</td>\n",
       "    </tr>\n",
       "  </tbody>\n",
       "</table>\n",
       "<p>753 rows × 7 columns</p>\n",
       "</div>"
      ],
      "text/plain": [
       "                                Open       High        Low      Close  \\\n",
       "Date                                                                    \n",
       "2022-01-03 00:00:00-05:00  18.360001  18.569000  17.860001  18.530001   \n",
       "2022-01-04 00:00:00-05:00  18.610001  18.840000  17.790001  18.170000   \n",
       "2022-01-05 00:00:00-05:00  18.030001  18.568001  16.870001  16.959999   \n",
       "2022-01-06 00:00:00-05:00  16.870001  17.180000  16.055000  16.740000   \n",
       "2022-01-07 00:00:00-05:00  16.700001  17.330000  16.475000  16.559999   \n",
       "...                              ...        ...        ...        ...   \n",
       "2024-12-24 00:00:00-05:00  81.089996  84.796997  81.000000  82.379997   \n",
       "2024-12-26 00:00:00-05:00  83.160004  83.489998  81.300003  82.139999   \n",
       "2024-12-27 00:00:00-05:00  81.419998  82.000000  77.930000  79.080002   \n",
       "2024-12-30 00:00:00-05:00  77.040001  79.239998  76.110001  77.180000   \n",
       "2024-12-31 00:00:00-05:00  77.580002  77.980003  73.650002  75.629997   \n",
       "\n",
       "                             Volume  Dividends  Stock Splits  \n",
       "Date                                                          \n",
       "2022-01-03 00:00:00-05:00  34283600        0.0           0.0  \n",
       "2022-01-04 00:00:00-05:00  39643200        0.0           0.0  \n",
       "2022-01-05 00:00:00-05:00  58445900        0.0           0.0  \n",
       "2022-01-06 00:00:00-05:00  49737100        0.0           0.0  \n",
       "2022-01-07 00:00:00-05:00  37989300        0.0           0.0  \n",
       "...                             ...        ...           ...  \n",
       "2024-12-24 00:00:00-05:00  64983300        0.0           0.0  \n",
       "2024-12-26 00:00:00-05:00  60377100        0.0           0.0  \n",
       "2024-12-27 00:00:00-05:00  66975900        0.0           0.0  \n",
       "2024-12-30 00:00:00-05:00  60850900        0.0           0.0  \n",
       "2024-12-31 00:00:00-05:00  56267900        0.0           0.0  \n",
       "\n",
       "[753 rows x 7 columns]"
      ]
     },
     "execution_count": 13,
     "metadata": {},
     "output_type": "execute_result"
    }
   ],
   "source": [
    "yf.Ticker('PLTR').history(start='2022-01-01', end='2025-01-01')"
   ]
  },
  {
   "cell_type": "code",
   "execution_count": null,
   "id": "cd13a524",
   "metadata": {},
   "outputs": [
    {
     "ename": "KeyError",
     "evalue": "'Total Shares Number'",
     "output_type": "error",
     "traceback": [
      "\u001b[31m---------------------------------------------------------------------------\u001b[39m",
      "\u001b[31mKeyError\u001b[39m                                  Traceback (most recent call last)",
      "\u001b[36mFile \u001b[39m\u001b[32m~/anaconda3/envs/pap_finance/lib/python3.12/site-packages/pandas/core/indexes/base.py:3812\u001b[39m, in \u001b[36mIndex.get_loc\u001b[39m\u001b[34m(self, key)\u001b[39m\n\u001b[32m   3811\u001b[39m \u001b[38;5;28;01mtry\u001b[39;00m:\n\u001b[32m-> \u001b[39m\u001b[32m3812\u001b[39m     \u001b[38;5;28;01mreturn\u001b[39;00m \u001b[38;5;28;43mself\u001b[39;49m\u001b[43m.\u001b[49m\u001b[43m_engine\u001b[49m\u001b[43m.\u001b[49m\u001b[43mget_loc\u001b[49m\u001b[43m(\u001b[49m\u001b[43mcasted_key\u001b[49m\u001b[43m)\u001b[49m\n\u001b[32m   3813\u001b[39m \u001b[38;5;28;01mexcept\u001b[39;00m \u001b[38;5;167;01mKeyError\u001b[39;00m \u001b[38;5;28;01mas\u001b[39;00m err:\n",
      "\u001b[36mFile \u001b[39m\u001b[32mpandas/_libs/index.pyx:167\u001b[39m, in \u001b[36mpandas._libs.index.IndexEngine.get_loc\u001b[39m\u001b[34m()\u001b[39m\n",
      "\u001b[36mFile \u001b[39m\u001b[32mpandas/_libs/index.pyx:196\u001b[39m, in \u001b[36mpandas._libs.index.IndexEngine.get_loc\u001b[39m\u001b[34m()\u001b[39m\n",
      "\u001b[36mFile \u001b[39m\u001b[32mpandas/_libs/hashtable_class_helper.pxi:7088\u001b[39m, in \u001b[36mpandas._libs.hashtable.PyObjectHashTable.get_item\u001b[39m\u001b[34m()\u001b[39m\n",
      "\u001b[36mFile \u001b[39m\u001b[32mpandas/_libs/hashtable_class_helper.pxi:7096\u001b[39m, in \u001b[36mpandas._libs.hashtable.PyObjectHashTable.get_item\u001b[39m\u001b[34m()\u001b[39m\n",
      "\u001b[31mKeyError\u001b[39m: 'Total Shares Number'",
      "\nThe above exception was the direct cause of the following exception:\n",
      "\u001b[31mKeyError\u001b[39m                                  Traceback (most recent call last)",
      "\u001b[36mCell\u001b[39m\u001b[36m \u001b[39m\u001b[32mIn[20]\u001b[39m\u001b[32m, line 1\u001b[39m\n\u001b[32m----> \u001b[39m\u001b[32m1\u001b[39m \u001b[43mbg\u001b[49m\u001b[43m.\u001b[49m\u001b[43mloc\u001b[49m\u001b[43m[\u001b[49m\u001b[33;43m'\u001b[39;49m\u001b[33;43mTotal Shares Number\u001b[39;49m\u001b[33;43m'\u001b[39;49m\u001b[43m]\u001b[49m\n",
      "\u001b[36mFile \u001b[39m\u001b[32m~/anaconda3/envs/pap_finance/lib/python3.12/site-packages/pandas/core/indexing.py:1192\u001b[39m, in \u001b[36m_LocationIndexer.__getitem__\u001b[39m\u001b[34m(self, key)\u001b[39m\n\u001b[32m   1190\u001b[39m maybe_callable = com.apply_if_callable(key, \u001b[38;5;28mself\u001b[39m.obj)\n\u001b[32m   1191\u001b[39m maybe_callable = \u001b[38;5;28mself\u001b[39m._check_deprecated_callable_usage(key, maybe_callable)\n\u001b[32m-> \u001b[39m\u001b[32m1192\u001b[39m \u001b[38;5;28;01mreturn\u001b[39;00m \u001b[38;5;28;43mself\u001b[39;49m\u001b[43m.\u001b[49m\u001b[43m_getitem_axis\u001b[49m\u001b[43m(\u001b[49m\u001b[43mmaybe_callable\u001b[49m\u001b[43m,\u001b[49m\u001b[43m \u001b[49m\u001b[43maxis\u001b[49m\u001b[43m=\u001b[49m\u001b[43maxis\u001b[49m\u001b[43m)\u001b[49m\n",
      "\u001b[36mFile \u001b[39m\u001b[32m~/anaconda3/envs/pap_finance/lib/python3.12/site-packages/pandas/core/indexing.py:1432\u001b[39m, in \u001b[36m_LocIndexer._getitem_axis\u001b[39m\u001b[34m(self, key, axis)\u001b[39m\n\u001b[32m   1430\u001b[39m \u001b[38;5;66;03m# fall thru to straight lookup\u001b[39;00m\n\u001b[32m   1431\u001b[39m \u001b[38;5;28mself\u001b[39m._validate_key(key, axis)\n\u001b[32m-> \u001b[39m\u001b[32m1432\u001b[39m \u001b[38;5;28;01mreturn\u001b[39;00m \u001b[38;5;28;43mself\u001b[39;49m\u001b[43m.\u001b[49m\u001b[43m_get_label\u001b[49m\u001b[43m(\u001b[49m\u001b[43mkey\u001b[49m\u001b[43m,\u001b[49m\u001b[43m \u001b[49m\u001b[43maxis\u001b[49m\u001b[43m=\u001b[49m\u001b[43maxis\u001b[49m\u001b[43m)\u001b[49m\n",
      "\u001b[36mFile \u001b[39m\u001b[32m~/anaconda3/envs/pap_finance/lib/python3.12/site-packages/pandas/core/indexing.py:1382\u001b[39m, in \u001b[36m_LocIndexer._get_label\u001b[39m\u001b[34m(self, label, axis)\u001b[39m\n\u001b[32m   1380\u001b[39m \u001b[38;5;28;01mdef\u001b[39;00m\u001b[38;5;250m \u001b[39m\u001b[34m_get_label\u001b[39m(\u001b[38;5;28mself\u001b[39m, label, axis: AxisInt):\n\u001b[32m   1381\u001b[39m     \u001b[38;5;66;03m# GH#5567 this will fail if the label is not present in the axis.\u001b[39;00m\n\u001b[32m-> \u001b[39m\u001b[32m1382\u001b[39m     \u001b[38;5;28;01mreturn\u001b[39;00m \u001b[38;5;28;43mself\u001b[39;49m\u001b[43m.\u001b[49m\u001b[43mobj\u001b[49m\u001b[43m.\u001b[49m\u001b[43mxs\u001b[49m\u001b[43m(\u001b[49m\u001b[43mlabel\u001b[49m\u001b[43m,\u001b[49m\u001b[43m \u001b[49m\u001b[43maxis\u001b[49m\u001b[43m=\u001b[49m\u001b[43maxis\u001b[49m\u001b[43m)\u001b[49m\n",
      "\u001b[36mFile \u001b[39m\u001b[32m~/anaconda3/envs/pap_finance/lib/python3.12/site-packages/pandas/core/generic.py:4323\u001b[39m, in \u001b[36mNDFrame.xs\u001b[39m\u001b[34m(self, key, axis, level, drop_level)\u001b[39m\n\u001b[32m   4321\u001b[39m             new_index = index[loc]\n\u001b[32m   4322\u001b[39m \u001b[38;5;28;01melse\u001b[39;00m:\n\u001b[32m-> \u001b[39m\u001b[32m4323\u001b[39m     loc = \u001b[43mindex\u001b[49m\u001b[43m.\u001b[49m\u001b[43mget_loc\u001b[49m\u001b[43m(\u001b[49m\u001b[43mkey\u001b[49m\u001b[43m)\u001b[49m\n\u001b[32m   4325\u001b[39m     \u001b[38;5;28;01mif\u001b[39;00m \u001b[38;5;28misinstance\u001b[39m(loc, np.ndarray):\n\u001b[32m   4326\u001b[39m         \u001b[38;5;28;01mif\u001b[39;00m loc.dtype == np.bool_:\n",
      "\u001b[36mFile \u001b[39m\u001b[32m~/anaconda3/envs/pap_finance/lib/python3.12/site-packages/pandas/core/indexes/base.py:3819\u001b[39m, in \u001b[36mIndex.get_loc\u001b[39m\u001b[34m(self, key)\u001b[39m\n\u001b[32m   3814\u001b[39m     \u001b[38;5;28;01mif\u001b[39;00m \u001b[38;5;28misinstance\u001b[39m(casted_key, \u001b[38;5;28mslice\u001b[39m) \u001b[38;5;129;01mor\u001b[39;00m (\n\u001b[32m   3815\u001b[39m         \u001b[38;5;28misinstance\u001b[39m(casted_key, abc.Iterable)\n\u001b[32m   3816\u001b[39m         \u001b[38;5;129;01mand\u001b[39;00m \u001b[38;5;28many\u001b[39m(\u001b[38;5;28misinstance\u001b[39m(x, \u001b[38;5;28mslice\u001b[39m) \u001b[38;5;28;01mfor\u001b[39;00m x \u001b[38;5;129;01min\u001b[39;00m casted_key)\n\u001b[32m   3817\u001b[39m     ):\n\u001b[32m   3818\u001b[39m         \u001b[38;5;28;01mraise\u001b[39;00m InvalidIndexError(key)\n\u001b[32m-> \u001b[39m\u001b[32m3819\u001b[39m     \u001b[38;5;28;01mraise\u001b[39;00m \u001b[38;5;167;01mKeyError\u001b[39;00m(key) \u001b[38;5;28;01mfrom\u001b[39;00m\u001b[38;5;250m \u001b[39m\u001b[34;01merr\u001b[39;00m\n\u001b[32m   3820\u001b[39m \u001b[38;5;28;01mexcept\u001b[39;00m \u001b[38;5;167;01mTypeError\u001b[39;00m:\n\u001b[32m   3821\u001b[39m     \u001b[38;5;66;03m# If we have a listlike key, _check_indexing_error will raise\u001b[39;00m\n\u001b[32m   3822\u001b[39m     \u001b[38;5;66;03m#  InvalidIndexError. Otherwise we fall through and re-raise\u001b[39;00m\n\u001b[32m   3823\u001b[39m     \u001b[38;5;66;03m#  the TypeError.\u001b[39;00m\n\u001b[32m   3824\u001b[39m     \u001b[38;5;28mself\u001b[39m._check_indexing_error(key)\n",
      "\u001b[31mKeyError\u001b[39m: 'Total Shares Number'"
     ]
    }
   ],
   "source": []
  },
  {
   "cell_type": "code",
   "execution_count": 15,
   "id": "20267213",
   "metadata": {},
   "outputs": [],
   "source": [
    "bg = info.balance_sheet.iloc[:,:-1]\n",
    "#Activos\n",
    "#Pasivos y Capital\n",
    "\n",
    "#Foto de como se encuentran estos 4 rubros en un dia determinado"
   ]
  },
  {
   "cell_type": "code",
   "execution_count": 25,
   "id": "a2a08426",
   "metadata": {},
   "outputs": [
    {
     "data": {
      "text/plain": [
       "2024-12-31    2.338795e+09\n",
       "2023-12-31    2.200128e+09\n",
       "2022-12-31    2.099075e+09\n",
       "2021-12-31    2.027474e+09\n",
       "Name: Ordinary Shares Number, dtype: float64"
      ]
     },
     "execution_count": 25,
     "metadata": {},
     "output_type": "execute_result"
    }
   ],
   "source": [
    "for v in (dir(bg)):\n",
    "    if 'shares' in v.lower():\n",
    "        print(v)\n",
    "\n",
    "bg.loc['Ordinary Shares Number']"
   ]
  },
  {
   "cell_type": "code",
   "execution_count": 5,
   "id": "b6aa249a",
   "metadata": {},
   "outputs": [],
   "source": [
    "edo=info.incomestmt.iloc[:,:-1]\n",
    "#Resultados de operaciones, ganancias\n",
    "\n",
    "#Cuales fueron las ganancias del año"
   ]
  },
  {
   "cell_type": "code",
   "execution_count": 6,
   "id": "1ab0fa49",
   "metadata": {},
   "outputs": [],
   "source": [
    "#Los EDos financieros estan dados por ACCRUAL BASIS(DEVENGO)\n",
    "#Las ventas/gastos se reconocen cuando se adquiere el compromiso, no cuando hay un flujo de efectivo"
   ]
  },
  {
   "cell_type": "code",
   "execution_count": 7,
   "id": "b3efae56",
   "metadata": {},
   "outputs": [],
   "source": [
    "#ventas / gastos\n",
    "# Cashflow -° todo lo que tiene que ver con entradas y salidas"
   ]
  },
  {
   "cell_type": "markdown",
   "id": "c1bdb086",
   "metadata": {},
   "source": [
    "venta de 1M\n",
    "\n",
    "Si la mitad va a credito y otra a contado\n",
    "\n",
    "IS -- revenue - 1m\n",
    "cf -- 500k"
   ]
  },
  {
   "cell_type": "markdown",
   "id": "35a8e667",
   "metadata": {},
   "source": [
    "### <font color='navy'> **Earnings Per Share (EPS)**  \n",
    "    \n",
    "Múltiplio financiero que nos indica el beneficio por acción que tiene una compañía, en teoría, indica la cantidad de ingresos que le corresponde a cada inversionista dado su número de acciones, las empresas con una ventaja competitiva a largo plazo siempre muestran EPS estables y positivos a lo largo de 3-10 años y en constante crecimiento.\n",
    "    \n",
    "    \n",
    "$$EPS = \\frac{Income}{Shares}$$"
   ]
  },
  {
   "cell_type": "code",
   "execution_count": 8,
   "id": "77eb6e2a",
   "metadata": {},
   "outputs": [
    {
     "data": {
      "text/plain": [
       "2024-12-31    462190000.0\n",
       "2023-12-31    209825000.0\n",
       "2022-12-31   -373705000.0\n",
       "2021-12-31   -520379000.0\n",
       "Name: Net Income Common Stockholders, dtype: float64"
      ]
     },
     "execution_count": 8,
     "metadata": {},
     "output_type": "execute_result"
    }
   ],
   "source": [
    "#Income - Ganancia\n",
    "income = edo.loc['Net Income Common Stockholders']\n",
    "income"
   ]
  },
  {
   "cell_type": "code",
   "execution_count": 9,
   "id": "b913eacc",
   "metadata": {},
   "outputs": [
    {
     "data": {
      "text/plain": [
       "2024-12-31    2.338795e+09\n",
       "2023-12-31    2.200128e+09\n",
       "2022-12-31    2.099075e+09\n",
       "2021-12-31    2.027474e+09\n",
       "Name: Ordinary Shares Number, dtype: float64"
      ]
     },
     "execution_count": 9,
     "metadata": {},
     "output_type": "execute_result"
    }
   ],
   "source": [
    "#n_shares\n",
    "n_shares = bg.loc['Ordinary Shares Number'] #ordinary is from the normal shareholders\n",
    "n_shares\n"
   ]
  },
  {
   "cell_type": "code",
   "execution_count": 10,
   "id": "912b8331",
   "metadata": {},
   "outputs": [
    {
     "data": {
      "text/plain": [
       "2024-12-31    0.197619\n",
       "2023-12-31    0.095369\n",
       "2022-12-31   -0.178033\n",
       "2021-12-31   -0.256664\n",
       "dtype: float64"
      ]
     },
     "execution_count": 10,
     "metadata": {},
     "output_type": "execute_result"
    }
   ],
   "source": [
    "eps = income/n_shares\n",
    "eps"
   ]
  },
  {
   "cell_type": "markdown",
   "id": "d77d9208",
   "metadata": {},
   "source": [
    "### <font color='navy'> **Price Earnings Ratio (PER)**  \n",
    "    \n",
    "El fundamental más importante para Graham y Buffet, indica cuántas veces se está pagando el beneficio neto anual de una empresa determinada al comprar una acción de esta, es decir, que tan cara o barata esta una acción, en función de su utilidad real y cuánto cuesta comprar una parte de la empresa.\n",
    "También indica el número de veces que el beneficio neto está contenida en el precio de la acción.\n",
    "\n",
    "\n",
    "Graham recomienda nunca comprar una acción cara o sobrevaluada, por lo que, sin importar si la empresa es muy buena, nunca se recomienda comprar cuando su PER es mayor a 25, cabe destacar, que el PER fluctúa junto con el mercado por eso en mercados bajistas, siempre se encuentra un mayor número de empresas a buen precio y en mercados alcistas es más difícil encontrarlas, pero siempre hay.\n",
    "\n",
    "\n",
    "\n",
    "$$PER = \\frac{Price}{Income/Shares} = \\frac{Price}{Earnings Per Share}$$\n",
    "    "
   ]
  },
  {
   "cell_type": "code",
   "execution_count": 11,
   "id": "9d4fbe74",
   "metadata": {},
   "outputs": [
    {
     "data": {
      "text/plain": [
       "[75.62999725341797, 16.579999923706055, 6.389999866485596, 18.209999084472656]"
      ]
     },
     "execution_count": 11,
     "metadata": {},
     "output_type": "execute_result"
    }
   ],
   "source": [
    "prices = [get_historical_price('PLTR', date) for date in eps.index]\n",
    "prices"
   ]
  },
  {
   "cell_type": "code",
   "execution_count": 12,
   "id": "495f2ea1",
   "metadata": {},
   "outputs": [
    {
     "data": {
      "text/plain": [
       "2024-12-31    382.706406\n",
       "2023-12-31    173.850196\n",
       "2022-12-31    -35.892185\n",
       "2021-12-31    -70.948866\n",
       "dtype: float64"
      ]
     },
     "execution_count": 12,
     "metadata": {},
     "output_type": "execute_result"
    }
   ],
   "source": [
    "prices / eps"
   ]
  },
  {
   "cell_type": "code",
   "execution_count": 13,
   "id": "7ec0e535",
   "metadata": {},
   "outputs": [],
   "source": [
    "#posible burbuja\n",
    "#inflada por guerras, IA\n",
    "\n",
    "#Acciones de value son las que proveen estabilidad en los ingresos\n",
    "#Con dividendos estables, incrementos en las ganancias estables\n",
    "\n",
    "#esta es una accion de growth, o poquito mas a corto plazo -efecto estacional o structural del contexto actual(guerra, ia)\n",
    "\n",
    "\n",
    "\n",
    "#Tambien se tiene que analizar el PER de otras empresas del mismo sector y y factorararlo\n",
    "#analzar si el secor esta sobrevalorado"
   ]
  },
  {
   "cell_type": "markdown",
   "id": "7438d95e",
   "metadata": {},
   "source": [
    "**El PER indica dado su valor:**\n",
    "\n",
    "+ 0 a 10: Acción infravalorada\n",
    "+ 10 a 17: Rango normal\n",
    "+ 17 a 25: Acción probablemente sobrevalorada\n",
    "+ Más de 25: Posible Burbuja\n",
    "\n",
    "\n",
    "Un **PER alto** muestra la acción esta sobrevalorada.\n",
    "\n",
    "Un **PER bajo** indica infravaloración."
   ]
  },
  {
   "cell_type": "markdown",
   "id": "5bd397c1",
   "metadata": {},
   "source": [
    "### <font color='navy'> **EBITDA**  \n",
    "\n",
    "Beneficio \"*real*\" de la empresa antes de amortizaciones, depreciaciones e impuestos. \n",
    "\n",
    "Es importante que este sea positivo y se compare contra el *benchmark* de mercado u otras empresas del mismo giro. Se utiliza debido a que, en teoría, las amortizaciones y depreciaciones no son un \"egreso real\", debido a que no sale dinero del bolsillo de una empresa, y por eso hay que tenerlas en cuenta para ver las utilidades de una empresa\n",
    "    \n",
    "    \n",
    "+ *Disclaimer:* Cabe destacar, que, aunque mucha gente toma el EBITDA como una métrica importante para el análisis fundamental, tanto Graham como Buffet recomiendan no usarla, ya que, si bien es correcto que en el momento no es un egreso real, la maquinaria, planta y equipo de una empresa esta acabando su vida útil, y cuando esta llegue a su fin, la empresa tendrá que desembolsar una gran cantidad de dinero para seguir operando."
   ]
  },
  {
   "cell_type": "code",
   "execution_count": 14,
   "id": "18b0efdb",
   "metadata": {},
   "outputs": [
    {
     "data": {
      "text/plain": [
       "2024-12-31    341990000.0\n",
       "2023-12-31    153320000.0\n",
       "2022-12-31   -138679000.0\n",
       "2021-12-31   -469957000.0\n",
       "Name: EBITDA, dtype: float64"
      ]
     },
     "execution_count": 14,
     "metadata": {},
     "output_type": "execute_result"
    }
   ],
   "source": [
    "ebitda = edo.loc['EBITDA']\n",
    "ebitda\n",
    "\n",
    "#No cuenta depreciaciones, asi que cuando el valor de una maquinaria llega a cero, la empresa tiene que comprar\n",
    "#por lo tanto gastar, y reducir ganancias"
   ]
  },
  {
   "cell_type": "markdown",
   "id": "bfaf3af4",
   "metadata": {},
   "source": [
    "### <font color='navy'> **Price Book Value (PBV)**  \n",
    "\n",
    "Múltiplo financiero que relaciona el Market Cap y el valor en libros. Se obtiene dividiendo el Market Cap entre el valor en libros de la empresa. \n",
    " \n",
    "El valor contable, es el valor neto que presenta su contabilidad, esto es, el valor de sus recursos propios, o lo que es lo mismo el pasivo total menos el pasivo exigible. \n",
    "    \n",
    "El precio valor libro se usa para medir si una acción se valora correctamente:\n",
    "    \n",
    "+ Una relación precio valor contable de uno significa que el precio de las acciones se cotiza en línea con el valor en libros de la empresa. En otras palabras, el precio de las acciones se consideraría razonablemente valorado, estrictamente desde el punto de vista de la relación precio valor en libros. \n",
    "    \n",
    "+ Una empresa con una relación precio valor en libros alta podría significar que el precio de las acciones está sobrevalorado\n",
    "    \n",
    "+ Una empresa con una relación precio valor contable más baja podría estar infravalorada.\n",
    "\n",
    "Sin embargo, la relación precio valor contable debe compararse con empresas del mismo sector. La proporción es más alta para algunas industrias que para otras. Por lo tanto, es importante compararlo con empresas con una composición similar de activos y pasivos.\n",
    "    \n",
    "También podría considerarse como un múltiplo que nos indica cuantas veces el mercado sobre-valora o infra-valora una empresa en función de sus expectativas y lo que realmente vale."
   ]
  },
  {
   "cell_type": "code",
   "execution_count": 15,
   "id": "6c36aba8",
   "metadata": {},
   "outputs": [
    {
     "data": {
      "text/plain": [
       "[75.62999725341797, 16.579999923706055, 6.389999866485596, 18.209999084472656]"
      ]
     },
     "execution_count": 15,
     "metadata": {},
     "output_type": "execute_result"
    }
   ],
   "source": [
    "#Price' -> Market Cap o como el precio por accion\n",
    "prices"
   ]
  },
  {
   "cell_type": "code",
   "execution_count": 16,
   "id": "b877de3d",
   "metadata": {},
   "outputs": [
    {
     "data": {
      "text/plain": [
       "2024-12-31    2.139253\n",
       "2023-12-31    1.579709\n",
       "2022-12-31    1.222122\n",
       "2021-12-31    1.129992\n",
       "dtype: float64"
      ]
     },
     "execution_count": 16,
     "metadata": {},
     "output_type": "execute_result"
    }
   ],
   "source": [
    "#Book -> book value o BVPS . Cuanto valia en realidad la empresa en libros, osea cuantos activos tenia\n",
    "bvps = bg.loc[ 'Common Stock Equity'] / n_shares\n",
    "bvps\n"
   ]
  },
  {
   "cell_type": "code",
   "execution_count": 17,
   "id": "9a809b10",
   "metadata": {},
   "outputs": [
    {
     "data": {
      "text/plain": [
       "2024-12-31    35.353458\n",
       "2023-12-31    10.495606\n",
       "2022-12-31     5.228610\n",
       "2021-12-31    16.115153\n",
       "dtype: float64"
      ]
     },
     "execution_count": 17,
     "metadata": {},
     "output_type": "execute_result"
    }
   ],
   "source": [
    "prices / bvps\n",
    "#La tendencia de cambio si importa\n",
    "#Si el valor se infla , significa que el dinero no se esta usando para comprar activos"
   ]
  },
  {
   "cell_type": "markdown",
   "id": "cb40deb4",
   "metadata": {},
   "source": [
    "### <font color='navy'> **Solvency**  \n",
    "    \n",
    "Múltiplo financiero que nos indica que tan solvente es una empresa para hacer frente a sus obligaciones, es decir, que tantos activos tiene contra los pasivos, esta se obtiene de la siguiente forma:\n",
    "    \n",
    "$$Solvency = \\frac{Assets}{Liabilities}$$"
   ]
  },
  {
   "cell_type": "code",
   "execution_count": 18,
   "id": "8706473f",
   "metadata": {},
   "outputs": [
    {
     "data": {
      "text/plain": [
       "2024-12-31    6.366234\n",
       "2023-12-31    6.062086\n",
       "2022-12-31    5.887052\n",
       "2021-12-31    4.919924\n",
       "dtype: float64"
      ]
     },
     "execution_count": 18,
     "metadata": {},
     "output_type": "execute_result"
    }
   ],
   "source": [
    "assets = bg.loc['Total Assets']\n",
    "liabilities = bg.loc['Current Liabilities'] #Usamos liabilities porque la deuda no cuenta futuras deudas\n",
    "assets / liabilities\n",
    "\n",
    "#Algunas empresas muy grandes, pero etsables no necesitan tener un ratio alto, poruqe generan mucho cashflow y pueden pagar sus deudas\n",
    "#si el ratio es alto pero el cashflow lo cubre entones no es malo"
   ]
  },
  {
   "cell_type": "markdown",
   "id": "6a076a0f",
   "metadata": {},
   "source": [
    "Si el resultado es inferior a 1.4, la situación es mala.  \n",
    "\n",
    "Si está entre 1.4 y 1.5, es normal.  \n",
    "\n",
    "Si es superior a 1.5, es buena.\n",
    "\n",
    "+ En el caso de empresas muy grandes, estas son tan solventes que no necesitan tener muchos activos para cubrir sus obligaciones, y a veces ni siquiera deuda, muchas veces con la utilidad de operación generada en un período es suficiente para cubrir sus deudas y hasta les sobra. "
   ]
  },
  {
   "cell_type": "markdown",
   "id": "0e8cfd0b",
   "metadata": {},
   "source": [
    "### <font color='navy'> **Return On Shareholder Equity (ROE)**\n",
    "\n",
    "Mide el porcentaje de rentabilidad que se puede ofrecer dado el Equity dado, es decir, que tanto provecho se le esta sacando al Capital que se tiene. Básicamente, expone las ganancias que los accionistas están obteniendo.\n",
    "    \n",
    "$$ROE = \\frac{Income}{Equity} * 100$$\n",
    "    \n",
    "El resultado esta expresado en %."
   ]
  },
  {
   "cell_type": "code",
   "execution_count": 19,
   "id": "950ec3c5",
   "metadata": {},
   "outputs": [
    {
     "data": {
      "text/plain": [
       "2024-12-31    462190000.0\n",
       "2023-12-31    209825000.0\n",
       "2022-12-31   -373705000.0\n",
       "2021-12-31   -520379000.0\n",
       "Name: Net Income Common Stockholders, dtype: float64"
      ]
     },
     "execution_count": 19,
     "metadata": {},
     "output_type": "execute_result"
    }
   ],
   "source": [
    "income\n"
   ]
  },
  {
   "cell_type": "code",
   "execution_count": 20,
   "id": "4d2a5a25",
   "metadata": {},
   "outputs": [],
   "source": [
    "equity = bg.loc[ 'Common Stock Equity']"
   ]
  },
  {
   "cell_type": "code",
   "execution_count": 21,
   "id": "32cb817e",
   "metadata": {},
   "outputs": [
    {
     "data": {
      "text/plain": [
       "2024-12-31     9.237749\n",
       "2023-12-31     6.037155\n",
       "2022-12-31   -14.567544\n",
       "2021-12-31   -22.713758\n",
       "dtype: float64"
      ]
     },
     "execution_count": 21,
     "metadata": {},
     "output_type": "execute_result"
    }
   ],
   "source": [
    "income / equity * 100 #9% de los ingresos se generan del equity\n",
    "#que tanto provecho se le esta sacanado al capital que se tiene\n",
    "\n",
    "#Buscamos tendencia creciente o a la alza - ventaja competitiva es durable"
   ]
  },
  {
   "cell_type": "markdown",
   "id": "7ea8423c",
   "metadata": {},
   "source": [
    "+ Si el resultado es inferior a 3, la situación es mala; si está entre 3 y 8, es normal; si es superior a 8, es buena. Se espera un resultado consistente y en crecimiento.\n",
    "\n",
    "Este ratio, **habla de que tan buena es la administación de una empresa para poner a trabajar el dinero de sus inversionistas**, medido a través de los ingresos de operación de la misma, se recomienda que las empresas en las que inviertas tengan un return on shareholder´s equity mayor al promedio del sector en el cual participan. \n",
    "\n",
    "Si sucede esto, significa que una empresa esta haciendo un buen uso de las ganacias generadas por la operación de la misma, lo cual aumentará paulatinamento el valor intrínseco de la empresa, aumentando el precio de su acción.\n"
   ]
  },
  {
   "cell_type": "code",
   "execution_count": 22,
   "id": "f370733e",
   "metadata": {},
   "outputs": [],
   "source": [
    "cashflow = info.cashflow"
   ]
  },
  {
   "cell_type": "code",
   "execution_count": 23,
   "id": "e76162d5",
   "metadata": {},
   "outputs": [
    {
     "data": {
      "text/html": [
       "<div>\n",
       "<style scoped>\n",
       "    .dataframe tbody tr th:only-of-type {\n",
       "        vertical-align: middle;\n",
       "    }\n",
       "\n",
       "    .dataframe tbody tr th {\n",
       "        vertical-align: top;\n",
       "    }\n",
       "\n",
       "    .dataframe thead th {\n",
       "        text-align: right;\n",
       "    }\n",
       "</style>\n",
       "<table border=\"1\" class=\"dataframe\">\n",
       "  <thead>\n",
       "    <tr style=\"text-align: right;\">\n",
       "      <th></th>\n",
       "      <th>2024-12-31</th>\n",
       "      <th>2023-12-31</th>\n",
       "      <th>2022-12-31</th>\n",
       "      <th>2021-12-31</th>\n",
       "      <th>2020-12-31</th>\n",
       "    </tr>\n",
       "  </thead>\n",
       "  <tbody>\n",
       "    <tr>\n",
       "      <th>Free Cash Flow</th>\n",
       "      <td>1.141231e+09</td>\n",
       "      <td>697069000.0</td>\n",
       "      <td>183710000.0</td>\n",
       "      <td>321224000.0</td>\n",
       "      <td>NaN</td>\n",
       "    </tr>\n",
       "    <tr>\n",
       "      <th>Repurchase Of Capital Stock</th>\n",
       "      <td>-6.419600e+07</td>\n",
       "      <td>0.0</td>\n",
       "      <td>0.0</td>\n",
       "      <td>0.0</td>\n",
       "      <td>NaN</td>\n",
       "    </tr>\n",
       "    <tr>\n",
       "      <th>Repayment Of Debt</th>\n",
       "      <td>NaN</td>\n",
       "      <td>0.0</td>\n",
       "      <td>0.0</td>\n",
       "      <td>-200000000.0</td>\n",
       "      <td>-400000000.0</td>\n",
       "    </tr>\n",
       "    <tr>\n",
       "      <th>Issuance Of Debt</th>\n",
       "      <td>NaN</td>\n",
       "      <td>NaN</td>\n",
       "      <td>0.0</td>\n",
       "      <td>0.0</td>\n",
       "      <td>199369000.0</td>\n",
       "    </tr>\n",
       "    <tr>\n",
       "      <th>Issuance Of Capital Stock</th>\n",
       "      <td>NaN</td>\n",
       "      <td>NaN</td>\n",
       "      <td>0.0</td>\n",
       "      <td>0.0</td>\n",
       "      <td>942529000.0</td>\n",
       "    </tr>\n",
       "    <tr>\n",
       "      <th>...</th>\n",
       "      <td>...</td>\n",
       "      <td>...</td>\n",
       "      <td>...</td>\n",
       "      <td>...</td>\n",
       "      <td>...</td>\n",
       "    </tr>\n",
       "    <tr>\n",
       "      <th>Depreciation Amortization Depletion</th>\n",
       "      <td>3.158700e+07</td>\n",
       "      <td>33354000.0</td>\n",
       "      <td>22522000.0</td>\n",
       "      <td>14897000.0</td>\n",
       "      <td>NaN</td>\n",
       "    </tr>\n",
       "    <tr>\n",
       "      <th>Depreciation And Amortization</th>\n",
       "      <td>3.158700e+07</td>\n",
       "      <td>33354000.0</td>\n",
       "      <td>22522000.0</td>\n",
       "      <td>14897000.0</td>\n",
       "      <td>NaN</td>\n",
       "    </tr>\n",
       "    <tr>\n",
       "      <th>Operating Gains Losses</th>\n",
       "      <td>NaN</td>\n",
       "      <td>NaN</td>\n",
       "      <td>NaN</td>\n",
       "      <td>NaN</td>\n",
       "      <td>-811000.0</td>\n",
       "    </tr>\n",
       "    <tr>\n",
       "      <th>Gain Loss On Investment Securities</th>\n",
       "      <td>NaN</td>\n",
       "      <td>NaN</td>\n",
       "      <td>NaN</td>\n",
       "      <td>NaN</td>\n",
       "      <td>-811000.0</td>\n",
       "    </tr>\n",
       "    <tr>\n",
       "      <th>Net Income From Continuing Operations</th>\n",
       "      <td>4.679180e+08</td>\n",
       "      <td>217375000.0</td>\n",
       "      <td>-371094000.0</td>\n",
       "      <td>-520379000.0</td>\n",
       "      <td>NaN</td>\n",
       "    </tr>\n",
       "  </tbody>\n",
       "</table>\n",
       "<p>61 rows × 5 columns</p>\n",
       "</div>"
      ],
      "text/plain": [
       "                                         2024-12-31   2023-12-31   2022-12-31  \\\n",
       "Free Cash Flow                         1.141231e+09  697069000.0  183710000.0   \n",
       "Repurchase Of Capital Stock           -6.419600e+07          0.0          0.0   \n",
       "Repayment Of Debt                               NaN          0.0          0.0   \n",
       "Issuance Of Debt                                NaN          NaN          0.0   \n",
       "Issuance Of Capital Stock                       NaN          NaN          0.0   \n",
       "...                                             ...          ...          ...   \n",
       "Depreciation Amortization Depletion    3.158700e+07   33354000.0   22522000.0   \n",
       "Depreciation And Amortization          3.158700e+07   33354000.0   22522000.0   \n",
       "Operating Gains Losses                          NaN          NaN          NaN   \n",
       "Gain Loss On Investment Securities              NaN          NaN          NaN   \n",
       "Net Income From Continuing Operations  4.679180e+08  217375000.0 -371094000.0   \n",
       "\n",
       "                                        2021-12-31   2020-12-31  \n",
       "Free Cash Flow                         321224000.0          NaN  \n",
       "Repurchase Of Capital Stock                    0.0          NaN  \n",
       "Repayment Of Debt                     -200000000.0 -400000000.0  \n",
       "Issuance Of Debt                               0.0  199369000.0  \n",
       "Issuance Of Capital Stock                      0.0  942529000.0  \n",
       "...                                            ...          ...  \n",
       "Depreciation Amortization Depletion     14897000.0          NaN  \n",
       "Depreciation And Amortization           14897000.0          NaN  \n",
       "Operating Gains Losses                         NaN    -811000.0  \n",
       "Gain Loss On Investment Securities             NaN    -811000.0  \n",
       "Net Income From Continuing Operations -520379000.0          NaN  \n",
       "\n",
       "[61 rows x 5 columns]"
      ]
     },
     "execution_count": 23,
     "metadata": {},
     "output_type": "execute_result"
    }
   ],
   "source": [
    "cashflow"
   ]
  },
  {
   "cell_type": "code",
   "execution_count": 24,
   "id": "388310fa",
   "metadata": {},
   "outputs": [
    {
     "data": {
      "text/plain": [
       "'\\n1. Chasflow from operations (CFO)\\n    -Salidas y entradas de la operacion: Ventas, compras, gastos, etc.\\n2. Chasflow from investing (CFI)\\n    - CAPEX(Maquinaria, tierras, propiedades, etc)\\n3. Chasflow from financing (CFF)\\n    - Emision de deuda, equity\\n    - Pedir al banco o emitir deuda(la empresa va al mercado y emite un certificado de deuda)\\n'"
      ]
     },
     "execution_count": 24,
     "metadata": {},
     "output_type": "execute_result"
    }
   ],
   "source": [
    "\"\"\"\n",
    "1. Chasflow from operations (CFO)\n",
    "    -Salidas y entradas de la operacion: Ventas, compras, gastos, etc.\n",
    "2. Chasflow from investing (CFI)\n",
    "    - CAPEX(Maquinaria, tierras, propiedades, etc)\n",
    "3. Chasflow from financing (CFF)\n",
    "    - Emision de deuda, equity\n",
    "    - Pedir al banco o emitir deuda(la empresa va al mercado y emite un certificado de deuda)\n",
    "\"\"\"\n",
    "\n",
    "#CFO comparado con el net income, para saber que tanto del income viene de operaciones\n",
    "#Free cashflow \n",
    "#para evaluar empresas\n",
    "\n",
    "#FCF = CFO + Non cash Charges - Inc. Working Capital\n",
    "\n",
    "# Non cash charges -depreciacion, amortizacion, ganancias en ventas o comprar\n",
    "\n",
    "#Working Capital: Current assets - Current liabilities: Cuantos necesitas para operar"
   ]
  },
  {
   "cell_type": "markdown",
   "id": "6bee93b5",
   "metadata": {},
   "source": [
    "## <font color='navy'> **Actividad**\n",
    "    \n",
    "Para dentro de dos semanas (la siguiente tienen la entrega del proyecto), entregar en un **Jupyter Notebook** descargado en **html** el análisis de cinco fundamentales de dos acciones (las que ustedes escojan).\n",
    "    \n",
    "La entrega deberá constar de un análisis de: \n",
    "    \n",
    "+ **Cinco Fundamentales** distintos a los presentados y su respectiva teoría e interpretación de dos empresas elegidas por ustedes, con el cálculo prográmatico haciendo uso de la librería de Yahoo Finance. Proveer un respectivo consejo de inversión en la empresa en base a estos. \n",
    "    "
   ]
  },
  {
   "cell_type": "code",
   "execution_count": 2,
   "id": "70c6be70",
   "metadata": {},
   "outputs": [],
   "source": [
    "#Get historical price of a day\n",
    "def get_historical_price(ticker: str, start: str):\n",
    "    end = start+datetime.timedelta(days=4)\n",
    "    price=pd.DataFrame(yf.Ticker(ticker).history(start=start, end=end)[\"Close\"])\n",
    "    return price.iloc[0, 0]"
   ]
  },
  {
   "cell_type": "code",
   "execution_count": null,
   "id": "35af4a04",
   "metadata": {},
   "outputs": [],
   "source": [
    "def fundamental_analysis(ticker: str, use_quarterly: bool = False):\n",
    "    info = yf.Ticker(ticker)\n",
    "    if info is None:\n",
    "        print(f\"   - Error: Ticker {ticker} not found\")\n",
    "        return None\n",
    "\n",
    "    if use_quarterly:\n",
    "        bg = info.quarterly_balance_sheet.iloc[:,:-1]\n",
    "        edo = info.quarterly_income_stmt.iloc[:,:-1]\n",
    "        cashflow = info.quarterly_cashflow\n",
    "    else:\n",
    "        bg = info.balance_sheet.iloc[:,:-1]\n",
    "        edo = info.incomestmt.iloc[:,:-1]\n",
    "        cashflow = info.cashflow\n",
    "\n",
    "    if bg.size == 0 or edo.size == 0 or cashflow.size == 0:\n",
    "        print(f\"   - Error: Incomplete data for {ticker}. Won't be analyzed\")\n",
    "        return None\n",
    "   \n",
    "    incomplete = False\n",
    "\n",
    "    try:\n",
    "        income = edo.loc['Net Income Common Stockholders']\n",
    "        n_shares = bg.loc['Ordinary Shares Number']\n",
    "\n",
    "        # Calculate Earning Per Share (EPS)\n",
    "        eps = income / n_shares\n",
    "        eps.sort_index(inplace=True, ascending=False)\n",
    "\n",
    "    except Exception as e:\n",
    "        print(f\"   - Error in EPS calculation: {e}\")\n",
    "        eps = None\n",
    "        incomplete = True\n",
    "        \n",
    "\n",
    "    try:\n",
    "        prices = pd.Series([get_historical_price(ticker, date) for date in eps.index], index=eps.index)\n",
    "        prices.sort_index(inplace=True, ascending=False)\n",
    "\n",
    "\n",
    "        #Price Earnings Ratio (PER)\n",
    "        per = prices / eps\n",
    "        per.sort_index(inplace=True, ascending=False)\n",
    "\n",
    "    except Exception as e:\n",
    "        print(f\"   - Error in PER calculation: {e}\")\n",
    "        per = None\n",
    "        incomplete = True\n",
    "\n",
    "    try:\n",
    "        #EBITDA\n",
    "        ebitda = edo.loc['EBITDA']\n",
    "        ebitda.sort_index(inplace=True, ascending=False)\n",
    "\n",
    "    except Exception as e:\n",
    "        print(f\"   - Error in EBITDA calculation: {e} \")\n",
    "        ebitda = None\n",
    "        incomplete = True\n",
    "    try:\n",
    "        #Price Book Value (PBV)\n",
    "        bvps = bg.loc[ 'Common Stock Equity'] / n_shares\n",
    "        pbv = prices / bvps\n",
    "        pbv.sort_index(inplace=True, ascending=False)\n",
    "    except Exception as e:\n",
    "        print(f\"   - Error in PBV calculation: {e}\")\n",
    "        pbv = None\n",
    "        incomplete = True\n",
    "    \n",
    "    try:\n",
    "        #Solvency\n",
    "        assets = bg.loc['Total Assets']\n",
    "        liabilities = bg.loc['Current Liabilities']\n",
    "        solvency = assets / liabilities\n",
    "        solvency.sort_index(inplace=True, ascending=False)\n",
    "\n",
    "    except Exception as e:\n",
    "        print(f\"   - Error in Solvency calculation: {e}\")\n",
    "        solvency = None\n",
    "        incomplete = True\n",
    "\n",
    "    try:\n",
    "        #Return on Shareholder Equity (ROE)\n",
    "        equity = bg.loc[ 'Common Stock Equity']\n",
    "        roe = (income / equity) * 100\n",
    "        roe.sort_index(inplace=True, ascending=False)\n",
    "\n",
    "    except Exception as e:  \n",
    "        print(f\"   - Error in ROE calculation\")\n",
    "        roe = None\n",
    "        incomplete = True\n",
    "    try:\n",
    "        #Free Cashflow\n",
    "        cfo = cashflow.loc['Operating Cash Flow']\n",
    "        non_cash_charges = cashflow.loc['Depreciation And Amortization']\n",
    "        inc_working_capital = bg.loc['Total Assets'] - bg.loc['Current Liabilities']\n",
    "        fcf = cfo + non_cash_charges - inc_working_capital\n",
    "        fcf.sort_index(inplace=True, ascending=False)\n",
    "        \n",
    "    except Exception as e   :\n",
    "        print(f\"   - Error in FCF calculation: {e}\")\n",
    "        fcf = None\n",
    "        incomplete = True\n",
    "\n",
    "    return {\n",
    "        'eps': eps,\n",
    "        'per': per,\n",
    "        'ebitda': ebitda,\n",
    "        'pbv': pbv,\n",
    "        'solvency': solvency,\n",
    "        'roe': roe,\n",
    "        'fcf': fcf,\n",
    "        'prices': prices,\n",
    "        'incomplete': incomplete\n",
    "    }\n",
    "    \n"
   ]
  },
  {
   "cell_type": "code",
   "execution_count": 43,
   "id": "071be2cf",
   "metadata": {},
   "outputs": [],
   "source": [
    "def dataset_generator(tickers: list[str]):\n",
    "    \"\"\"\n",
    "    Generates a dataset of fundamental analysis for a list of tickers.\n",
    "    \"\"\"\n",
    "    results = pd.DataFrame()\n",
    "    results.to_csv('results.csv', index=False)\n",
    "    incomplete = pd.DataFrame()\n",
    "    incomplete.to_csv('incomplete.csv', index=False)\n",
    "\n",
    "     # Batch accumulator\n",
    "    batch = pd.DataFrame()\n",
    "    incomplete_list = []\n",
    "    for i, ticker in enumerate(tickers):\n",
    "        print(f\"Processing ticker {ticker}:  {i}/{len(tickers)}\")\n",
    "        result = fundamental_analysis(ticker, use_quarterly=False)\n",
    "        result = pd.DataFrame(result)\n",
    "        result['ticker'] = ticker\n",
    "        result['returns'] = result['prices'].pct_change()\n",
    "        \n",
    "        result = result.dropna(how='all', subset=[col for col in result.columns if col not in ['ticker', 'incomplete']])\n",
    "        result['date'] = result.index\n",
    "        \n",
    "        if result['incomplete'].sum() > 0:\n",
    "            incomplete_list.append(ticker)\n",
    "    \n",
    "        results = pd.concat([results, result])\n",
    "\n",
    "         # Add to batch\n",
    "        batch = pd.concat([batch, result])\n",
    "        results = pd.concat([results, result])\n",
    "        \n",
    "        # Save every 20 iterations OR on the last iteration\n",
    "        if (i + 1) % 20 == 0 or (i + 1) == len(tickers):\n",
    "            batch.to_csv('results.csv', mode='a', index=False)\n",
    "            batch = pd.DataFrame()\n",
    "\n",
    "            if incomplete_list:\n",
    "                pd.DataFrame({'ticker': incomplete_list}).to_csv('incomplete.csv', index=False, mode='a')\n",
    "                incomplete_list = []\n",
    "        \n",
    "                \n",
    "\n",
    "    return results"
   ]
  },
  {
   "cell_type": "markdown",
   "id": "f2cbcdf2",
   "metadata": {},
   "source": [
    "### Analyzing all SP500 ###"
   ]
  },
  {
   "cell_type": "code",
   "execution_count": null,
   "id": "33b176ae",
   "metadata": {},
   "outputs": [],
   "source": [
    "sp500 = pd.read_csv('sp500_companies.csv') \n",
    "sp_500_tickers = sp500['Symbol'].tolist()"
   ]
  },
  {
   "cell_type": "code",
   "execution_count": null,
   "id": "1322e1d3",
   "metadata": {},
   "outputs": [],
   "source": [
    "final = dataset_generator(sp_500_tickers)"
   ]
  },
  {
   "cell_type": "markdown",
   "id": "9ab4817f",
   "metadata": {},
   "source": [
    "\n"
   ]
  },
  {
   "cell_type": "code",
   "execution_count": 49,
   "id": "e887df40",
   "metadata": {},
   "outputs": [
    {
     "data": {
      "text/html": [
       "<div>\n",
       "<style scoped>\n",
       "    .dataframe tbody tr th:only-of-type {\n",
       "        vertical-align: middle;\n",
       "    }\n",
       "\n",
       "    .dataframe tbody tr th {\n",
       "        vertical-align: top;\n",
       "    }\n",
       "\n",
       "    .dataframe thead th {\n",
       "        text-align: right;\n",
       "    }\n",
       "</style>\n",
       "<table border=\"1\" class=\"dataframe\">\n",
       "  <thead>\n",
       "    <tr style=\"text-align: right;\">\n",
       "      <th></th>\n",
       "      <th>eps</th>\n",
       "      <th>per</th>\n",
       "      <th>ebitda</th>\n",
       "      <th>pbv</th>\n",
       "      <th>solvency</th>\n",
       "      <th>roe</th>\n",
       "      <th>fcf</th>\n",
       "      <th>prices</th>\n",
       "      <th>incomplete</th>\n",
       "      <th>ticker</th>\n",
       "      <th>returns</th>\n",
       "      <th>date</th>\n",
       "    </tr>\n",
       "  </thead>\n",
       "  <tbody>\n",
       "    <tr>\n",
       "      <th>0</th>\n",
       "      <td>6.259821838783072</td>\n",
       "      <td>21.73422369964949</td>\n",
       "      <td>130541000000.0</td>\n",
       "      <td>42.80748199984445</td>\n",
       "      <td>2.290884648855061</td>\n",
       "      <td>196.95887275023682</td>\n",
       "      <td>-65518000000.0</td>\n",
       "      <td>136.0523681640625</td>\n",
       "      <td>False</td>\n",
       "      <td>AAPL</td>\n",
       "      <td>NaN</td>\n",
       "      <td>2022-09-30</td>\n",
       "    </tr>\n",
       "    <tr>\n",
       "      <th>1</th>\n",
       "      <td>6.237596109751595</td>\n",
       "      <td>27.58508533482652</td>\n",
       "      <td>125820000000.0</td>\n",
       "      <td>43.05370179981814</td>\n",
       "      <td>2.426452776171993</td>\n",
       "      <td>156.07601454639075</td>\n",
       "      <td>-85213000000.0</td>\n",
       "      <td>172.0646209716797</td>\n",
       "      <td>False</td>\n",
       "      <td>AAPL</td>\n",
       "      <td>0.2646940534264779</td>\n",
       "      <td>2023-09-30</td>\n",
       "    </tr>\n",
       "    <tr>\n",
       "      <th>2</th>\n",
       "      <td>6.200788977233652</td>\n",
       "      <td>37.401795140842275</td>\n",
       "      <td>134661000000.0</td>\n",
       "      <td>61.560924834451114</td>\n",
       "      <td>2.069141457662479</td>\n",
       "      <td>164.59350307287096</td>\n",
       "      <td>-58889000000.0</td>\n",
       "      <td>231.92063903808594</td>\n",
       "      <td>False</td>\n",
       "      <td>AAPL</td>\n",
       "      <td>0.34786940934393495</td>\n",
       "      <td>2024-09-30</td>\n",
       "    </tr>\n",
       "    <tr>\n",
       "      <th>3</th>\n",
       "      <td>NaN</td>\n",
       "      <td>NaN</td>\n",
       "      <td>NaN</td>\n",
       "      <td>23.01468853769169</td>\n",
       "      <td>10.193079584775086</td>\n",
       "      <td>NaN</td>\n",
       "      <td>-29570000000.0</td>\n",
       "      <td>24.440019607543945</td>\n",
       "      <td>False</td>\n",
       "      <td>NVDA</td>\n",
       "      <td>NaN</td>\n",
       "      <td>2022-01-31</td>\n",
       "    </tr>\n",
       "    <tr>\n",
       "      <th>4</th>\n",
       "      <td>0.1771191445596874</td>\n",
       "      <td>110.20013013654662</td>\n",
       "      <td>5986000000.0</td>\n",
       "      <td>21.779746094585565</td>\n",
       "      <td>6.274874295291787</td>\n",
       "      <td>19.763811592235644</td>\n",
       "      <td>-27435000000.0</td>\n",
       "      <td>19.518552780151367</td>\n",
       "      <td>False</td>\n",
       "      <td>NVDA</td>\n",
       "      <td>-0.2013691849033321</td>\n",
       "      <td>2023-01-31</td>\n",
       "    </tr>\n",
       "    <tr>\n",
       "      <th>...</th>\n",
       "      <td>...</td>\n",
       "      <td>...</td>\n",
       "      <td>...</td>\n",
       "      <td>...</td>\n",
       "      <td>...</td>\n",
       "      <td>...</td>\n",
       "      <td>...</td>\n",
       "      <td>...</td>\n",
       "      <td>...</td>\n",
       "      <td>...</td>\n",
       "      <td>...</td>\n",
       "      <td>...</td>\n",
       "    </tr>\n",
       "    <tr>\n",
       "      <th>1933</th>\n",
       "      <td>1.5457090353470455</td>\n",
       "      <td>20.341310651875638</td>\n",
       "      <td>1296000000.0</td>\n",
       "      <td>1.2428349602917508</td>\n",
       "      <td>3.837904552934723</td>\n",
       "      <td>6.109906001446132</td>\n",
       "      <td>-8292000000.0</td>\n",
       "      <td>31.441747665405273</td>\n",
       "      <td>False</td>\n",
       "      <td>BWA</td>\n",
       "      <td>-0.10379423595809212</td>\n",
       "      <td>2024-12-31</td>\n",
       "    </tr>\n",
       "    <tr>\n",
       "      <th>1934</th>\n",
       "      <td>NaN</td>\n",
       "      <td>NaN</td>\n",
       "      <td>NaN</td>\n",
       "      <td>2.897335936428806</td>\n",
       "      <td>11.122458441152553</td>\n",
       "      <td>NaN</td>\n",
       "      <td>-5423287000.0</td>\n",
       "      <td>124.0999984741211</td>\n",
       "      <td>False</td>\n",
       "      <td>QRVO</td>\n",
       "      <td>NaN</td>\n",
       "      <td>2022-03-31</td>\n",
       "    </tr>\n",
       "    <tr>\n",
       "      <th>1935</th>\n",
       "      <td>1.045646686737828</td>\n",
       "      <td>97.13606037589882</td>\n",
       "      <td>531940000.0</td>\n",
       "      <td>2.5673348119051926</td>\n",
       "      <td>12.040929316993035</td>\n",
       "      <td>2.643029583421518</td>\n",
       "      <td>-4954061000.0</td>\n",
       "      <td>101.56999969482422</td>\n",
       "      <td>False</td>\n",
       "      <td>QRVO</td>\n",
       "      <td>-0.18154713179948279</td>\n",
       "      <td>2023-03-31</td>\n",
       "    </tr>\n",
       "    <tr>\n",
       "      <th>1936</th>\n",
       "      <td>-0.7340654293409048</td>\n",
       "      <td>-155.50385151412286</td>\n",
       "      <td>463738000.0</td>\n",
       "      <td>3.0748588297782535</td>\n",
       "      <td>5.3285946441186685</td>\n",
       "      <td>-1.9773522005009598</td>\n",
       "      <td>-4170426000.0</td>\n",
       "      <td>114.1500015258789</td>\n",
       "      <td>False</td>\n",
       "      <td>QRVO</td>\n",
       "      <td>0.12385548753423636</td>\n",
       "      <td>2024-03-31</td>\n",
       "    </tr>\n",
       "    <tr>\n",
       "      <th>1937</th>\n",
       "      <td>0.5985256134309083</td>\n",
       "      <td>120.98062645479104</td>\n",
       "      <td>441063000.0</td>\n",
       "      <td>1.9834076406542804</td>\n",
       "      <td>7.575673342850066</td>\n",
       "      <td>1.6394423626128731</td>\n",
       "      <td>-4230911000.0</td>\n",
       "      <td>72.41000366210938</td>\n",
       "      <td>False</td>\n",
       "      <td>QRVO</td>\n",
       "      <td>-0.36565919672201386</td>\n",
       "      <td>2025-03-31</td>\n",
       "    </tr>\n",
       "  </tbody>\n",
       "</table>\n",
       "<p>1938 rows × 12 columns</p>\n",
       "</div>"
      ],
      "text/plain": [
       "                      eps                  per          ebitda  \\\n",
       "0       6.259821838783072    21.73422369964949  130541000000.0   \n",
       "1       6.237596109751595    27.58508533482652  125820000000.0   \n",
       "2       6.200788977233652   37.401795140842275  134661000000.0   \n",
       "3                     NaN                  NaN             NaN   \n",
       "4      0.1771191445596874   110.20013013654662    5986000000.0   \n",
       "...                   ...                  ...             ...   \n",
       "1933   1.5457090353470455   20.341310651875638    1296000000.0   \n",
       "1934                  NaN                  NaN             NaN   \n",
       "1935    1.045646686737828    97.13606037589882     531940000.0   \n",
       "1936  -0.7340654293409048  -155.50385151412286     463738000.0   \n",
       "1937   0.5985256134309083   120.98062645479104     441063000.0   \n",
       "\n",
       "                     pbv            solvency                  roe  \\\n",
       "0      42.80748199984445   2.290884648855061   196.95887275023682   \n",
       "1      43.05370179981814   2.426452776171993   156.07601454639075   \n",
       "2     61.560924834451114   2.069141457662479   164.59350307287096   \n",
       "3      23.01468853769169  10.193079584775086                  NaN   \n",
       "4     21.779746094585565   6.274874295291787   19.763811592235644   \n",
       "...                  ...                 ...                  ...   \n",
       "1933  1.2428349602917508   3.837904552934723    6.109906001446132   \n",
       "1934   2.897335936428806  11.122458441152553                  NaN   \n",
       "1935  2.5673348119051926  12.040929316993035    2.643029583421518   \n",
       "1936  3.0748588297782535  5.3285946441186685  -1.9773522005009598   \n",
       "1937  1.9834076406542804   7.575673342850066   1.6394423626128731   \n",
       "\n",
       "                 fcf              prices incomplete ticker  \\\n",
       "0     -65518000000.0   136.0523681640625      False   AAPL   \n",
       "1     -85213000000.0   172.0646209716797      False   AAPL   \n",
       "2     -58889000000.0  231.92063903808594      False   AAPL   \n",
       "3     -29570000000.0  24.440019607543945      False   NVDA   \n",
       "4     -27435000000.0  19.518552780151367      False   NVDA   \n",
       "...              ...                 ...        ...    ...   \n",
       "1933   -8292000000.0  31.441747665405273      False    BWA   \n",
       "1934   -5423287000.0   124.0999984741211      False   QRVO   \n",
       "1935   -4954061000.0  101.56999969482422      False   QRVO   \n",
       "1936   -4170426000.0   114.1500015258789      False   QRVO   \n",
       "1937   -4230911000.0   72.41000366210938      False   QRVO   \n",
       "\n",
       "                   returns        date  \n",
       "0                      NaN  2022-09-30  \n",
       "1       0.2646940534264779  2023-09-30  \n",
       "2      0.34786940934393495  2024-09-30  \n",
       "3                      NaN  2022-01-31  \n",
       "4      -0.2013691849033321  2023-01-31  \n",
       "...                    ...         ...  \n",
       "1933  -0.10379423595809212  2024-12-31  \n",
       "1934                   NaN  2022-03-31  \n",
       "1935  -0.18154713179948279  2023-03-31  \n",
       "1936   0.12385548753423636  2024-03-31  \n",
       "1937  -0.36565919672201386  2025-03-31  \n",
       "\n",
       "[1938 rows x 12 columns]"
      ]
     },
     "execution_count": 49,
     "metadata": {},
     "output_type": "execute_result"
    }
   ],
   "source": [
    "a = pd.read_csv('results.csv')\n",
    "a"
   ]
  },
  {
   "cell_type": "code",
   "execution_count": null,
   "id": "caf62106",
   "metadata": {},
   "outputs": [],
   "source": []
  }
 ],
 "metadata": {
  "kernelspec": {
   "display_name": "pap_finance",
   "language": "python",
   "name": "python3"
  },
  "language_info": {
   "codemirror_mode": {
    "name": "ipython",
    "version": 3
   },
   "file_extension": ".py",
   "mimetype": "text/x-python",
   "name": "python",
   "nbconvert_exporter": "python",
   "pygments_lexer": "ipython3",
   "version": "3.12.11"
  }
 },
 "nbformat": 4,
 "nbformat_minor": 5
}
